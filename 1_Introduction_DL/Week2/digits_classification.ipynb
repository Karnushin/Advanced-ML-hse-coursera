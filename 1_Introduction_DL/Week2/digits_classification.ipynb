{
 "cells": [
  {
   "cell_type": "markdown",
   "metadata": {},
   "source": [
    "**MADE IN GOOGLE COLAB**"
   ]
  },
  {
   "cell_type": "code",
   "execution_count": null,
   "metadata": {
    "colab": {
     "base_uri": "https://localhost:8080/",
     "height": 306
    },
    "colab_type": "code",
    "executionInfo": {
     "elapsed": 12939,
     "status": "ok",
     "timestamp": 1593456506461,
     "user": {
      "displayName": "Valera Karnushin",
      "photoUrl": "https://lh3.googleusercontent.com/a-/AOh14GjO7AN5Womfzv4SNPuWUoQqk3PtCv6chVdYaRpr=s64",
      "userId": "18443405740041874800"
     },
     "user_tz": -180
    },
    "id": "jMSEdV4qSO-G",
    "outputId": "6921e4d4-eecc-48fa-8ba4-1cd28a99b39d"
   },
   "outputs": [
    {
     "name": "stdout",
     "output_type": "stream",
     "text": [
      "--2020-06-29 18:48:15--  https://raw.githubusercontent.com/hse-aml/intro-to-dl/master/setup_google_colab.py\n",
      "Resolving raw.githubusercontent.com (raw.githubusercontent.com)... 151.101.0.133, 151.101.64.133, 151.101.128.133, ...\n",
      "Connecting to raw.githubusercontent.com (raw.githubusercontent.com)|151.101.0.133|:443... connected.\n",
      "HTTP request sent, awaiting response... 200 OK\n",
      "Length: 3636 (3.6K) [text/plain]\n",
      "Saving to: ‘setup_google_colab.py’\n",
      "\n",
      "\r",
      "setup_google_colab.   0%[                    ]       0  --.-KB/s               \r",
      "setup_google_colab. 100%[===================>]   3.55K  --.-KB/s    in 0s      \n",
      "\n",
      "2020-06-29 18:48:15 (45.7 MB/s) - ‘setup_google_colab.py’ saved [3636/3636]\n",
      "\n",
      "**************************************************\n",
      "inception_v3_weights_tf_dim_ordering_tf_kernels_notop.h5\n",
      "**************************************************\n",
      "cifar-10-batches-py.tar.gz\n",
      "**************************************************\n",
      "mnist.npz\n"
     ]
    }
   ],
   "source": [
    "! shred -u setup_google_colab.py\n",
    "! wget https://raw.githubusercontent.com/hse-aml/intro-to-dl/master/setup_google_colab.py -O setup_google_colab.py\n",
    "import setup_google_colab\n",
    "setup_google_colab.setup_week2()"
   ]
  },
  {
   "cell_type": "code",
   "execution_count": null,
   "metadata": {
    "colab": {},
    "colab_type": "code",
    "id": "lvXRrWlgR5E9"
   },
   "outputs": [],
   "source": [
    "# set tf 1.x for colab\n",
    "%tensorflow_version 1.x"
   ]
  },
  {
   "cell_type": "markdown",
   "metadata": {
    "colab_type": "text",
    "id": "wSJ2fLpxR5FT"
   },
   "source": [
    "# MNIST digits classification with TensorFlow"
   ]
  },
  {
   "cell_type": "code",
   "execution_count": null,
   "metadata": {
    "colab": {
     "base_uri": "https://localhost:8080/",
     "height": 34
    },
    "colab_type": "code",
    "executionInfo": {
     "elapsed": 9135,
     "status": "ok",
     "timestamp": 1593456506464,
     "user": {
      "displayName": "Valera Karnushin",
      "photoUrl": "https://lh3.googleusercontent.com/a-/AOh14GjO7AN5Womfzv4SNPuWUoQqk3PtCv6chVdYaRpr=s64",
      "userId": "18443405740041874800"
     },
     "user_tz": -180
    },
    "id": "ZWbHZYnUR5Ff",
    "outputId": "dea8353c-0882-461e-eb98-bf5193894fdb"
   },
   "outputs": [
    {
     "name": "stdout",
     "output_type": "stream",
     "text": [
      "We're using TF 1.15.2\n"
     ]
    }
   ],
   "source": [
    "import numpy as np\n",
    "from sklearn.metrics import accuracy_score\n",
    "from matplotlib import pyplot as plt\n",
    "%matplotlib inline\n",
    "import tensorflow as tf\n",
    "print(\"We're using TF\", tf.__version__)\n",
    "\n",
    "import sys\n",
    "sys.path.append(\"../..\")\n",
    "import grading\n",
    "\n",
    "import matplotlib_utils\n",
    "from importlib import reload\n",
    "reload(matplotlib_utils)\n",
    "\n",
    "import grading_utils\n",
    "reload(grading_utils)\n",
    "\n",
    "import keras_utils\n",
    "from keras_utils import reset_tf_session"
   ]
  },
  {
   "cell_type": "markdown",
   "metadata": {
    "colab_type": "text",
    "id": "OP6Q4n_WR5Fw"
   },
   "source": [
    "# Fill in your Coursera token and email\n",
    "To successfully submit your answers to our grader, please fill in your Coursera submission token and email"
   ]
  },
  {
   "cell_type": "code",
   "execution_count": null,
   "metadata": {
    "colab": {},
    "colab_type": "code",
    "id": "7QGD-X1HR5F1"
   },
   "outputs": [],
   "source": [
    "grader = grading.Grader(assignment_key=\"XtD7ho3TEeiHQBLWejjYAA\", \n",
    "                        all_parts=[\"9XaAS\", \"vmogZ\", \"RMv95\", \"i8bgs\", \"rE763\"])"
   ]
  },
  {
   "cell_type": "code",
   "execution_count": null,
   "metadata": {
    "colab": {},
    "colab_type": "code",
    "id": "ZrEgYh3PR5GH"
   },
   "outputs": [],
   "source": [
    "# token expires every 30 min\n",
    "COURSERA_TOKEN = \"\"\n",
    "COURSERA_EMAIL = \"\""
   ]
  },
  {
   "cell_type": "markdown",
   "metadata": {
    "colab_type": "text",
    "id": "N6VQrFe4R5GT"
   },
   "source": [
    "# Look at the data\n",
    "\n",
    "In this task we have 50000 28x28 images of digits from 0 to 9.\n",
    "We will train a classifier on this data."
   ]
  },
  {
   "cell_type": "code",
   "execution_count": null,
   "metadata": {
    "colab": {},
    "colab_type": "code",
    "id": "qeZmfWhsR5GW"
   },
   "outputs": [],
   "source": [
    "import preprocessed_mnist\n",
    "X_train, y_train, X_val, y_val, X_test, y_test = preprocessed_mnist.load_dataset()"
   ]
  },
  {
   "cell_type": "code",
   "execution_count": null,
   "metadata": {
    "colab": {
     "base_uri": "https://localhost:8080/",
     "height": 683
    },
    "colab_type": "code",
    "executionInfo": {
     "elapsed": 941,
     "status": "ok",
     "timestamp": 1593456572255,
     "user": {
      "displayName": "Valera Karnushin",
      "photoUrl": "https://lh3.googleusercontent.com/a-/AOh14GjO7AN5Womfzv4SNPuWUoQqk3PtCv6chVdYaRpr=s64",
      "userId": "18443405740041874800"
     },
     "user_tz": -180
    },
    "id": "ONb4bNcgR5Gc",
    "outputId": "f2e8a74b-dc03-407d-9365-3a1745eb8999"
   },
   "outputs": [
    {
     "name": "stdout",
     "output_type": "stream",
     "text": [
      "X_train [shape (50000, 28, 28)] sample patch:\n",
      " [[0.         0.29803922 0.96470588 0.98823529 0.43921569]\n",
      " [0.         0.33333333 0.98823529 0.90196078 0.09803922]\n",
      " [0.         0.33333333 0.98823529 0.8745098  0.        ]\n",
      " [0.         0.33333333 0.98823529 0.56862745 0.        ]\n",
      " [0.         0.3372549  0.99215686 0.88235294 0.        ]]\n",
      "A closeup of a sample patch:\n"
     ]
    },
    {
     "data": {
      "image/png": "[encoded data removed]",
      "text/plain": [
       "<Figure size 432x288 with 1 Axes>"
      ]
     },
     "metadata": {
      "needs_background": "light",
      "tags": []
     },
     "output_type": "display_data"
    },
    {
     "name": "stdout",
     "output_type": "stream",
     "text": [
      "And the whole sample:\n"
     ]
    },
    {
     "data": {
      "image/png": "[encoded data removed]",
      "text/plain": [
       "<Figure size 432x288 with 1 Axes>"
      ]
     },
     "metadata": {
      "needs_background": "light",
      "tags": []
     },
     "output_type": "display_data"
    },
    {
     "name": "stdout",
     "output_type": "stream",
     "text": [
      "y_train [shape (50000,)] 10 samples:\n",
      " [5 0 4 1 9 2 1 3 1 4]\n"
     ]
    }
   ],
   "source": [
    "# X contains rgb values divided by 255\n",
    "print(\"X_train [shape %s] sample patch:\\n\" % (str(X_train.shape)), X_train[1, 15:20, 5:10])\n",
    "print(\"A closeup of a sample patch:\")\n",
    "plt.imshow(X_train[1, 15:20, 5:10], cmap=\"Greys\")\n",
    "plt.show()\n",
    "print(\"And the whole sample:\")\n",
    "plt.imshow(X_train[1], cmap=\"Greys\")\n",
    "plt.show()\n",
    "print(\"y_train [shape %s] 10 samples:\\n\" % (str(y_train.shape)), y_train[:10])"
   ]
  },
  {
   "cell_type": "markdown",
   "metadata": {
    "colab_type": "text",
    "id": "qwhEFzoXR5Gl"
   },
   "source": [
    "# Linear model\n",
    "\n",
    "Your task is to train a linear classifier $\\vec{x} \\rightarrow y$ with SGD using TensorFlow.\n",
    "\n",
    "You will need to calculate a logit (a linear transformation) $z_k$ for each class: \n",
    "$$z_k = \\vec{x} \\cdot \\vec{w_k} + b_k \\quad k = 0..9$$\n",
    "\n",
    "And transform logits $z_k$ to valid probabilities $p_k$ with softmax: \n",
    "$$p_k = \\frac{e^{z_k}}{\\sum_{i=0}^{9}{e^{z_i}}} \\quad k = 0..9$$\n",
    "\n",
    "We will use a cross-entropy loss to train our multi-class classifier:\n",
    "$$\\text{cross-entropy}(y, p) = -\\sum_{k=0}^{9}{\\log(p_k)[y = k]}$$ \n",
    "\n",
    "where \n",
    "$$\n",
    "[x]=\\begin{cases}\n",
    "       1, \\quad \\text{if $x$ is true} \\\\\n",
    "       0, \\quad \\text{otherwise}\n",
    "    \\end{cases}\n",
    "$$\n",
    "\n",
    "Cross-entropy minimization pushes $p_k$ close to 1 when $y = k$, which is what we want.\n",
    "\n",
    "Here's the plan:\n",
    "* Flatten the images (28x28 -> 784) with `X_train.reshape((X_train.shape[0], -1))` to simplify our linear model implementation\n",
    "* Use a matrix placeholder for flattened `X_train`\n",
    "* Convert `y_train` to one-hot encoded vectors that are needed for cross-entropy\n",
    "* Use a shared variable `W` for all weights (a column $\\vec{w_k}$ per class) and `b` for all biases.\n",
    "* Aim for ~0.93 validation accuracy"
   ]
  },
  {
   "cell_type": "code",
   "execution_count": null,
   "metadata": {
    "colab": {
     "base_uri": "https://localhost:8080/",
     "height": 51
    },
    "colab_type": "code",
    "executionInfo": {
     "elapsed": 709,
     "status": "ok",
     "timestamp": 1593456575330,
     "user": {
      "displayName": "Valera Karnushin",
      "photoUrl": "https://lh3.googleusercontent.com/a-/AOh14GjO7AN5Womfzv4SNPuWUoQqk3PtCv6chVdYaRpr=s64",
      "userId": "18443405740041874800"
     },
     "user_tz": -180
    },
    "id": "XzdWXxlPR5Gm",
    "outputId": "0a25e43e-4923-466a-d018-d638a84b695a"
   },
   "outputs": [
    {
     "name": "stdout",
     "output_type": "stream",
     "text": [
      "(50000, 784)\n",
      "(10000, 784)\n"
     ]
    }
   ],
   "source": [
    "X_train_flat = X_train.reshape((X_train.shape[0], -1))\n",
    "print(X_train_flat.shape)\n",
    "\n",
    "X_val_flat = X_val.reshape((X_val.shape[0], -1))\n",
    "print(X_val_flat.shape)"
   ]
  },
  {
   "cell_type": "code",
   "execution_count": null,
   "metadata": {
    "colab": {
     "base_uri": "https://localhost:8080/",
     "height": 85
    },
    "colab_type": "code",
    "executionInfo": {
     "elapsed": 658,
     "status": "ok",
     "timestamp": 1593456577403,
     "user": {
      "displayName": "Valera Karnushin",
      "photoUrl": "https://lh3.googleusercontent.com/a-/AOh14GjO7AN5Womfzv4SNPuWUoQqk3PtCv6chVdYaRpr=s64",
      "userId": "18443405740041874800"
     },
     "user_tz": -180
    },
    "id": "mka1ddsaR5Gw",
    "outputId": "548f2cf4-f48d-4131-bc7f-857a9d2c8669"
   },
   "outputs": [
    {
     "name": "stdout",
     "output_type": "stream",
     "text": [
      "(50000, 10)\n",
      "[[0. 0. 0. 0. 0. 1. 0. 0. 0. 0.]\n",
      " [1. 0. 0. 0. 0. 0. 0. 0. 0. 0.]\n",
      " [0. 0. 0. 0. 1. 0. 0. 0. 0. 0.]] [5 0 4]\n"
     ]
    }
   ],
   "source": [
    "import keras\n",
    "\n",
    "y_train_oh = keras.utils.to_categorical(y_train, 10)\n",
    "y_val_oh = keras.utils.to_categorical(y_val, 10)\n",
    "\n",
    "print(y_train_oh.shape)\n",
    "print(y_train_oh[:3], y_train[:3])"
   ]
  },
  {
   "cell_type": "code",
   "execution_count": null,
   "metadata": {
    "colab": {},
    "colab_type": "code",
    "id": "Y_kI5V-iR5G2"
   },
   "outputs": [],
   "source": [
    "# run this again if you remake your graph\n",
    "s = reset_tf_session()"
   ]
  },
  {
   "cell_type": "code",
   "execution_count": null,
   "metadata": {
    "colab": {},
    "colab_type": "code",
    "id": "Kn0jsPc_R5G7"
   },
   "outputs": [],
   "source": [
    "# Model parameters: W and b\n",
    "W = tf.get_variable('W', (784, 10), tf.float32)# tf.get_variable(...) with shape[0] = 784\n",
    "b = tf.get_variable('b', (10,), tf.float32)# tf.get_variable(...)"
   ]
  },
  {
   "cell_type": "code",
   "execution_count": null,
   "metadata": {
    "colab": {},
    "colab_type": "code",
    "id": "ZDRZ1yKVR5HC"
   },
   "outputs": [],
   "source": [
    "# Placeholders for the input data\n",
    "input_X = tf.placeholder(tf.float32, (None, 784)) # tf.placeholder(...) for flat X with shape[0] = None for any batch size\n",
    "input_y = tf.placeholder(tf.float32, (None, 10))# tf.placeholder(...) for one-hot encoded true labels"
   ]
  },
  {
   "cell_type": "code",
   "execution_count": null,
   "metadata": {
    "colab": {},
    "colab_type": "code",
    "id": "qASevot6R5HI"
   },
   "outputs": [],
   "source": [
    "# Compute predictions\n",
    "logits = input_X @ W + b # logits for input_X, resulting shape should be [input_X.shape[0], 10]\n",
    "probas = tf.nn.softmax(logits, name='prob') # apply tf.nn.softmax to logits\n",
    "classes = tf.argmax(probas, axis=1)# apply tf.argmax to find a class index with highest probability\n",
    "\n",
    "# Loss should be a scalar number: average loss over all the objects with tf.reduce_mean().\n",
    "# Use tf.nn.softmax_cross_entropy_with_logits on top of one-hot encoded input_y and logits.\n",
    "# It is identical to calculating cross-entropy on top of probas, but is more numerically friendly (read the docs).\n",
    "loss = tf.reduce_mean(tf.nn.softmax_cross_entropy_with_logits(labels=input_y, logits=logits))# YOUR CODE HERE ### cross-entropy loss\n",
    "\n",
    "# Use a default tf.train.AdamOptimizer to get an SGD step\n",
    "\n",
    "step = tf.train.AdamOptimizer().minimize(loss)# optimizer step that minimizes the loss"
   ]
  },
  {
   "cell_type": "code",
   "execution_count": null,
   "metadata": {
    "colab": {
     "base_uri": "https://localhost:8080/",
     "height": 136
    },
    "colab_type": "code",
    "executionInfo": {
     "elapsed": 792,
     "status": "ok",
     "timestamp": 1593459419514,
     "user": {
      "displayName": "Valera Karnushin",
      "photoUrl": "https://lh3.googleusercontent.com/a-/AOh14GjO7AN5Womfzv4SNPuWUoQqk3PtCv6chVdYaRpr=s64",
      "userId": "18443405740041874800"
     },
     "user_tz": -180
    },
    "id": "C4yKsHhUiC-s",
    "outputId": "982955fd-a606-42cd-e155-09e4c23e88e4"
   },
   "outputs": [
    {
     "name": "stdout",
     "output_type": "stream",
     "text": [
      "(784, 10)\n",
      "(10,)\n",
      "(?, 784)\n",
      "(?, 10)\n",
      "(?, 10)\n",
      "(?, 10)\n",
      "(?,)\n"
     ]
    }
   ],
   "source": [
    "print(W.shape)\n",
    "print(b.shape)\n",
    "print(input_X.shape)\n",
    "print(input_y.shape)\n",
    "print(logits.shape)\n",
    "print(probas.shape)\n",
    "print(classes.shape)\n"
   ]
  },
  {
   "cell_type": "code",
   "execution_count": null,
   "metadata": {
    "colab": {
     "base_uri": "https://localhost:8080/",
     "height": 309
    },
    "colab_type": "code",
    "executionInfo": {
     "elapsed": 24062,
     "status": "ok",
     "timestamp": 1593458673689,
     "user": {
      "displayName": "Valera Karnushin",
      "photoUrl": "https://lh3.googleusercontent.com/a-/AOh14GjO7AN5Womfzv4SNPuWUoQqk3PtCv6chVdYaRpr=s64",
      "userId": "18443405740041874800"
     },
     "user_tz": -180
    },
    "id": "7mPFzQ_NR5HM",
    "outputId": "a75d9a7b-8ac9-4acc-9e86-5a972ad6bfa2",
    "scrolled": false
   },
   "outputs": [
    {
     "data": {
      "text/html": [
       "<img src=\"data:image/jpeg;base64,/9j/4AAQSkZJRgABAQEASABIAAD/2wBDAAIBAQEBAQIBAQECAgICAgQDAgICAgUEBAMEBgUGBgYFBgYGBwkIBgcJBwYGCAsICQoKCgoKBggLDAsKDAkKCgr/2wBDAQICAgICAgUDAwUKBwYHCgoKCgoKCgoKCgoKCgoKCgoKCgoKCgoKCgoKCgoKCgoKCgoKCgoKCgoKCgoKCgoKCgr/wAARCAEgA2ADASIAAhEBAxEB/8QAHwAAAQUBAQEBAQEAAAAAAAAAAAECAwQFBgcICQoL/8QAtRAAAgEDAwIEAwUFBAQAAAF9AQIDAAQRBRIhMUEGE1FhByJxFDKBkaEII0KxwRVS0fAkM2JyggkKFhcYGRolJicoKSo0NTY3ODk6Q0RFRkdISUpTVFVWV1hZWmNkZWZnaGlqc3R1dnd4eXqDhIWGh4iJipKTlJWWl5iZmqKjpKWmp6ipqrKztLW2t7i5usLDxMXGx8jJytLT1NXW19jZ2uHi4%2BTl5ufo6erx8vP09fb3%2BPn6/8QAHwEAAwEBAQEBAQEBAQAAAAAAAAECAwQFBgcICQoL/8QAtREAAgECBAQDBAcFBAQAAQJ3AAECAxEEBSExBhJBUQdhcRMiMoEIFEKRobHBCSMzUvAVYnLRChYkNOEl8RcYGRomJygpKjU2Nzg5OkNERUZHSElKU1RVVldYWVpjZGVmZ2hpanN0dXZ3eHl6goOEhYaHiImKkpOUlZaXmJmaoqOkpaanqKmqsrO0tba3uLm6wsPExcbHyMnK0tPU1dbX2Nna4uPk5ebn6Onq8vP09fb3%2BPn6/9oADAMBAAIRAxEAPwD9/KKKKACiiigAooooAKKKKACiiigAooooAKKKKACiiigAooooAKKKKACiiigAooooAKKKKACiiigAooooAKKKKACiiigAooooAKKKKACiiigAooooAKKKKACiiigAooooAKKKKACiiigAooooAKKKKACiiigAooooAKKKKACiiigAooooAKKKKACiiigAooooAKKKKACiiigAooooAKKKKACiiigAooooAKKKKACiiigAooooAKKKKACiiigAooooAKKKKACiiigAooooAKKKKACiiigAooooAKKKKACiiigAooooAKKKKACiiigAooooAKKKKACiiigAooooAKKKKACiiigAooooAKKKKACuN%2BOP7QHwm/Zx8JW/jT4veJ5dPtL7U4dN0u2stLub%2B91K9lDGO1tLO0jluLudlR2EUMbvtR2xhWI7KvFv2u/gP8VPiX4h%2BGfxl%2BBd14fl8X/CrxjPrWmaJ4tu57bTdYhudLvdMubaW4ghmktH8q9aSOdYZtrR7TGyu2ACjpH/AAUr/Y71rxm3w8tvHviCDW7fSodU1bTtR%2BHOvWkmi2EhuAt3qXn2SDTIAbWcNLdmFEKYYqWUGbwn/wAFH/2NfGfg/wAQ%2BOtM%2BLFza6f4Y0e11fVBrnhPVdMuJNPuXMdreWtvd2sU19bzyAxwy2ySpM5CRlmIB86vP2GPjP8AHW0/aRP7Qt74V8My/tB/CPTvBskfgrWLrUzo7RWusWsr%2BbcWtqZ1VNRiZDsXeyygogxuy9Y/Y2/at%2BM%2Btaz8UP2lPh38G9X1e0%2BE6eBtB8E6d4n1QaRrSy6jaXt5fXd2bBJ9PYmyg%2BzxQw3BtnDP50hIwAeyX/7fP7N2k%2BAbH4h6tdeOLSHVPED6Jpeh3Xwj8SR67e3yW5uXjh0dtPGoShYAZTIluUCKzFsA49P8JeOfDfjbwTY/EPRbi5i0rULBbyCTVNPnsZY4iu7MsFykcsDAfeSRVZSCGAIIr41tv2Gf2tJfgpJ4W8feGPCnjS%2Bh%2BIcut%2BC9B1n9ofxXb3fgOxOmxWoi0/xbHp7atcSGUXcreZDGBHeGENsjGfUvB/7Bmq%2BKfgJo3hb9pz46%2BOPEfj5PhtdeFtf8Q6T8Q9at9Muhc2tzbyTPpa3SWN5MiXTBbq4tmmdoopWKuibADc8Mf8FJP2MvF/h7xJ4s0b4tXK6Z4W8GXni6/vr7wlqtpFe6BaruuNU09p7VBqtogK5nsvPQmSMAkyIG4n40f8FdP2YfAf7M/wATf2gfhW%2Bs%2BM7v4b%2BDYfEjeGW8L6xps2r2Nw7R2t3avNYFrixlkRh9vgjmtkVWdnCqSPHfC/8AwSh%2BNC/BPxf8LPFnh3w9J4h/4UL4j8A%2BC/Hmo/tD%2BNvECSXGpWEdp5h0jVUkttGtpDDE8scEl0yeVGqFggz6P%2B1L/wAE5vih%2B0BYeKtE0Pxj4d0q2179le%2B%2BGlrLM87GDVpLiOWGdo1iANqNhBIbzBnhO9AHqkv/AAUU/ZZt/E3hrwJeav41tvEni7TpdQ0HwpefCTxLDq8tnFd/Y5LmSwk08XNvCkxG6SaNEVGWUkRsrmXwN/wUT/Y7%2BJGqarpXhD4tyXB0rQ9Q1lbufw1qVvaapp1iwS8u9NuZrdYdVhhYqHeyedVLqCfmGcXwR8APjz4x/apsf2oPjn4f8HeH5JPg5f8Ag/VNE8J%2BK7vVTBcy6tHcpJDcz6fZl4mgiUsTGjJIdoV1USHwGb9hz9pf4bfs8%2BF/Cnxo1rwIPCP7N3wP8SaB4L1PwrfXcmpeKd2hHTLe4vbeW2ii04JZozSQxS3QknZXDxqgQgH0D4U/4Kl/sL%2BNPBus/ELQ/jLdrouheDj4tutRv/BmsWcdzoIKB9Vs/PtEN/ZxmRBJPbCWOLcPMZc167a/GD4c3vxcuPgVZ%2BIxN4qtPDUGv3emRWsrCHTp55beGd5QnlL5ksE6ohfe3kyEKQjEfFX7I/7P3xC8WfBL4Q/Hb9t/Uvhlovww%2BG/7L9z4fgk07W5wmr6bqmnaWby%2B1X7VBDDpkEVppyq0CS3CZleRplWNVrsP%2BCK3wr8d6P8As76n8evit4tbxFrHjW%2Bg03w54hlgaOS%2B8I6JF/ZWiXBD8/6VDDNqhPd9WcgKCFAB9lUUUUAFFFFABRRRQAUUUUAFFFFABRRRQAUUUUAFFFFABRRRQAUUUUAFFFFABRRRQAUUUUAFFFFABRRRQAUUUUAFFFFABRRRQAV4jpH/AAUY/Y91K716z1P4pXnh5vDnhy58QahJ418I6roMc2k27pHPf2smpWsC31ujyRK0tsZUBljGcuufab2K5ms5YbO6EEzxMsUxj3%2BWxHDbT1wecd6/MTV/%2BCOX7cvxf1bwvrnxu%2BOOhvrfhrwfqFnqHijUPit4m8TjxDrf2zSr611E6XfRQ2Wk20lzpi%2BfYWQCiOTassgVAoB9sv8At/8A7MNr8NG%2BLGseIPFWlaW2uQaNY2eufDLX7DVNTv5kMkMFlptxYpe37SIGdfs8MgZUdgSEYjovAf7VnwP%2BI%2Bv2XhPw54h1SHV7/wAKT%2BJIdI1rwrqWmXaabDd/ZJZZYby3ikgdZ/kMMirL32bea8m%2BJ3wc/bd%2BMTfD342654N%2BFWh/EP4UeOptY8P%2BGbXxxqV/ouuWdxpN3plzHcXz6VDNYzFL2SSN0tbgRmIKfMEjYq/En4Dftwa/8ZfDv7TXgfRvhXaeLL74Yar4L8Y6FqXivUpLDSFuL%2BG6tb%2ByuE04SagYhG6yW8sVoJS4xLFjkA7jSf8Ago3%2ByB4j17wL4W8K/EbVdZ1P4k%2BDdK8W%2BDdO0TwPrN7PeaHqL7LXUZEgtGa1t92PMknEa24ZTN5QYE7Hw1/bc/Zu%2BK/xGufhP4Z8X6tZ6/b6Xc6nDZeJ/BmraIt/Y28iRz3dlLqNrBHfwRvLEHltmkRfMQkgMpPlH7Cn7CXxY/Zh1/4caz488QeGrs%2BDv2UvCPwxv30i5nlZtW0t5muZovMgj3Wrb02MxV22/NGmBXjXw0/4JV/tjeJ/ij4X8TftTfGGz1SLT/AHivwv408TQfF/xJrV54il1exS2/tO10y%2Bhj0/QjlSxtLRSi5UCZxGq0AfUvhP/gov%2ByP410WPxVoPjvXP7DuNV0vT9P8AEt78P9btdK1GXUr2OyspLS%2Bns0tryCW5mijFxBI8IMqFnCsCfS/C3xd%2BHnjX4geKfhd4X8Q/a9c8FyWcfie0S0mC2Ml1B9ogjMrII3doSshRGZkWSMsFEibvmHxx4E%2BIvhX/AIJ7eNPgR/wUM8T/AAq8EeAtB%2BGkWgW3xM8O%2BLbsM06RpbWupPaXVnAmmzLMLeSGCO4umM5REcnaG7X/AIJX/D74seG/2RNK%2BKv7RVglv8TvixfS%2BOviJCtu0X2e/v1jMNpsb5k%2By2MdlZ7TkgWuDQB9G0UUUAFFFFABRRRQAUUUUAFFFFABRRRQAUUUUAFFFFABRRRQAUUUUAFFFFABRRRQAUUUUAFFFFABRRRQAUUUUAFFFFABRRRQAUVgfFL4m%2BEvg34C1H4l%2BOn1JdK0qNHuzpGhXep3JDOsaiO1s4pZ5mLMo2xxsec4wCazLP4%2B/C3VPgXp37SWi6zfaj4Q1fQLTWtKvtM0G9uri8srqOOS3eKziha5d3WWPEQiMmWxtzkUAdlXi/x68f8A7Rf/AA0X4F%2BBHwF8Z%2BCvD6a/4K8S69q%2Bp%2BL/AAXd60SdOu9Dt4YYY7fUrHyw39qSszMz58tAAvJPdfBr45/DP4%2B%2BG7vxT8MdZu7iHTtTk03VLTVNFu9NvdPvI1R2t7m0vYori2k2SRuEljUlJUcAq6k%2BcfEXWksv%2BClXwh0WRRi9%2BCfxDZGzzuj1bwacfkzH8KTaW5cISqO0ezf3asv/APCD/wDBQv8A6Og%2BDP8A4YfVv/moo/4Qf/goX/0dB8Gf/DD6t/8ANRXs1FMg8Z/4Qf8A4KF/9HQfBn/ww%2Brf/NRR/wAIP/wUL/6Og%2BDP/hh9W/8Amor2aigDxn/hB/8AgoX/ANHQfBn/AMMPq3/zUUf8IP8A8FC/%2BjoPgz/4YfVv/mor2aigDxn/AIQf/goX/wBHQfBn/wAMPq3/AM1FH/CD/wDBQv8A6Og%2BDP8A4YfVv/mor2aigDxn/hB/%2BChf/R0HwZ/8MPq3/wA1FH/CD/8ABQv/AKOg%2BDP/AIYfVv8A5qK9mooA8Z/4Qf8A4KF/9HQfBn/ww%2Brf/NRR/wAIP/wUL/6Og%2BDP/hh9W/8Amor2aigDxn/hB/8AgoX/ANHQfBn/AMMPq3/zUUf8IP8A8FC/%2BjoPgz/4YfVv/mor2aigDxn/AIQf/goX/wBHQfBn/wAMPq3/AM1FH/CD/wDBQv8A6Og%2BDP8A4YfVv/mor1HxmN%2BhiBidk19aRSgHG5HuY1ZfoVJB9jXmOv8A7UH/AAT98Ka7e%2BFvFP7RHwc03U9Nu5LXUdO1DxdpUM9rPGxSSKSN5QyOrAqysAQQQRkVlVr0KCTqTUb92l%2BbR3YHK8zzScoYLD1KrirtU4TqNLa7UITaV9LtJX0vfQZ/wg//AAUL/wCjoPgz/wCGH1b/AOaij/hB/wDgoX/0dB8Gf/DD6t/81FV/%2BGv/APgnB/0dF8Ef/C20f/47VvQP2oP%2BCfvivXbLwt4W/aI%2BDmpanqV3Ha6dp2n%2BLdKmnup5GCRxRxpKWd2YhVVQSSQAMmsljsC3ZVYf%2BBx/%2BSPQnwrxTTg5zy/EJJNtuhXSSWrbboJJJJtttJJNtpJsZ/wg/wDwUL/6Og%2BDP/hh9W/%2Baij/AIQf/goX/wBHQfBn/wAMPq3/AM1FaP7VfxL%2BFX7KH7N/jX9pLxT8Ll1bT/BXh641W603SNEE1xcrEudiLHGxGTjLkbUXLuVVWYc/pP7Wf7H%2BueN5fhrpfhrX5fENt4cXXtQ0X/hTWurdafYPHdvFLdRtp4a1aX7DcrFHMEkmeMRxq7uit1Hgl/8A4Qf/AIKF/wDR0HwZ/wDDD6t/81FH/CD/APBQv/o6D4M/%2BGH1b/5qKpaZ%2B05%2BzB4mk8O/8Irplgh1nx1N4VvbDxL4S1HR9Rsb6PRrrVzC1lc2AmSU2tusyrcLbxvDJ5iysxijmb8FP2v/ANhf9oLRpvEfw28TaX/Z0Xh/T9dS/wDEXhG70WC50u%2BZltb2CTUbaBbm3kdSgliLqHwhIYgUAX/%2BEH/4KF/9HQfBn/ww%2Brf/ADUUf8IP/wAFC/8Ao6D4M/8Ahh9W/wDmopv7RvxEb4V6/wCD/hp8IPgB4a8XeM/G17eJpWl61qq6RYwWtnatcXNzPdJZ3ToB%2B5iVVhctJcR52IHdZvAvxCsPjf8AsteH/wBoT4CfAnQdS1TxRoVjqOleGfE96mmRwtOY/NhubqK2uTEYA0m4xxS7miIUHcDQBH/wg/8AwUL/AOjoPgz/AOGH1b/5qKP%2BEH/4KF/9HQfBn/ww%2Brf/ADUV4j46/wCCh%2Bg%2BB/BfhW/1z4DfCnQta1r4qa54E1qfxt8To9J8O6fe6ZBdSySw6qdLla5SRrbyUVraF/NZkYK0ZB7TxT%2B1ZpPh/wDbJ8P/ALIQ%2BF/wbtL3U/Bug6/d3niP4mrp91eDUL3UbeW30ez/ALLkOqvAunPJkyW%2B/wA%2BIER5LAA7r/hB/wDgoX/0dB8Gf/DD6t/81FH/AAg//BQv/o6D4M/%2BGH1b/wCaiszw/wDGmzt/2k/iL8Evip8BPC/h7RPBXgqw8VaZ4ptdYF6%2BoadcT38LtPa/Y4xaMhsJG2rLPuVx90jFcf8AAf8Aa2tf2hfgZ4r%2BOXgr4V/A%2BG10bTbTUbCyuvi/C7afbyK00y%2BIJINLkTQ54bYCRo1N2NwdC6hN5APQ/wDhB/8AgoX/ANHQfBn/AMMPq3/zUUf8IP8A8FC/%2BjoPgz/4YfVv/morwO%2B/4KYeC3%2BHvw48X6V8G/g5ZH4geJ/EGjQa54t%2BK8emeGJTpblBc6fqw0qX%2B0YLkj9w4gi388cc%2Bjaz%2B1Nolh%2B3BbfsZQfDH4QWlz/wimh63c3PiL4kLY6nfrfzajHLFpWnf2ZIdRMC6czsxmhz5yZCdaAO2/4Qf/goX/0dB8Gf/DD6t/8ANRR/wg//AAUL/wCjoPgz/wCGH1b/AOaiuE8A/tYRePvifbeF7T9l7w5beG/FOteKdC%2BG3iSbX1MusatoU08NxDeWwscWMEzWl48MyS3JaK3LPHGzohZ8Cv2mvEv7Ruh%2BOLD4S/s/fB3XPEPgfXrTT7q70X4oPe%2BGLzzYTLLHFq8Ois/2u3wFmtjafu/MjzJ8%2BAAd9/wg/wDwUL/6Og%2BDP/hh9W/%2Baij/AIQf/goX/wBHQfBn/wAMPq3/AM1FeFaf/wAFHvC938GfhZ4z1n4GfCbwz4m%2BKumatrWj2fjX4ox6VoEejWl5Fb292uqy6WZJZLxLqxmt7cWYZlnfJAhZj0njv9unwX4G/bD039k26%2BAfg17671nRdNazl8VRRa/ff2hB5zajpulGyP8AaGmWvzi4u/Pi8v7Ndfuz5IDgHqP/AAg//BQv/o6D4M/%2BGH1b/wCaij/hB/8AgoX/ANHQfBn/AMMPq3/zUV5j8Ff20rX4067p3h3SP2Y/B9reeOvBOueJ/hNZv4vjefV7bS722s5otTT7AP7KlL3tsdsZvAo89WIeHYy%2BKv2s/HHhf4AfGj4gj9jrwPe%2BMvgdeTJ4o8OWnjonSbqCPR7fV3kt9TOlCUyC2uEUwvZowk4%2B4VkIB6b/AMIP/wAFC/8Ao6D4M/8Ahh9W/wDmoqh4H8cftWeDv2rPDnwR%2BN3xH%2BHvibRvE3w98Q65DN4V%2BHl9ot1aXWm32iW6Kz3Gr3ySxumqSkqERg0SENjIPodxpXha/wDho3jHTfCljYXMuifbbdre3RXgcw%2BYu11UHIOOeM4ri/HH/KQv4X/9kZ8ef%2BnbwhQB7NRRRQAUUUUAFFFFABXzj8JvFX7d/wAddH17x34X%2BN/wk0DS7f4heKtD0vSr/wCD%2BqX9xFa6Xr1/pkLS3CeIoFlkeOzV2ZYo13OQFAAr6Orxn9g//kiGuf8AZZviP/6mut0AH/CD/wDBQv8A6Og%2BDP8A4YfVv/moo/4Qf/goX/0dB8Gf/DD6t/8ANRXs1FAHjP8Awg//AAUL/wCjoPgz/wCGH1b/AOaij/hB/wDgoX/0dB8Gf/DD6t/81FezUUAeM/8ACD/8FC/%2BjoPgz/4YfVv/AJqKP%2BEH/wCChf8A0dB8Gf8Aww%2Brf/NRXs1FAHjP/CD/APBQv/o6D4M/%2BGH1b/5qKP8AhB/%2BChf/AEdB8Gf/AAw%2Brf8AzUV7NRQB4z/wg/8AwUL/AOjoPgz/AOGH1b/5qKP%2BEH/4KF/9HQfBn/ww%2Brf/ADUV7NRQB4z/AMIP/wAFC/8Ao6D4M/8Ahh9W/wDmoo/4Qf8A4KF/9HQfBn/ww%2Brf/NRXs1FAHjP/AAg//BQv/o6D4M/%2BGH1b/wCaij/hB/8AgoX/ANHQfBn/AMMPq3/zUV7NRQB4z/wg/wDwUL/6Og%2BDP/hh9W/%2Baij/AIQf/goX/wBHQfBn/wAMPq3/AM1FezUUAeM/8IP/AMFC/wDo6D4M/wDhh9W/%2Baij/hB/%2BChf/R0HwZ/8MPq3/wA1FezUUAeM/wDCD/8ABQv/AKOg%2BDP/AIYfVv8A5qKP%2BEH/AOChf/R0HwZ/8MPq3/zUV7NRQB4z/wAIP/wUL/6Og%2BDP/hh9W/8Amoo/4Qf/AIKF/wDR0HwZ/wDDD6t/81FezUUAeM/8IP8A8FC/%2BjoPgz/4YfVv/moo/wCEH/4KF/8AR0HwZ/8ADD6t/wDNRXs1FAHjP/CD/wDBQv8A6Og%2BDP8A4YfVv/moo/4Qf/goX/0dB8Gf/DD6t/8ANRXs1FAHjP8Awg//AAUL/wCjoPgz/wCGH1b/AOaij/hB/wDgoX/0dB8Gf/DD6t/81Fdt47/aF%2BAfwuief4l/G/wj4eSP77a34ktbXH/f2Ra8e1v/AIK9f8E2fD%2BoPpl/%2B1t4ckkT7zWMVzcxn6SQxMh/A1yVswwGGdqtaMfWUV%2BbOHEZplmEdq9eEH5zivwcr/gdX/wg/wDwUL/6Og%2BDP/hh9W/%2Baij/AIQf/goX/wBHQfBn/wAMPq3/AM1FcZB/wWN/4JoXD7I/2sdEB/29PvVH5mAVF4i/4LK/8E2PDtqk5/ac0/UZZjtgtNF0e%2BvJpG7KEigbBP8AtYFYPOcnSv8AWKf/AIHH/M5nxBkKjf63Tt/18h/8kdx/wg//AAUL/wCjoPgz/wCGH1b/AOaij/hB/wDgoX/0dB8Gf/DD6t/81FeYJ/wWC%2BEd%2BPtPhj9lL9oPWrJv9TqWlfCid4Jh6qWkUkfUCg/8Fe/hlDzf/se/tF2q/wB%2B4%2BE0wH6Smo/tzKf%2Bfy%2B6X/yBn/rJkX/P9fdP8/Z2/E9P/wCEH/4KF/8AR0HwZ/8ADD6t/wDNRR/wg/8AwUL/AOjoPgz/AOGH1b/5qK8k1P8A4LX/ALL2hru174R/GKwI%2B8Lz4b3EZH1y1cd4p/4OJv2EfC/7tvCHxMu5SOIYvC8ETf8Ake5jrKfEWRUl7%2BIivVv/AORO3C5jhMdJRwvNUb6Qp1Zv5KFGbfyR9Gf8IP8A8FC/%2BjoPgz/4YfVv/moo/wCEH/4KF/8AR0HwZ/8ADD6t/wDNRXyNf/8AByp%2BzHGS2l/ALxxMn8JuL3TYiR7gXLYrmda/4OYvCt1N9i%2BG/wCxpr2rzngLd%2BKY4cE98Q28xNcs%2BL%2BG4f8AMQn6KT/KJ79DI%2BJsW7YfK8ZN/wB3BYx/nho/mj7f/wCEH/4KF/8AR0HwZ/8ADD6t/wDNRVv9lb4jfGnxhrHxQ8CfHTX/AAvq2qeAfiFFodnqvhPw1c6Tb3VrLoOj6mrPb3F7eMsiyajKhYS7SsaHapzn4Oh/4LuftleIh5vg/wDYJWdX5jRIdZuWA9MpZKD%2BFfSn/BI34z/Ez9oTwt8afjB8Yfhs/hHxHrHxmX%2B0PD0lrcQm0EXhbw9DH8lwqyDfHGknzAZ35HBFdeX59l2aVnSw7k2lfWMkradWkuuwYvJOIstpqpmGX18PFuylVpSppvsuaV72TduVaJ6rY%2BuKKKK9k84KKKKACiiigAooooAKKKKACiiigAooooAKKKKACiiigAooooA5z4ua14g8P/DTWtV8K/DzV/FeopYstp4e0G4soru8Z8Jtje%2BuLe3UgMWPmSoMKcEnCnwP9mPxF%2B1H8DP%2BCcfg3wPD%2BxX4qn%2BI3gD4Q6ZpVt4O1LxR4fhj1TVrK0htBbrdw6jNFHG7oZRKxGIgcgSYiP0/RQB4j%2BwZ4F8b%2BDvhNq2r/FzwB4n0Xxz4n8Uz6z45vPFTaWJdY1KS3t4zcwR6ZfXsMFpHDFBZwRNKZUhskD7z%2B9k8r%2BLejeI/BX/BZD4Calq/xb8Qa5aeKfhx8SItP0LVbfTktdFWN/DcrR2rW1pDO6vsBb7TLOw8tdpX5t32FXxj%2B2bq50j/AILGfsXbmxHd%2BH/ifbSH/esNHKj/AL6Va5cZP2dDm84/jKK/U93hzDfW809l3p1n/wCA0K0v/bT7OooorqPCCiiigAooooAKKKKACiiigAooooAKKKKAMvxh/wAgmH/sK2P/AKVxVwuv/sTfsZeK9dvfFPin9kf4Y6lqepXcl1qOo6h4B06ae6nkYvJLJI8JZ3ZiWZmJJJJJya7rxh/yCYf%2BwrY/%2BlcVfO3j/wD4LKf8E3Phf471v4aeOv2jvsOt%2BHdXudM1iy/4RDWJfs91bytFLHvjtGR9row3KxU4yCRzXDjq2W0YReMlBJvTn5bX8uZPW3YqPElThv8Aewxrw3PpdVZUua2trxqU723s27b26non/DA/7Cv/AEZZ8Jf/AA3Omf8AxiregfsTfsZeFNdsvFPhb9kf4Y6bqem3cd1p2o6f4B06Ge1njYPHLHIkIZHVgGVlIIIBByK8Z/4fm/8ABLL/AKOi/wDLJ1z/AOQq1/AP/BZT/gm58UPHei/DTwL%2B0d9u1vxFq9tpmj2X/CIaxF9ouriVYoo98loqJud1G5mCjOSQOa8%2BGN4Yc0ozo3urW9ne/S2m97WK/wCIm4mv%2B6eeTlzaW%2Bt1Xe%2BlrfWHe97Ws73tZ3s/Zf2mvgnZftJ/s6eO/wBnvUNfl0mHxv4R1DQ31WCASvZ/ard4RMEJAcoXDbSQG24yM5ry/wARfsTfELx/oPxdl8e/H21i8SfFv4d6b4Zvta8J%2BFZtNh02SzGohbmKKS%2BnkZHF%2BA0RmBxE2JB5g2eufHX4w%2BHP2ffg94j%2BN/jLTNRutG8K6VLqesppUKSTxWcQ3TzBXdAyxxh5WGc7Y22hmwp8v%2BM//BRD4O/BbS/F2uap4b1PULHwV4ts/DesaiPEGg6VaPf3GmxaiEhuNX1Kzhk2QTwBgH375gqK%2ByQp7xmedfBH/glNF8IvEUPiaH4k%2BELDb8XB45fQfAXwvj0DSIGHhG88OGztrVLyUwhvtQu2lZ5GZ0ZSPnDp6F8Df2KPEPwCj8CXfhH4uWVzf%2BBvgbpXw6t5dQ8Lu0N39jkgY3zRpdqy71hYCEOdhcHzG27W5S1/4KO6T4p8fR3/AIJuLS48Ba54M%2BEmu%2BEdVi0KSe8uv%2BEw8QatppWZHu4VjjEVnZlWALwNJM7Jc4WCrHg3/go0fiZ%2B0V4P8EeEPg/4msvAPiPwV4s1%2B08WapoSzt4hh0m406GOfS47K5mnMb/apW8qe3SeYNA0KEE5APT/ANo34BeOPip4g8H/ABM%2BD/xP07wj4z8E3t4%2BlaprXhp9XsZ7W8tWt7m2ntUurV3B/cyqyzIVkt4870Lo3OXP7KXxe8FfsfJ%2Byf8As4/tHQ%2BDZtO8D6doPh/xte%2BE21DUbO4jci91CQJeQJJJPDwgQReRMzS7pRtiXd/ak%2BNHxA%2BHujeBfC3wcTSIfFHxJ8b2/h3QtQ8T6XPcWWm5srzUJ7me1jmt5ZttrYXAWISxEyMgLKM1F%2Bzz8Yfiz8e/2a77xPEnh3TPHmna54i8M3M72M8uk/2rpOrXmlPdLAJhMbaSWzM6w%2BdvCSBDJuBegDE8Jfs1/tE/Db9nnQfgZ8L/AIsfCfRTo0E9i8n/AApy/uNPewdAFRLWXXjJ5%2B4u8k8txMJjIxePcSxwtd/YI8a3nwQ8A/sl6D8cdIt/hd4N0Lwxpt1bah4He68RXw0WaCWKSLUxfJBbM5toeRZO0ZMhjZSyGPifEf7Z/wC15pXw38UxeHLfwx4l1Xwp8bLPwbd%2BPPCHwk13WdOuLA2MM9/dR6LY38t48tncSSWcvl3UiCSB8lWWSKPR/aJ/4KE%2BMPh/%2Bzp4S8Wfs%2B694O%2BIXinVrO01bXNcj0W7tNIs9GW/hs7q6azN009vNJPKLWG2knMiyid23i0mjoA9Cn/ZU%2BMGt/tc%2BK/jp4w%2BMnhG/wDA/i3wJB4Rv/A0Xw%2Bu4b8afC99LGf7S/tZozIZb%2BXe32QBo1VFVGzIea%2BBf7CPxl/Z%2BtDqngz9ofwo%2Bv6N8PNE8C%2BCbyf4XyJZWeiabPJIn2%2B1h1NGv7p0kZPNimtYkOWjgXe6tZ8P/tT/ABdH7d/iP4EfErxPonhXwjbeJoNK8C2Gp/CfW1m8Wq/h611B2tvELXa6b563Ut4v2VYHlMdjIMZzIrfh/wDFX9tDWf2lPiT8CdX%2BKHwx1XT/AAb8P7C/TX9J%2BFep25sNbv57g21rLCdbnN4sdramaWKMwO32u22uu4igC5pv7H/x%2B8J/CHV/h74J/aE8FJqXjLXNd1Tx3qGu/CmW%2BsriTU2UvHp9kuqxCyjUBspNJdiRnZ5NzM248UfsP%2BONd8EeAfgBY/GzSYPhh4FbwpJFp934LkuPEd3JoNxbXFs39rG%2BEUfmSWcO9hZmTa0oR1LqyeTWP/BRz44TfD5JvEnirwF4TRPjJdeD774reOPAGq6NpOn2cWhR6nHcX2h31/DeabNNcv8AYYo7u7iEgEdwhZbm3ik1vFP7a/7U3j/9kL4Z/tSfs%2BeJPh7pl9491DRvD1v4M8UfD/UtQkvNcutUFjcPDcR6rZtBaxKJ7grJA8iw20jMc/IoB3vgz9hLx14G%2BIsfiTSfjzp76B4Y1bxXrnwx0G48GM0uiaxrss80095cC9A1CCBry8SGBI7YiK4KPJIUVxZf9jT4x6/4P%2BMlz4z/AGkdOi8c/F/wtb6BL4l8I%2BCJNNsdEt4Le5giuILKW/uHe7Au5iZ5Lg52W67QkIU7CfHD4y%2BGf229b%2BDfjm%2B8LT%2BBG%2BGU3ijQV0zRLmPVbRre6t7eVLm4e6eK4VjJIyqkERUKoLPk15v8Av2u/wBqj4p6Rptt40uPA2k6h8Q/gtB8SvAVxpPgvUtQGhWplt/tGm3trHf%2Bbqs0cV7abJbZ7bznMoEK7V3gHa/Hr9hO28dT%2BE9X%2BBfinw74Mv8Awn8PNX8B2a654L/tuzXw9qKWSzW8cAurYxzJ/Z9sI5C7oFMqvFIH%2BXl7D/gmlqfh/wATWWjeHfj0D4CTxV4O8R3%2Bjat4XN3rjX3hu106Czjt9V%2B1ItvbS/2VavNEbWRmM15tkQXLbcrw9%2B2b%2B0Z4w/ZI17462viHRNKvfCXjPVNJvrxfgH4l1afV7a2wI5P%2BEetr5NT0eUsxDpctIUWMSsqpKpGfdf8ABQn9oXVNCtvi5o3hHwVp3hjwp4R8B6t8R9DmMup3l5N4gdDdRadf29yluiWcEkcqSmK4W7YlAYFAlYA7XTP2A/F%2BifFvxr%2B0R4W%2BIfw68NfEDV/DGs6R4N8Q%2BEfg5HYpp0uozQSvqWqRm/kbW7xGtLUB2kt0wsoEY85sQ6X%2Bwr8c9I/YQ8X/ALGth8f/AALDqPizS7/Trjxonwvv3aZNQidNQvLyGXXXkvNQneWWU3JuEUO4JiYDaeA0r/gqzqvhD4w6voPxj1Pwk9jDN45SXwBoOl3KeJPC8fh4XU8E%2BoyyXLxypf2VlLcQjyLcYlj8prlA0o7L9nn9rf4y/Hn4G%2BKfGVr8avA8PirT9C0vXo9G0/4HeJZ30SxuVllOLOS%2BiuvEMUqQyxW17ZLBHO8EjRxvjywAe7eGfDfjzwd%2Bz6PCvxN8WaRruuad4ent73VtC0GXTLS52xuEZLaW6uniwgQEGZ8sGYbQQq8j44/5SF/C/wD7Iz48/wDTt4Qqt%2Byx8ePGH7SX7IFx8VPHenWVvqUs3iDT5WsdNnsFuUsr67s47hrK5d7jT5JY4EkeyuGM9s7tDJ88bVZ8cf8AKQv4X/8AZGfHn/p28IUAezUUUUAFFFFABRRRQAV4z%2Bwf/wAkQ1z/ALLN8R//AFNdbr2avGf2D/8AkiGuf9lm%2BI//AKmut0AezUUUUAFFFFABRRRQAUUUUAFFFcz8VPjP8JPgd4bbxh8Y/iXofhfTFO0Xuu6nFbRu391TIw3t6KuSfSpnOFOLlNpJdXovvdiKlSnSg5zaSW7bSS9W7L8TpqK%2BTdT/AOCxv7MGvalLoH7OXgf4kfGLUIn8uSH4ceBrm5ijb/bmnESBe%2B5SwqM/t1/t6eLBt%2BFv/BJnxfIH4Sfxf4%2B03Rwn%2B0ySBjx6A5rzP7by1v8Adzc/8EZT/GMWvxPHfEWTt2pVHU/wRnU/GEGv/Jj62or5HN7/AMFrfiZ8ttonwJ%2BGNlL95ru5v9Z1GHPddmLdiPekH/BOP9pP4nMLj9p3/gp18VNYD8yab8PIrbwvan/pmwt1cyKOnOCetL%2B0sRU/gYab85ctNf8Akzb/APJQ/tfFVf8Ad8HUl5y5aa/8nk5f%2BSn1frOuaL4c06TWPEOsWthaQrma6vbhYo0HqWYgD8a8F%2BKf/BVn/gnp8ILhrDxT%2B1P4avLsNsFn4bkk1eUv02Yskl2tnjDYx3xXHJ/wRv8A%2BCdfh7PjD4reDNW8US2Y8yXV/Hfjq/uFQd2fM6REeu5cVWP7aP8AwR9/Y0ul8NfDLxD8PbHU8%2BVHp/wz8OLf3Uz45Rn0%2BJ8v6%2BY4PrXPicdmFGN60qNFd5Scn8l7i/M9nJuHvETims6WU4Hna35IVq7XryQhCP8A29NLqTj/AIK2eH/F52/Af9if49%2BOkb/V6jp3w/a1sWHbM88i4z7rSj9tL/gpB4n%2Bb4f/APBJjVI4D0ufFPxX0ywYfWEoW/WkP/BUTx149/c/s5f8E6vjd4sZ/wDj31DXNBj0HTpvQrc3Ltx7lRihfGH/AAWj%2BKR%2B06D8H/gp8LLNuTbeKtfvNbv09AGsgISR3zXF9crVvgxNSf8A16opL/wKUbfifUf8Qj42pa5vmVDBrtUrYSnL/wAAjLF1fvgn0dmOPxn/AOCx2vfutJ/Yu%2BFegM/3Zdd%2BIr3Sp/vC2QE/hSDw3/wW68QH7ZqHxJ/Zz8PkcpZaXo%2BsXYI9HeYg5/3eKU/s3f8ABWnxcPL8Uf8ABRvwp4Yjf/Wp4T%2BE1tctjuFe6cEfXqKB/wAEvviB4u/e/Gf/AIKU/H7W2P8ArbbQPFMWi2snqGhgibj2zR7LMKu0a7/xVKdNf%2BSpsX/EOOGKGuYcVJ%2BVGOJqv/yTD4eP/k9hsvhz/gttp8TSH4rfs3TRqMtLdaNrMeB6nacVxfiv40/8FKfC5ay%2BIX7b/wCyB4UQf6y7kvLtZovolzKqn8a7iH/gil%2BwbqUq3PxH8L%2BLvGkynPneKvH%2BpzsT6ny5owfyrtfCv/BLL/gnd4OCjSP2QPBU23p/auli%2B/P7SZM/jR/Z2cz2k4%2Bteb/9JpL8w/1V8KsP/EzjMq3lCnSpL5OtWm/vij5I8X/tOeM7GN7r4mf8HB/gPT4l/wBZYfD74Y6df/8AfMsTSSH8Aa4lvjN8O/iV%2B60j9vz9tL4sQuf9V8I/B8umrcew3QpwfSv018Ifs1fs5/D6VJvAXwB8FaI8f%2BrfSPCtnbFfoY4xiu2AAGAMAdBR/YGNq/xay%2B%2BrP/0urFfgH9n%2BDuG%2BHLsbin/0/wAe4RfrHD02/umj8lF/ZftPHubvwZ/wS4/aV8WXz/c1f4m/GY6Dct/vF5CF/KlH/BLH9qbxjxcfsQeHrDT2/wCYL41/aF1e/Qf7xsnXPpwa/Wqij/VHAz/iTb9Iwj/7bJ/e2H17w/oaYXhbArzqvFV38%2BfEwi/nE/MTwL/wSe/ap8MTJJ4f/ZC/Y30lF6PrkHiLXZV/4DePIjfjXsWhfsSf8FIV09NHtP2mPgr4HtF%2B7b%2BDPgnazpF/upcbRX2zRXXR4ay6grQc16S5f/SYR/M7sPxjQwCtgMmy2h/gwFFv/wAqSq3%2Ba%2BR8Xz/8Evv2mvE6Y%2BIn/BSjXbwt/rBofww0fTFP0CBttP8AD/8AwRysdHu31D/hv34/WdxKMTzeG/FttpZceh8m26e1fZtFb/2BlV7yg2/Oc3/7ejpXiVxbCV6M6NL/AK94TBQt6Wwbt958l/8ADoD4RX3Hiz9qr9oHXwfvDWPitO%2B767I1o/4cnfsEXvPijwn4u1wn7x1b4g6o%2B767J1r60oq/7CyZ70Iv1Tf5yZp/xFbxIXwZrWh/glGn/wCm6VM%2BX/D/APwRi/4JleGpBLp/7KumSsDnOo63qN2D%2BE9y4r0Hwv8A8E%2B/2GPBpV/D37IPw3ikT7k8vg6zmlH0eSNm/WvX6K3p5VldH%2BHQgvSEf/kTzMbx/wAeZkrYrNsVU/xYis//AHKjndI%2BEHwm0BFi0H4X%2BHbJUGEW00SCML9NqDFb1taWtlEILO2jiQdEiQKB%2BAqSiu2MIQ%2BFJeiS/Q%2BZrYrE4l3rVJSf96Upfm2FeM/sv/8AJb/2jv8Ass1j/wCoV4Xr2avGf2X/APkt/wC0d/2Wax/9QrwvVGB7NRRRQAUUUUAFFFFABRRRQAUUUUAFFFFABRRRQAUUUUAFFFFABRRRQAUUUUAFfBn/AAUs1X%2Bwv%2BCrH7EGqb9u7VPGNrn/AK7jRIsfjur7zr86/wDgsbey6P8A8FCP2JdeThLTx7qP2hv7sT6p4cjY/wDj9eZnEuTLZy7cr/8AJ6Z9x4b0FiuNMNQf21Xj9%2BFxf%2BSP0Uooor0z4cKKKKACiiigAooooAKKKKACiiigAooooAyvGH/IJh/7Clj/AOlcVatQ39haanaPY30AkikGGUkjvkHI5BBwQRyCKof8IfpP/P3qn/g8u/8A47QBq0Vl/wDCH6T/AM/eq/8Ag8u//jtH/CH6T/z96r/4PLv/AOO0AWde0LR/FGh3vhnxFpsV5p%2Bo2klrfWdwm6OeGRSjxsO6spII9DXzr4J/4Jg/Cj4afCPwH8MPh58aviPpWofD7W9T1TS/HK6np9zrd5LfpNFdC6kubKSCTdFN5SusKSxpDEI3TaSfoH/hD9J/5%2B9V/wDB5d//AB2j/hD9J/5%2B9V/8Hl3/APHaAPBvA3/BMT4B/D/w14e8K6J4t8YSW3hrw18PNDsGu9Stnke28G6rd6ppbSN9nG6SWe8lW4bgOioIxCwLta%2BG3/BO7wL8KfiJpfxA8JfHX4iKvhfw3ruheA9CuLzTZLDwtZ6rNbTTJaIbHfKYntIPJN09xsVNh3J8te3/APCH6T/z96r/AODy7/8AjtH/AAh%2Bk/8AP3qv/g8u/wD47QBzHxz%2BAeifHfwbpfhzV/Gmu6Jqmga1a6x4e8WaA9quo6ZqEAZVuYhPBLbsWjkmidJIXjeOaRSmDxg6H%2ByZp3g/4FXHwE8A/G7x1oFleaLrNtea9pV3YjVZtS1S5a7utb%2B0SWjbNQNxLcyqyKsIe6kPknbF5fov/CH6T/z96r/4PLv/AOO0f8IfpP8Az96r/wCDy7/%2BO0AeTfDH9jTW/g58B9O%2BAXw2/a5%2BJGlWGjTw/wBi6ta6T4XW7sbWOJk%2Bxqg0X7NJG5bzHeSF5mk%2BbzeSDzXj7/gkz%2Bw38VPgpZ/Br4m/BbRvEc1lE6x%2BNvEGhaff6%2BXl1GTUrmT7ZcWz7DPdz3Msioqpm5lCogbA9%2B/4Q/Sf%2BfvVf/B5d/8Ax2j/AIQ/Sf8An71X/wAHl3/8doA851n9kjRvEvxT0Dx34k%2BL/i688P8AhPV4dU8LfDZY9Kt9C0q7htWtoZIxb2Md46xq7usUty8SuwIT5Iwmn4f/AGbdG8HaX8QR4J%2BI3ibSNb%2BI/iiXX9Y8VWz2ct/a3Zt7a1iEAntpIPLhtrO3hjSWKQbI/n3kkns/%2BEP0n/n71X/weXf/AMdo/wCEP0n/AJ%2B9V/8AB5d//HaAPKtD/Y3vfCnhTX9P8JftU/EvTfE/izxSmu%2BKviDCuhSatqkqWMdjHA0culvZQwLbwW6hYLWJgYVfduaRn1tF/Y%2B%2BEPhyP4Uafof9qQaZ8HGnl8JaSb0SQyXUthLYfbLppFaWe4WC4usSFwS11K772IK9/wD8IfpP/P3qv/g8u/8A47R/wh%2Bk/wDP3qv/AIPLv/47QB5tf/smzah%2B1tF%2B1pL%2B0V47EsWgPoi%2BBRbaGdDNg4jZ4Du003pDTxrcFvtW7flQwiPlVzvwt/4J9eFPgzpF3Y/D39oD4jWd5B4YsvDPgzV5rjSp7jwdodrcefFpuniXT2ieI4SN3vI7qZ44o1aQ%2BWpHtf8Awh%2Bk/wDP3qv/AIPLv/47R/wh%2Bk/8/eq/%2BDy7/wDjtAHkukfsW33hTwpfaL4E/ax%2BKGhaxr3iK61vxf4vsf7Cl1HxDeTQQW264W40uS2hEcFrbxRi1gg2LEoHUk4x/wCCZ/wFsZfDWl%2BEvFHi3QvDOgaB4a0bUPBem6jbtp3iG00CbztJW%2BM9vJcM0L/eaGaE3CgRzmZAEHuf/CH6T/z96r/4PLv/AOO0f8IfpP8Az96r/wCDy7/%2BO0Aec3v7IfhXxZ8UL/4k/F74k%2BKfHMM2napp%2Bi%2BGPEv9nrpmhWuoAJdx2yWlpBJIXiUQiS5knkSIuiuokk38/wCA/wBhC2%2BG1lqd34U/ak%2BJ8fiK90TSdDsfGFzJok9/pej6a9w9rp0CSaYbV4gbqffLPBLcSbwXmYohX2b/AIQ/Sf8An71X/wAHl3/8do/4Q/Sf%2BfvVf/B5d/8Ax2gDivh98DfDP7PnwN1vwP4d1zVtWku31bVtY1zXp45L3U9QvJJbi5uZjFHHErPJI2EijjjRQqIiqoUYXjj/AJSF/C//ALIz48/9O3hCvUT4M0N8LO19MmQTFcatcyI3sytIVYexBFeXeOP%2BUhfwv/7Iz48/9O3hCgD2aiiigAr5%2B/4KXHTB%2BzXa/wDCaeX/AMIV/wALC8L/APCyPtH/AB7/APCPf2zafbftWePsfl/8fO7939m8/wAz93vr6BooA%2BC/BFp8L/H37AXxa%2BF/w/8AjL4K8LeBI/Hepat4CbVtajtdEPhGHWIpHidkb9zod1PBqFmJowYRazHyg0YRT5hofxX/AGVfhv8Asq%2BOPEH7TPwe%2BB2seEPEfx1lsP2bvBJ1K1k8FNJJoOnJM9jeX0EMCafHfR6tNLfCCNQRdNAjmSFJP1DooA8n/Z00XxP8Pv2K/Anhj4XePtE%2BKWq6J4A0uy0vxPf%2BJHhsPEkkNrFH9rN7FHduI5dpcSBJ2IIyWJLVh/8ABOm48S3f7N19deMtJsbDV5Pi38Q21Ox0zUXu7a3nPjPWvMjineGFpkDZAdooywAJRc4HuleM/sH/APJENc/7LN8R/wD1NdboA9mooooAKKKKACivmP46f8FN/hz4V8cy/Ab9lzwPqXxo%2BJoyjeGfB0itZ6a2cb7%2B/OYbVAeG5YqeGCZzWIL7/gtp4/XNvof7P3w/tZOou7nVNUvovp5eIWx715c83wvO4UYyqNaPki5JPs5XUb91zO3Wx41TPcH7SVOhGdZx0fs4uST7OV4wv3XM2uttj61kkjhjaaaRURFJZmOAAOpJr5b%2BK3/BUTwNN43n%2BCH7GHw41P44ePoW2XVl4UnVNI0sk43XupMDDEoII%2BUtyCpKmsdP%2BCXHjD43MNQ/b3/bM8d/E5JDun8JaLcDw/4fIP8AA1raENLjoH3qxGcjJr1Xxj8Sv2Jf%2BCa/wftdN1m/8M/Dvw5CCNN0bT7YLPfSAAHyoIgZrmQ8bnwzc5Zu9YVsRmNWm5zth6a3lJxlO3p8EfVuT7Js6MBgeLOJcbDBZfh5QlN2jGK9rWl5RhBSjF%2Bbc7b2Vrry1vh3/wAFjfjmpHjP48/DH4L6ZPx9m8E%2BH5dc1NIz1V5bwiFX6jfGeOo5rf8AhT/wSc/ZZ8H%2BJk%2BJfxlh1r4v%2BMzgy%2BKPinqbaq4Oc4jt3/cRqD90bGK4ADVzY/bK/bx/agYWv7Fn7Hb%2BFNBnOI/iH8bpHsImQ/xwadCTPKCPmR8lTxuAzU3/AA7x/aj%2BMv7/APa6/wCCjvjzUraXmXw38M7WHw3Yhe8LvEGkuE922sf1rz4QwteSnSo1MQ1tKo7Q9V7Tlj840n5M%2B7j4R5Tlc1U4nzKlRqLX2c5yxldP/rzh%2BalTl5TqRkuqR7l8UP2lv2Vf2XNHTT/il8YfB/g23toh9m0u61KC3l2dcRWyne30RTXiM/8AwV8%2BEvjydtO/ZN/Z%2B%2BKnxgn3FI7/AMKeDZoNNVgcfvLq6EfljPG7YRXefBn/AIJifsI/Am4XVPBX7OGgXWph/MbWfEcTareNJ1MglvDIUYnnKbete8QQQ20KW9tCsccahUjRQFUDoAB0FeoqWdVl704Ul2jFzf3y5Y/dE9dYvwxylWw%2BExGNkutapDDUv/BdBVarXlKtH/L5JHxJ/wCCxvxm/wCRL/Z2%2BFvwfsJes/jnxPLrd%2BqdmRLECIP32vwOh5pR%2BwR%2B2n8Tf3v7RH/BUfx35Un39N%2BF%2Bh2nhxYR/cW4jDyOP9phmvrein/ZFKp/Hq1KnrNpf%2BAw5F%2BYf8RFx%2BE0ynA4TCLo6eHhUmv%2B4uJ%2Bszv52R8oab/wRh/Yjur%2BLV/ixpvjP4jX0Lh0vPHvju/vGLerKkkaN9CpHtX0B8Kf2ffgX8C9P/sz4M/B7wz4WhKbXGg6JBatIP8AbaNQzn3Ykmuvorpw%2BW5fhJc1GlGL7pK/3u7/ABPFznjbjDiGiqOZZhWq01tCVSXIvSnFwpr5UwooortPmAooooAKKKKACiiigAooooAKKKKACiiigAooooAKKKKACiiigArxn9l//kt/7R3/AGWax/8AUK8L17NXjP7L/wDyW/8AaO/7LNY/%2BoV4XoA9mooooAKKKKACiiigAooooAKKKKACiiigAooooAKKKKACiiigAooooAx/iB8RPh/8JvB1/wDET4p%2BOtG8M%2BH9LiEmp674g1OKys7RCwUNLNMypGCzKMsQMkDvTrTx94E1DwJF8UbDxrpM/hmfSV1WHxFDqUTWElg0XnC7W4DeWYTERIJA20r82cc1l/G7xF4e8JfCfXfEXinQtU1OytbItJZaL4au9YupHLAR%2BVZ2cM08zBypxHGxXG7gKSPkPwjbeKPiZ/wRk8E/BPQfhN47Hibw78J/CcfiPwfr3w/1XSrq8j0ptP8A7T0xUv7aESyyx21zAsWT5wcFdyNuoA%2ByPhr8U/hj8Z/CFv8AEH4PfEfQfFmgXbutprnhrWIL%2BzmZGKOEmgZkYqwKnB4IIPIr4D/4Llf6B8c/gH4v6f8ACPRarqO/%2B7t8ReD0z/5Er6f/AGJ4NW13xr8a/jJB4N17QfDfjv4mW%2BpeFrPxL4eutIvLmGHw/pFjPePZXkcVxbCS5tJ1CyxoziES4xIrH5D/AOC5Oh/F20vLrxL4r8ZeHtS0mx%2BFWvX/AIT03SvDE9nd2Cx%2BLfA3mC5uZL2ZLskMCGSG3C7WyG3Db5We/wDImxD7Qb%2B6z/Q%2B/wDClr/iJeTwf28RTh/4Mcqf/uQ/Teio7S5hvbWK8t23Ryxq6H1BGRUleqfAtNOzCiiigQUUUUAFFFFABRRRQAUUUUAFFFFABRRRQAUUUUAFFFFABRRRQAUUUUAFFFFABRRRQAUUUUAFFFFABRRRQAUUUUAFeM%2BOP%2BUhfwv/AOyM%2BPP/AE7eEK9mrxnxx/ykL%2BF//ZGfHn/p28IUAezUUUUAFFFFABRRRQAV4z%2Bwf/yRDXP%2ByzfEf/1Ndbr2avGf2D/%2BSIa5/wBlm%2BI//qa63QB7NRRRQBleOvHPhH4Z%2BDdU%2BIXj7xBbaVoui2Ml5qmo3b7Y7eCNSzOx9gOg5PQAk18ZNr37T3/BWNja%2BDLjXPhH%2BzrOSs2tlfs/iLx3Aeotwc/Y7Jx/Gcl1P8YZkRfiDe3v/BV79o%2B4%2BB3hq7lP7Pfwv1pD491W2kKx%2BNdciIdNLicfftYThpGBwxxjrFIPtyxsbLTLKHTdNtIre3t4ligggjCJGijCqqjgAAAADgAV4fv5zUklJrDrTTR1Gt9d/ZrbS3O768q975z3%2BIKskpNYWLtpo6rWktVqqSfu%2B617RqWvIve5D4Efs7fBP9mXwLD8OPgT8N9M8N6TCAXhsIMPcOBjzJpDl5pMdXdmb3qt%2B0R%2B078C/wBlPwFJ8R/jz8Q7HQdOBKWyzsWnvJAM%2BVBCuXmf/ZQHA5OACa8Y/aK/b/8AEN38SLn9lD9hHwXb/EX4qKNmr3jSn%2BwvCKElTPqNwvBdSD%2B4Q7iQQcNhGufs6/8ABOHw14M8exftG/tU%2BPLr4ufFlwHXxL4ghH2LRjnd5Wm2f%2BrtkU9Hxuzll8vcVqvrkpv6tlsE%2BXRy2pwt0Vrc0l/LHRfaktj9iy3gvKeH8upY7iWbw9KUVKlhqaisTWj9mXK1y4ejLpVqx5pK7o0amk3yJ/aM/wCCi37ZQ%2ByfsofAyP4O%2BDLkYX4j/Fe1D6pPEf8AlpZ6Uudpxgq0xaNweoNd9%2Bzj/wAE1/gf8EvF3/C5viFqeqfE/wCJsxD3fxB8eTfa7qNxyBaxtmO0RckKEG5VO3eRxX0RRW1LKqXtFVxMnVmtnK1k/wC7Be7H1tKX94zx/HuO%2BpTy/JaEMBhpq0o0eb2lSPatiJN1qqfWHNSpP/n01YKKKK9Q%2BECiiigAooooAKKKKACiiigAooooAKKKKACiiigAooooAKKKKACiiigAooooAKKKKACiiigArxn9l/8A5Lf%2B0d/2Wax/9QrwvXs1eM/sv/8AJb/2jv8Ass1j/wCoV4XoA9mooooAKKKKACiiigAooooAKKKKACiiigAooooAKKKKACiiigAooooAKKKKACvg7/gtLo39vaVd2Ozds/Zx8e3GP%2BuOu%2BC5s/8AjlfeNfHX/BTzRv7f8QanpYTczfsl/Fh419XS48LOv6qK4c0h7TLK8e8J/wDpMj6rgXE/U%2BN8qr/y4nDv/wAr0v8AM%2BnPgdrX/CSfBXwf4i37vt/hbT7nd677aNs/rXU15V%2BwprP/AAkP7E3wg1tn3Nc/DHQXkP8At/2fBu/XNeq1thJ%2B0wtOfeMX98Yv9Ty8/wAN9Sz/ABmH/krVY/8AgNWrH/20KKKK6DyQooooAKKKKACiiigAooooAKKKKACiiigAooooAKKKKACiiigAooooAKKKKACiiigAooooAKKKKACiiigAooooAK8Z8cf8pC/hf/2Rnx5/6dvCFezV4z44/wCUhfwv/wCyM%2BPP/Tt4QoA9mooooAKKK8//AGl/jjc/AH4axeLNF8Ir4g1rVfEOl6D4b0OTUfscd7qOoXsVpAss/lyGCFWl8yWQRyMsUblUkYKjAHoFFfPtz%2B3RdaF%2By94p%2BN3i34Ux2nifwd4xPhHW/CVv4iElpHrD6lBYQY1B4ExZSG6tbg3LQK0cEpZ4gyNHWFZf8FAfHviC%2Bb4O%2BD/gh4b1L4uWvxJvPB2reF0%2BIci6JZz22iw61LdHVRpzTNCLS6tEx9iEgubjymVVR5VAPp%2BvGf2D/wDkiGuf9lm%2BI/8A6mut12f7O/xo0f8AaJ%2BB/hf426Ho9zpsHiTSIrt9LvWVprCYjEttIVyrPFIHjYqSpKEgkEGuM/YP/wCSIa5/2Wb4j/8Aqa63QB7NXy3/AMFJPjr4/Wx8PfsRfs46l5fxO%2BL8kllb3sRJ/wCEe0UAi%2B1STbygWPeiHgltxQlowD9GfELx14c%2BF/gLW/iV4xvRbaT4f0m41HU7g/8ALO3gjaSRvwVTXzB/wTI%2BGvir4nf29/wUg%2BOVmB4z%2BL0av4dsXJYeH/DCtmysoiR/y0UJM7DAfMbEBt2fJzKdStOOCpO0ql3Jr7MFpJrzlfkj5tv7J4eb1KuInDLqLalVTcmt401ZSa7Slfkj2blL7J9B/s8/Ab4efsyfBnQPgb8LdKW00bw/YLbwfKN9w/WSeQj70kjlnY92Y9BxXz3%2B2l8fPid8c/iun/BOj9j3xA9l4o1O0Wf4n%2BOrXLJ4M0Z8bgrAj/TZlO2NAQyhgfl3CSPvP%2BCgf7V%2Bvfs3fDHT/CXwi0tdY%2BKfxB1AaH8NtBADGW9fAa7kU8CC3VhI7H5c7FYgMSNn9iT9kPw3%2ByB8JP8AhFxqkmt%2BLdduTqnj7xfdsXudc1WT5pZndvm2BmYIp6Lycszs2WITxNRZdhvdhFLna05Y20hG20pJav7MNd5I/YOF8Bl3B2RU%2BI8ZSjKbbhgqMknGU6dlLEVIvR0aDsoRatWxCUXenSq83S/s3fsy/Bj9k74Y2fwn%2BCPg6DStNt1DXMwAa5v58ANcXEv3pZWxyx6cBQqgKO%2Boor16VKlQpqnTioxWiS0SR8Nj8fjs0xtTGYyrKpVqNylOTcpSk9W2222/%2BGVkkkUUUVocgUUUUAFFFFABRRRQAUUUUAFFFFABRRRQAUUUUAFFFFABRRRQAUUUUAFFFFABRRRQAUUUUAFFFFABXjP7L/8AyW/9o7/ss1j/AOoV4Xr2avGf2X/%2BS3/tHf8AZZrH/wBQrwvQB7NRRRQAUUUUAFFFFABRRRQAUUUUAFFFFABRRRQAUUUUAFFFFABRRRQAUVHe3tnp1nLqGoXcUFvBE0k880gVI0UZZmY8AAAkk9K574ZfGb4P/Grwh/wsH4N/Fbw14t0ATSRHXPDOu29/Z%2BZH99POgdk3LkZGcjvQB0tfM/7Ymjf8JH%2B0PpXh7Zu%2B3/sz/FC32%2Bu%2B78KLj9a9t%2BFHx2%2BCHx40y71r4HfGTwp4zs9Puvs1/d%2BFPEVtqMVtNtDeXI1u7hH2kHaSDgg1538UdNi1j9vT4c6RP9y6%2BCHj%2BF8%2Bjap4RU/zrOrD2lKUO6a%2B9NfqdeAxDwePo4hfYnCX/gMoy/8AbTM/4JUaz/b3/BOr4Q32/Pl%2BDoLfOf8AnizQ4/8AHK%2Bgq%2BVP%2BCJWpS6h/wAEyfhpFdcTWS6taTKT90xateIB/wB8ha%2Bq64cmn7TKMPLvTh/6Sv8AI%2Bq8SsOsJ4i5zRX2cViF/wCVqj/UKKKK9I%2BKCiiigAooooAKKKKACiiigAooooAKKKKACiiigAooooAKKKKACiiigAooooAKKKKACiiigAooooAKKKKACiiigArxnxx/ykL%2BF/8A2Rnx5/6dvCFezV4z44/5SF/C/wD7Iz48/wDTt4QoA9mooooAK8%2B/aX%2BB118fvhrF4T0Xxevh/WtK8Q6Xr3hvXJNO%2B2R2eo6fexXcDS2/mRmeFmi8qWMSRs0UjhXjYq6%2Bg0UAeG/D/wDZW%2BI3gj4R%2BMfAOqfEzwf4h1Tx1dalqviK%2B174dyT6fd6rezMZDJYnUcPYLbCG2W0MvmbIdz3LsxNcJ4H/AOCaeo/CHw5pXiP4JfE3wj4W%2BIen%2BPbzxRLqunfDMReHHa50mPSJLCLRYL6JoLVbO3tNird7xNarK7yb5Ef6tooA85%2BFP7MXw1%2BHf7M2ifsteJtKtfGHh7TdBj07VY/E2nQ3Eest96aa4gZTExllLSsm3aC2AAAK5H/gnT4Y8NeCv2br7wf4N8PWOkaRpfxb%2BIdppml6ZaJb21pBH4z1pY4ookAWNFUBQqgAAAAV7pXjP7B//JENc/7LN8R//U11ugDzD/grV4g1jx38PvA37D/grUJIdc%2BOXjO30a5ktz%2B8ttFt2W51K5HqEjVFYd1kavpfUtQ8CfBL4YT6pfSW%2Bj%2BGfCWhNJK2MRWVjaw5P/AUjT8hXy58Bj/w1H/wVH%2BJX7QE37/w38FdHj8BeE3PMbavKfP1SZfSSPIt29Vdfwsf8FSfEGtfF2T4f/8ABPHwDqMsOq/GPX1/4Se5tW/eaf4asys99NkfdL7VRc4D4kTvXzkcU6cMTmCV23yU135XyxX/AG9Ucn6K/Q38O8hXGHFj9pPkpTk1Kf8Az7w2HUpVqnyUa0l3l7NfaRW/YB8CeK/2ovirqn/BT/456NLbXHiK0fTvg54du8H%2BwPDm4gXBHIFxdZLsw/gY4O2Tav2FVPw74f0Xwn4fsfCvhvTYrPTtMs4rSws4FwkEMaBEjUdgqgAewq5Xr4DCLBYZQbvJ6yf80nrJ/fsuiSXQ97iziGXEudTxUYezoxSp0aa2pUYXVKmvSOspbzqTqTd3IKKKK7D5oKKKKACiiigAooooAKKKKACiiigAooooAKKKKACiiigAooooAKKKKACiiigAooooAKKKKACiiigAooooAK8Z/Zf/AOS3/tHf9lmsf/UK8L17NXjP7L//ACW/9o7/ALLNY/8AqFeF6APZqKKKACiiigAooooAKKKKACiiigAooooAKKKKACiiigAooooAKKKKAPIv2%2B/h940%2BK37FHxT%2BHHw80aXU9Z1nwNqNrZaRA4V9TLQNus1LEKDOu6EbiF/eckDJrxTw5ca58RbL9pbxr4B%2BAPiuTTfiT4XFp4L8JeKvCGqaAfEN/ZeH/s9wZ1nhhksEmMlrYrJN5LSfY2MW5EVz9kUUAfHH/BL/AMC%2BMvDfxJ8c%2BINVufiNrukT/D/wXpVn4x%2BKvgN/DeqvdWS6qs%2BkRWhtLRZLS0WaCRJ/JZmkv5ka5ufLHlegX%2Bm/Fe0/4KbeC7zxt408PahoVx8HvHB8NadpXhiezu7BBq3hLzFubmS9mS7JymCkNuF2nIbcNv0PXjPjj/lIX8L/APsjPjz/ANO3hCgDzH/gjD/xL/2RNU8IdP8AhHvid4l07Z/d237vj/yJX1pXyX/wSZ/4l2k/tAeEG4/sb9pvxXBEvpEzW7ofx3GvrSvJyLTKKK7K33Smv0P0DxV18Rcyqfz1FP8A8GUsPU/9yBRRRXrH5%2BFFFFABRRRQAUUUUAFFFFABRRRQAUUUUAFFFFABRRRQAUUUUAFFFFABRRRQAUUUUAFFFFABRRRQAUUUUAFFFFABXjPjj/lIX8L/APsjPjz/ANO3hCvZq8Z8cf8AKQv4X/8AZGfHn/p28IUAezUUUUAFFFFABRRRQAV4P%2ByB4it/CH7MXjHxZd48rS/ip8TruXJ42x%2BMdcc/ote8V8e3ni3/AIQb/glh8efFCy7JLbxB8XxbtnpK/inX0j/8fZaxxNX2GGnU/li39yb/AEOfGVvq2EqVv5Yyf3Rk/wBDa/4Ix%2BGD4d/4J2%2BC/FWrndq3iyfUvEPiDUJT895c3N7M3nue7GJYhn0QVif8E%2BUf9qf9pD4o/wDBRrWEMuk6ndt4L%2BFDSDIXQbGU%2Bfcx5/huLkF/UFJB0NVvHHjuX9kr/gh3p%2BtWjtBqdp8FNL02x8v741G%2BtIbZGUDklZrjfj/ZNfQv7IHwXi/Z3/Zc8A/BMQLHN4d8K2drfhejXflhrh/%2BBTNI3/Aq%2BfwNHnqYTDP4aNOM3/ia5Y39Lzl66n3PCFL/AFZ8I6mLjpWxjp4SL6qlCnTxGJa85zlQpSfbmX2mej0UUV9MfHBRRRQAUUUUAFFFFABRRRQAUUUUAFFFFABRRRQAUUUUAFFFFABRRRQAUUUUAFFFFABRRRQAUUUUAFFFFABRRRQAV4z%2By/8A8lv/AGjv%2ByzWP/qFeF69mrxn9l//AJLf%2B0d/2Wax/wDUK8L0AezUUUUAFFFFABRRRQAUUUUAFFFFABRRRQAUUUUAFFFFABRRRQAUUUUAFFFFABXjPjj/AJSF/C//ALIz48/9O3hCvZq%2Bb/jZ8Qrfwj/wVM/Z98J3UgA8V/Cf4kWFuhxzNFdeFLsEfRLeXj39qmc4043l5fi7fmyKlSNKPNLbRfe0l%2BLRzf8AwTk/4lH7R/7VPhDp5Hxm/tHb/wBfdnG%2Bfx2V9aV8l/sa/wDEn/4KXftceGD8qPe%2BDNRgH97ztJk3n/voAV9aV5eS6YDl7TqL7qk/8z9D8Tfe4r9t/wA/MPg5/wDgWCwz/wDbQooor1j8/CiiigAooooAKKKKACiiigAooooAKKKKACiiigAooooAKKKKACiiigAooooAKKKKACiiigAooooAKKKKACiiigArxnxx/wApC/hf/wBkZ8ef%2BnbwhXs1eM%2BOP%2BUhfwv/AOyM%2BPP/AE7eEKAPZqKKKACs3xh4y8IfDzwvf%2BOPH/ivTdD0XS7ZrjU9Y1i%2BjtrWzhUZaSWWQhI0A6sxAFaVeIft/eG/EWu/BPRtW0TwpqWv2nhv4l%2BFdf8AEGh6Pp0l5dXmm2OtWlzcGK2iVpLl4Vj%2B0iFFaST7PtRXcqpAPTNN%2BMPwj1n4ZD416P8AFPw5d%2BDDp7348W22uW8mmfZEBL3H2pXMXlKFbL7to2nJ4rnrr9rz9k6x%2BF0Hxwvf2n/h3D4Kur42Vt4vl8a2C6XNcjcDAt2ZfKaQbH%2BQNu%2BVuODXyt4j8K%2BNPGH7DPxp8P6L8HvGsR8a/Em88VeGtBfwhf22o6fo0%2BuWxk1GG2khUm%2BVoLvVo9OcefIzxrLDmZkPnMPw2%2BKlrfw/Ee8vPjlp2jSfHfXNYtfjZpnwokm8a3cM3hKysUuLnw//AGTJHFHJOtxYCX%2Byo1EOnW7%2BWjTm7YA/SvStV0vXdLttb0TUre8sry3SezvLSZZIp4nUMkiOpIZWUggg4IIIr8%2B/2tfEFzoX/BGj4x22n5N3q3xi8a6Zaxg8yNcfEfUYiv8A3wz/AJV9O/sc%2BBvi14N/4J%2BfDT4cWOg6V4D8XaT8ONKsIdO1fSJ7620maK2jjCTWwu45XIVfmj%2B07lYkGRsZPyJ8ZrfxLqX7D/wx%2BEXjHVrHUdX8Yftua1o2sXOl6c9pbXL/APCc69LNLHA80zQxboshGlkKggF2xuPl522sorpbuLX/AIFaP/tx4vEcmshxKW7g4r1laC/9LPYf2%2BNAtvGnxQ/Zj/YV0sCSz1TxxFrmuQKPlbStCtvNaKQdkkZlA9SmBX2TXyL8Hf8Ai%2Bn/AAV2%2BKXxPb99pfwg8A6Z4O0tzzGb6%2Bc31zIn%2B2gHkt7ED0r66qMrSqVa%2BIW0p8q/w00oL8eZn63xullmWZPkcdPYYaNWa/6e4uTxDv5ql9Xj6aeQUUUV65%2BfBRRRQAUUUUAFFFFABRRRQAUUUUAFFFFABRRRQAUUUUAFFFFABRRRQAUUUUAFFFFABRRRQAUUUUAFFFFABRRRQAV4z%2By//wAlv/aO/wCyzWP/AKhXhevZq8Z/Zf8A%2BS3/ALR3/ZZrH/1CvC9AHs1FFFABRRRQAUUUUAFFFFABRRRQAUUUUAFFFFABRRRQAUUUUAFFFFABRXj3/BQc%2BOR%2Bw58WD8N/7T/tj/hAtT%2Bz/wBib/t2z7O/m/ZvL%2Bfz/K8zy9nz79u35sV8%2B/s6eLPhrovh39orQ/8AgnfrfhOPwxfaOJfg1pvg64thpl54jh0FWvTpkcZ8qREkbTvO8kFBcNNv/emWgD7jr8/f%2BCrvjK5%2BF/8AwUn/AGLPihDuSDTtb8TWWozjgQWt/ceH7GV2P90CfB%2BtdP8A8EfvFPgMr4h8A/Dvw38L7%2BKDwT4Z1bXvHHwy0eSCS41S5F8k%2BlazPLNNJe6tbGASzTyukzfbsywQEr5nnH/BZbwz8ZviB4mvhrfgvw/plr4T%2BCvi3xB4I1jSPE097eXH2LxB4MuJpbm2ksoUtGWKNgAk1wGDtkrtG7zc451ldaUN4rmX/brUv/bWeRn/ALRZNXnT%2BKMeZesHGf48jXzPbvgj/wAST/gsP8cNM6f258M/DWo4/veSXt8/rivrSvimbx7Z%2BGv%2BCmnwW/aStiB4e/aB%2BDMmgxyHmOG9g2apbtu7GSOQRqO5zX2tWOTzi4VoLpUm/lPlnF/NSufq3Hso4tZTmNN3p18DhbPu6UalCa9YyppP1XcKKKK9g%2BACiiigAooooAKKKKACiiigAooooAKKKKACiiigAooooAKKKKACiiigAooooAKKKKACiiigAooooAKKKKACiiigArxnxx/ykL%2BF/wD2Rnx5/wCnbwhXs1eM%2BOP%2BUhfwv/7Iz48/9O3hCgD2aiiigAooooAKKKKACvzg1a5g1z4u/s2fDi5kAil/ak%2BL/iGUHoq6X4k1ubefp5hNfo/X5U6j4q%2By/tH/ANqebj/hW3g/4%2B%2BK85/1XneL9etd/t9zFeNn1RU8Ar9Zw%2B5SUn%2BEGefmGEnmMsNgYb16%2BHpr/t%2BvTR9Q/wDBGiyufE/7KurftKazGRqvxh%2BImu%2BK78Py8Qe8e3jiz/dVbfKgcAPxX1rXg3/BLzwt/wAId/wTz%2BD%2BkeXs83wNZX2Mf8/Kfac/j5ufxr3mt8mpullNCL35It%2BrXM383Jv5n6N4k4yGO8Qc1qw%2BBYirGK7QpzdKEV5RhRhFeSCiiivSPiQooooAKKKKACiiigAooooAKKKKACiiigAooooAKKKKACiiigAooooAKKKKACiiigAooooAKKKKACiiigAooooAK8Z/Zf8A%2BS3/ALR3/ZZrH/1CvC9ezV4z%2By//AMlv/aO/7LNY/wDqFeF6APZqKKKACiiigAooooAKKKKACiiigAooooAKKKKACiiigAooooAKKKKACiiigAr53/aV8A2fxW/az8LfC/Udv2fxJ%2Bzx8SdLn3jjZcX/AITibP4Oa%2BiK8Z8cf8pC/hf/ANkZ8ef%2BnbwhUzhGpBxls1b79P1JnCNSDhJXTTT9Gmn%2BDPib%2B0PFPxA/4Ie/C/4/6DaO3jH9n7XbLVre3JxJGdG1CSzlhYjov2Qb2HQhBmv0s8FeLtD%2BIHg3SfHnhi7Fxput6ZBf6dOOkkE0ayRt%2BKsDXyJ/wT%2B8FaDcaj%2B1V%2BxV4ttvM0yz%2BKuqTGyP8Gk65aiSOID%2B7sEuP9411P8AwSB8aa7ffsir8EPG9z5niP4QeKdS8Ea2G4ObKY%2BQQDzt8h4lB6HYcV8vks5Ua1JS/wCXlPlf%2BOg3B/Nwt9x9Zw/OWd%2BC9BSd6uWV%2BR9/ZYi8PujicN8nV8z6looor6o%2BVCiiigAooooAKKKKACiiigAooooAKKKKACiiigAooooAKKKKACiiigAooooAKKKKACiiigAooooAKKKKACiiigArxnxx/wApC/hf/wBkZ8ef%2BnbwhXs1eM%2BOP%2BUhfwv/AOyM%2BPP/AE7eEKAPZqKKKACiiigAooooAK/GDxD4pxr/AO2L448z/kVPA/jTwpvz9z%2B1PiLrUm32z5n61%2Bz9fiI%2Bgzax8L/227YFi3jz9rG38I2xzz%2B68V6hcMi%2BmdwJxXzHFUpLL4pd5P7qdS34yR73BOEjmHifw3h5/A8dQlL/AA0uaq38lBv5H7Ffs8eFv%2BEG/Z/8DeCfL2f2P4O0yx2Yxt8q0jjx/wCO12NIiJGgjjUKqjCqBwBS19JTgqdOMFskl9yS/Q8rG4meNxlXEz%2BKpKUn6ylKT/GTCiiirOYKKKKACiiigAooooAKKKKACiiigAooooAKKKKACiiigAooooAKKKKACiiigAooooAKKKKACiiigAooooAKKKKACvGf2X/%2BS3/tHf8AZZrH/wBQrwvXs1eM/sv/APJb/wBo7/ss1j/6hXhegD2aiiigAooooAKKKKACiiigAooooAKKKKACiiigAooooAKKKKACiiigAooooAK8Z8cf8pC/hf8A9kZ8ef8Ap28IV7NXjPjj/lIX8L/%2ByM%2BPP/Tt4QoA8km1FP2Z/wDgsDd6h4miNr4f/aE8C2lrpepZxFJr%2BkgoLeQ9FZrVhsJ%2B8zBRk5xBp2sD9in/AIKha9b%2BLoDaeBP2kobGTQdVDYt7PxRZxGJ7WTsjXKMHBJ%2BdyqjOG2%2Brf8FDP2YdT/al/Zt1Dw34IuzZeN/Dd3D4h%2BHmrRsFks9atCZICrH7u/5oiTwBJuxlRXE%2BH1%2BHf/BXv/gndbReKIzpGsanbeXePEhW58MeJrMlWkQEh42jmBYDKs0MmDgOa%2BXrYetSxM6NL41J1qV9nfSpB%2Bt36Kaf2Wep4d51l/D3EWLybNb/AFHHwlGbSvKEZzhJ1IrrPD1406yj9unKpD7SZ9UUV86/8E7v2ovGHxn8C6v8FPj7Glj8XfhdejRfH2nswzdlR%2B41KPpuiuIwHDAAFt2AFKZ%2Biq%2BgwmKpYzDxrU9n33T2aa6NNNNd0a8QZFjuGs4rZbjEuem907xnFpShOEtpQqQlGcJLRxknvdIoooroPGCiiigAooooAKKKKACiiigAooooAKKKKACiiigAooooAKKKKACiiigAooooAKKKKACiiigAooooAKKKKACvGfHH/KQv4X/9kZ8ef%2BnbwhXs1eM%2BOP8AlIX8L/8AsjPjz/07eEKAPZqKKKACvMP2tvjJ4y%2BDHwwsL74a2emS%2BJfEnjDRfDWgSa3BJLZWtxqF/DbG6njikjeWOGOSSbylkjMpiEYePfvX0%2BuN%2BPHwS8NftA/DqX4d%2BJtY1PS9upWOp6XrWiTRx3ul6hZXUV3aXcDSxyR7454Y22yI8bgFHR0ZlIB4lqv7ZPxm8Kfsa/FD4p654f8ADl/49%2BFvibUPD%2BpPYWU8WmXssNxCI76K1a4edgbW5hn%2BxLO8ryhreOV2ZHPmNt/wU/8Ai0fA%2BneG7260OHxVrXxb1LwppXiFvhD4iL/YbHR4tTmuZfCaztq8V1ulEC2ckqO0OL7IgZUb3yP9g7wDJ8FtY%2BCOr/FXxrf2mvan/bWp61c3Ngmoy6%2BNTXU01oSxWiKt0lzHAUjCC1RLaKNbcIpU04f%2BCfnhC2sW1q1%2BO/xAj8eSeOJPFkvxSD6QdZfUH0pNIYGJtPOniE6fFFb%2BSLQJiJJMecPNoA9D8D/G7wDN%2Bzxovx58Z/GPwpPoE/hu21HUfG9u403R5keNS10guZnNtCzHISWV2QEKzswJP5Y/B2Dw/wCOfC2nSeFdbstW034k/wDBT3xDrVlqenXKT2%2BoaTa6pdMHikQlZImA3q6kghgQSK/WD4K/CHwf8A/hRoPwc8Apdf2T4e09LS0kvrkzXE2MlpZZDjfI7lnZsDLMSAOlfn74A8NabL%2B1p%2Bzz4E0xXZLv9oj46%2BKNV3kHbLB4h1ZYm4HTd8o%2BleHn9L2uEj/iiv8AwKUI/wCZ9x4a0L8b4fGf9A1LGVv/AADBYq34yXzsfpVRRRXuHw4UUUUAFFFFABRRRQAUUUUAFFFFABRRRQAUUUUAFFFFABRRRQAUUUUAFFFFABRRRQAUUUUAFFFFABRRRQAUUUUAFFFFABXjP7L/APyW/wDaO/7LNY/%2BoV4Xr2avGf2X/wDkt/7R3/ZZrH/1CvC9AHs1FFFABRRRQAUUUUAFFFFABRRRQAUUUUAFFFFABRRRQAUUUUAFFFFAHkX7fXxC8afCj9ij4p/Ej4eazJpms6L4G1G6stXhjDPppWBt14oYFSYF3TDcCuY%2BQRkV518DfHOpfs/a1%2B0J4U8O3/jz4i%2BFvhnaadq%2BgabPrV94l1qW6l0YXdzpNtPcyTXN1I%2By3njhZ3YNqAVdsZjRfp29srPUrOXTtRtIri3uImjngmjDpIjDDKyngggkEHgg1ynw5/Z5%2BAPwe0%2Bw0n4R/A7wf4WtdLluZNMtvDnhm1sY7N7gILholhjURmUIm8rgvsXdnAoA%2BZf%2BCUfxt8e/FHx98dtE%2BJ/jTx7rGs2fjbS9Qmg8XeEdd0qz0g3mhafNLp%2BnxatawGC2inaZY4QqyNHsnkUm48yT0O/8aeJPEP8AwU28F%2BHdW%2BEfiHQrPSfg944Sw17VbnTntNaDat4Sy9sttdyzoE2jP2iKA/ONob5se8aV4V8L6Fq2p69onhuws77W7mO41m9tbNI5b%2BZIUhSSZ1AMrrFHHGGYkhI1UcKAPKPHH/KQv4X/APZGfHn/AKdvCFAHs1fEnxRm8Wf8Euv2mvE/7TGn%2BGJ9U%2BA3xT1WC7%2BIcOlQs8/g3WiPLbVBEoO%2B2nJBlI%2BbcfVY0k%2B26raxo%2Bk%2BIdJutA1/TLe9sb23eC8s7uFZIp4nUq8bowIZWUkEEYIOK4sdg3ioRcJcs4O8Zb2drarrFrSS6razSZ52Y4B42nGVOXJUg%2BaEt7O1tV1jJe7JdVs00mvm79p/9kTTv2kJ9D/bH/Y8%2BJ9n4Y%2BKum6ak/hbxtpkolsPEFkyh1sr4Jlbi2kXAD4YpkEbgNtaH7If/BQDw18cNbuPgL8dNBT4d/GfQm8jxB4C1acIbpwuftNg7HF1buPnXaWZR13LtkbzBvgp%2B1d/wTL1vUtd/ZG8ISfE/wCCV5fPfXnwoN2w1rwwXJaVtJkbIuISSW%2BznLE4CgszyHrzcf8ABO//AIK%2B/DxIpJLe%2B13RydkbN/Zvinwtcq3OB/roSkg/24WZf48V4lOpVhim6SVOu/ipybUKlvtQl3/vJXtZVIacx91w/wAe5PnWApcO8YQnGVJWo1YJSrUVd3jT5nFYnCtvm9i5xqUm26TptyhP6qor42sz/wAFPv2IIzpiaVb/ALSfw8sz/o1z9sFj4wsbcfwyb8xX5UdCMyyHOdowB6D8Ev8AgqX%2Bxn8aNU/4Q%2B7%2BJR8EeK4pBFe%2BDPiLbHRtStpv%2BeRWciN3/wBmN2NepSzfCuap170pv7M9L/4ZfDL5Sv5I9PH%2BHme08NLG5U44/Cx1dXDN1OVf9PaVvb0X3VSlZO6VSW7%2BiKKbFLHPGs0MiujqGR1OQwPQg96dXqHwewUUUUAFFFFABRRRQAUUUUAFFFFABRRRQAUUUUAFFFFABRRRQAUUUUAFFFFABRRRQAUUUUAFFFFABXjPjj/lIX8L/wDsjPjz/wBO3hCvZq8Z8cf8pC/hf/2Rnx5/6dvCFAHs1FFFABRRRQAUUUUAFfm/%2Bytf2es/8FM9GsL6cLB4O0j4s607EEhGuviRrNmOn8RwAAOTkV%2BkFfmh/wAE3B/wln/BQr4%2BeIPv/wDCJeJdX0Pd/c%2B1fETWL3b%2BO3NeTmvvPD0%2B9WH/AJKpy/RH6BwD%2B5p5xi/%2BfeAxC%2BdWWHor/wBOSXzP0a/4TDSf%2BfTVP/BHd/8Axql/4TDSf%2BfTVf8AwR3f/wAar528ff8ABZH/AIJvfC/x3rXw08c/tG/Ydb8O6tc6ZrFl/wAIhrEv2e6t5Wilj3x2jI%2B10YblJU4yCRzWT/w/L/4Jaf8AR0P/AJZOt/8AyFVSzzJYScZYmmmv78f8zOj4W%2BJmIoxq0skxcoySaaw9VpppNNNQs0000%2BqafU%2Bn/wDhMNJ/59NV/wDBHd//ABqj/hMNJ/59NV/8Ed3/APGq%2BdvAP/BZH/gm98UPHei/DTwN%2B0b9u1vxFq1tpmj2X/CIaxF9ouriVYoo98loqJud1G5iFGckgc1337f3xg%2BJn7Pv7E3xT%2BOPwbtNNm8T%2BEvA%2Boaro66vMyW6ywQtJvfbHJu2qGYJtw7KELIGLr14XG4PGxcsPUjNLfladvWx8/nnDPEnDFaFLOMFVw0ppuKq0503JJ2bSmk2k9G110PS/wDhMNJ/59NV/wDBHd//ABqj/hMNJ/59NV/8Ed3/APGq%2Be9T/bc%2BNvhX4h%2BOfBfxC%2BBXgTQtP%2BGXw8tPE3jnxPd/FS6Njbvdxao1vbW2NHEs6h9PjEsrpEUS4LRxzOgik5n4bf8ABSrV/irqnhnQ9W%2BE%2Br%2BF9bi%2BNEvg7xDpCy3ltDIh8H6hr8M%2B3WNHtL14XSGJNv2e0kEqBllkhUrcdJ4Z9Vf8JhpP/Ppqv/gju/8A41R/wmGk/wDPpqv/AII7v/41Xzz%2ByV%2B3z8Sf2h9P0S48c/swf8I/d%2BLPhNovxB8J6X4e8aw6rPdadfMEeCc3EFlFb3EJeJioeRHR8hwymOup/ar8WfFXUvi18L/2ePhb8V9Q8CN42utYutW8V6NptjdXsVvYWQkW2gW/t7i3VpJpoWZnic%2BVBKq7WYSIAeu/8JhpP/Ppqv8A4I7v/wCNUf8ACYaT/wA%2Bmq/%2BCO7/APjVfOUH7Qn7SPxP/wCCZHhD4/8Aw%2BtLn/hOdd0jw7N4hu/Cuhre3FvaS39pFrGoadZSLIJ5UszeXNvAVl3Msa7JziN%2BB8K/tL/EHxr%2BzL8QvG/jP9qr4l%2BCofhZ8Rr/AMPad4iPw/0iHxF4w8y0sbjTYZdNvNMZBcySX6WyW0FtbzTOsalYnZkoA%2By/%2BEw0n/n01X/wR3f/AMao/wCEw0n/AJ9NV/8ABHd//Gq%2BHP2gf2q/27fgRYaH8Rfi7aeKdGu9K8CeCr2bwv4K8Dw6j4f1/Wrm7MXiKzv9Ra2mawEKmNbcC4tcl1ZDdsTCvQ6B%2B0p%2B1PoX7ZOgfCP4j6543tX8e/Erxb4Zj0O88AW8XhzQ9JttP1TUNE1Ww1L7KrX1zNbadbtNE1zOqyXU6PFAY4wwB9g/8JhpP/Ppqn/gju//AI1V%2Bwv7TU7RL6xnEkUgyrAEd8EYPIIOQQeQRXgP7G/jb4qeIfi58T/B%2Bo/HDWviZ4E8LyaZp2i%2BNvEOk6bbTyeIEa9XWbCJ9NtbWC4trYLpy%2BYIiyXEl3C0jtCyx%2B3%2BD/8AkEzf9hS%2B/wDSuWgDVooooAKKKKACiiigAooooAKKKKACiiigAooooAKKKKACiiigAooooAKKKKACvGf2X/8Akt/7R3/ZZrH/ANQrwvXs1eM/sv8A/Jb/ANo7/ss1j/6hXhegD2aiiigAooooAKKKKACiiigAooooAKKKKACiiigAooooAKKKKACiiigAooooAK8Z8cf8pC/hf/2Rnx5/6dvCFezV4z44/wCUhfwv/wCyM%2BPP/Tt4QoA9mooooAK8L/aT/wCCcv7Kn7UGuL478Y%2BB5tE8YwkPZ%2BPPB962maxbyAYWTz4uJWUcDzVcAdAK90orDEYbD4un7OtBSj2av/wz800/M5sVg8JjqXssRBTj2av8/J9mmmujPj%2BH4Tf8FZ/2ZV%2Bz/CP45%2BEPjj4atj%2B40f4lWz6brqxdo0voD5c7/wDTSfrnp0rjfjL%2B2D8EvHOj/wDCMf8ABTb/AIJeeOPDwgQpNrd54Ri8RaVaDuYtTtBvQ9TmNQcd6%2B8qK8yplE1Bwo1mov7M0qsfun73/kzObBYbN8lxMcTlGPq0Jx1j7zly/wCGXNCpH5VfvPzU%2BGHgv/gnlqapd/8ABPn/AIK1eIPhNJKd1j4XuvGfm6YrHkD%2BzNX2SOfYseM17XpM/wDwWM%2BHNhHqPhzxh8E/jdouMxXjpPoep3Y9VMJNoufqea96%2BKH7IH7KvxqeW4%2BK/wCzn4K1%2B4myXvdS8N20lxk9SJtnmKfcMK8W1P8A4ItfsIRX0mr/AA08J%2BKfAV9K25r3wR441CzYN6hWldF%2BgUCvN/sjMMP/AAFFf9e6lSn/AOSTVWHyVkfcf8RP8RKumcYfB5mu9ekvaP8A7iqMKt/N1p97tlcf8FGv2lvh6PL/AGh/%2BCXPxZ0vy%2BJ7rwDNa%2BJ4V/2827R4Xv3wPWrej/8ABaP9gGS%2BTRfHvxH1zwTqT/8AMN8ZeDdRs5FPcMwhaNce7VV/4dpfHLwgMfB3/gqN8cdNVf8AUx%2BLNRtteSP0GJo0yB6elVdX/Zc/4KuWNi%2Blw/t8%2BAPHNof%2BXTxx8ILa3SQdg/2Vmz9etP2vEdD7MpesaU/xhOm//JQ/1z4PxP8AyMOF61J9XhMbdfKGIjVXy5vmj2nwV%2B3d%2BxX8RQi%2BDP2r/h7eyyfdtl8XWiT/APfp5A4/EV6bpOt6Nr9muoaFq9re27fdntLhZEP0ZSRX57eNP2E/23tbLv45/Yl/Ys8Zbs7rrTdA1DTL6X/el8sAH6GvMtW/4J1fFLSLttUh/wCCMWiC9HW/%2BHn7SU%2Blt9VS4kKj6baP7azil/Ew1/8At2rH9Ki/EX9qeEuI3nmeGf8AfwdGul86FeDt58t/I/WCivyW/wCFHftUeChu0f8AZ4/bP8H%2BX0t/B/x%2BsdUt19vLMXzj2zR/wtT9vfwSduleM/23dM29H1P4HaX4kRPdmaePcPej/Wdw/iYaS9P%2BDTiHs/DKt/C4iUPKvgMfS%2B9xp119x%2BtNFfkt/wAPAf8AgoL4Q/4//wBoL4hz7Ov/AAmv7KBsf%2B%2BvsUz4/Cl/4fPftleFSP7X%2BKPwYnjX7/8Awkfww8YWUuP%2B2ELqDR/rhlkf4kZx%2BS/%2BSQf2TwnU/gcS5c/8datR/wDT2Djb5n60UV%2BUFh/wcG/Fizby9QtvgprDLwy6dfeILDJ/7e7LitzTf%2BDibxYjBNQ/ZY8G36/xT2Pxss7YD/gFxbA1ceMuH5b1Gv8At1/o2XHhnD1v93zfLan%2BHMsGv/TlSkfqHRX5v2H/AAcQ%2BDVAbxB%2BzMluP4vsPxY0S5x9Muma0Yf%2BDjv9le0wPEPwT8bxnuNMv9HvD%2BG29XNbrivh574hL1Ul/wC2m0OCc6rO1Cphqn%2BDG4CX5Y2J%2Bh9FfB2jf8HD37EergM/w3%2BK1qD3m8KWz4/79Xb10en/APBeP9gm7AN5c%2BObIHqbrwTcnH/fvdW0eJMgntiYff8A5pDlwFxcnZYXm/w1cNP/ANIxcz7Oor5Gt/8Agud/wTSIzqfxw1PTx3%2B2eCNWGP8Avi2atWw/4LUf8ExNSx9n/apsFz/z8eHtUi/9DtRWyz3JJbYmn/4HH/MP%2BIf8dNXjlldr%2B7Tcl98XJH1JRXzrY/8ABWv/AIJwajj7P%2B1x4WXP/Pdpov8A0OMVsWP/AAUy/wCCfeoY8j9sX4fLn/nv4lgi/wDQ2FbRzXK5bV4f%2BBx/%2BSM58B8c01eWVYn/AMJ636Ume5UV5JZ/t9/sLahgWn7ZnwrYnop%2BIGnKfyMwNa1n%2B2D%2ByTqOP7P/AGo/h1Pnp5Pjewb%2BUtaxx2CltVi/%2B3o//JHDU4X4no/xMBXj60K6/Oij0WiuOtP2iP2f7/H2D45%2BDp89PJ8TWjfykrTtPil8Mr/H2H4jaDNnp5Wrwt/Jq1VehLaafzX%2BZwVMrzOj/Ew9SPrCa/OCN6iqlpr%2BhX%2BPsOtWk2enlXKt/I1b69K0TT2OOUJwdpJr10/MKKKKZIUUUUAFeM%2BOP%2BUhfwv/AOyM%2BPP/AE7eEK9mrxnxx/ykL%2BF//ZGfHn/p28IUAezUUUUAFFFc78V/iv4B%2BCPgK9%2BJnxN1xtP0eweCOaaKzmuZZJZpkgggiggR5Z5pZpY4o4o0aSSSRERWZgCAdFRXnll%2B1Z8Bb/4FXf7SSeOXi8Iae1xHf3t5pF3Bc21xBcNay2sllJEt0l0twpg%2BzNEJvNxGELEKcwfttfs0RfA/xV%2B0Vqnj%2B60vwt4HuJbbxdJrfhvUbC%2B0q5RIpPs02n3Ful4s7pcW7Rw%2BT5kwuITGr%2Bam4A9Wr86f%2BCQnh4j45/th%2BOyn/H9%2B09e6cH/69fEWoNj/AMmP1r9CPC/iXRPGnhnTvGPhq9%2B06bq1hDeafc%2BWyebBKgeN9rgMuVYHBAIzyAa%2BNP8AglD4XbRvAP7QmvzJ8%2Btfto%2BOJ0cjrHH4kEIH0DRv%2BZrgxdP2mKw7/llJ/wDkkl%2Bp9ZkGNWDyDOI31q0aVP5PFUpv/wBNo%2B2aK%2BYvH/8AwU1/4QLx3rfgX/h3z%2B09rX9i6vc2H9saB8J/tNhf%2BTK0fn20v2kebC%2B3ej4G5WU4GayP%2BHsP/WNT9rT/AMM3/wDdVZSzrLIycXU1X92f/wArPzqXEOTQk4yq6rT4anTT/n0fWlYvxH%2BHngz4ufD7XPhV8RtBi1Xw/wCJdIudL1zTJ2ZUurS4iaKaIlCGAZGYZUgjOQQea%2BfPAP8AwU1/4T3x3ovgX/h3z%2B09ov8AbWr21h/bGv8Awn%2BzWFh50qx%2Bfcy/aT5UKbt7vg7VVjg4r2b9pPxh8Tvh58AvF/xB%2BDPhy01nxPoOgXOpaPot7C7pqUkCGU2oCOhDyqjRo27Cu6sQwBU9eGxmGxkXKjK6W%2Bkl/wClRj%2Bp24PH4PMIuWHlzJaPSS8/tRj%2BFzGg/Y1/Z4Xwr4p8Han4Q1LV7Pxr4bt9B8VS%2BIvFep6ndalYQfafJjkubu5kn3p9rnxKHEo3L8/yJtzvA/7BX7LXw91Jdc8P%2BAtSm1IeLh4ol1bWvGOraleXGrjSJtGF3NcXl1LLOw0%2BeW3xIzLtKnG5EZfDfEf/AAUf%2BJvxI8LXPjH9lxtD1Ww8R%2BO5tI%2BFEsXhJdUbxBp1hpC3Wq3sjXOt6VbQxxXfnwB2uF2izcBJWkHl8T4N/bq%2BI3xc8R6J8eLL7Ta6d48%2BGX7O%2Bqx%2BFG1%2B9%2Bw6VP4i8Xa7bX8kH2aeLc5i8lGY5SdbWFZkliXyj0nYfYfhj9k74EeCbHRLDwd4TvdKXw54GtPB2iTad4j1CGa00W1eN4LVZUnDnaYo8yFjIwBDOwZgdH43/s9fCn9onRNP0P4paPqMw0jUTfaRf6J4ivtIvrG4MMsDPDeWE0NxFuhmmicJIA6SMrAqSK%2BTfgn%2B1T%2B1B8bv2pPhB4w1PxV4R/sTx38LfH%2Bt%2BHPh7pV1e6e1rJZ3%2BjQW0GrSma4S6lj80o1wltEbaR7hFikzk%2B3ftv6t4kn0z4UfDeXxVqvh3SPHfxXsND8Z6l4b1240%2B6hszp9/dJBDe27RT2/n3trZ2vmRtHIy3BVSpcUAehSfs7/CxPAY%2BGGjWOsaLoEXhyw0Ky0zwz4r1HSo9PsbMk26Wn2O4iNm6g7TLAUldERGdljRV4vxL/wT1/ZV8V%2BFPCfg7UfCXiS3tvBOvXeueHbvSPiPr1hfRapdLKtxfzXltex3N3cyCeYNPPJJIfOk%2Bb52zwPwi1H9oX4p/wDBNvxvofwn%2BJN3P40s9S8d%2BHPAPizWNVLXFxb6fr2qafplxJeShy0ptbaAfa3Dl2xO2/cc8V%2Bz7Z/FX4s6d8b/AIFnwX4%2BsLDwl4p0Y%2BCfD3jj9oTVrTVYb%2BXSop7vT7vxBpN1fXSRjcl0IVmutq3SblVWWKIA%2BlfEH7JfwU8XeIPDHiPxdaeJtWk8IW9hFo9lqvj/AFm5sXeyk821uLq0ku2t7%2B6jlxKLq6jln8xEcyFkVhJH%2Byp8F1%2BJWp/F250/xBd6/qdld2gu9R8b6tcx6bFdBRcDT4JbpotLaQIm5rNIWO0c8V8AT/Gr4ueL/wBmjUtf8YftJeMtM1f4Xfs1%2BIvFPhq/0vxZd2wvfE%2BnaxqNnM1w8Mw/t2CzewsrZftHmxXaXglkjL3C7e90j4m/Hq8/b1sfiPqfjrWY/CE3x7j8H3Bh%2BIGoZhc%2BFBI2gnw03%2BgG2W8zcHVNxvMjiHyf39AH17%2BzX%2ByV8E/2RvCo8C/Aqz8TWGiR2cFraaRrXj/WdZtrKGHdsS2i1G7nW1HznPlBN/y7t21cdt4P/wCQTN/2Fb7/ANK5a1Ky/B//ACCZv%2Bwrff8ApXLQBqUUUUAFFFFABRRRQAUUUUAFFFFABRRRQAUUUUAFFFFABRRRQAUUUUAFFFFABXjP7L//ACW/9o7/ALLNY/8AqFeF69mrxn9l/wD5Lf8AtHf9lmsf/UK8L0AezUUUUAFFFFABRRRQAUUUUAFFFFABRRRQAUUUUAFFFFABRRRQAUUUUAFFFFABXjPjj/lIX8L/APsjPjz/ANO3hCvZq%2BcP2j9X%2BNej/t4fCef4HfD/AMLeItSb4R%2BO1u7TxX4wudFgjg/tTwkS6S2%2Bn3rO%2B7aNhjUYJO/ICkA%2Bj6K8Z/4Tj/goX/0a/wDBn/w/Grf/ADL0f8Jx/wAFC/8Ao1/4M/8Ah%2BNW/wDmXoA9morxn/hOP%2BChf/Rr/wAGf/D8at/8y9H/AAnH/BQv/o1/4M/%2BH41b/wCZegD2aivnHSf2jv27dY%2BM%2Bv8AwOt/2UPhIuqeHfC%2Bka7eXL/HXVPIkg1G51K3hRCPDG4uraXOWBUAB48FiWC9R/wnH/BQv/o1/wCDP/h%2BNW/%2BZegD2aivGf8AhOP%2BChf/AEa/8Gf/AA/Grf8AzL0f8Jx/wUL/AOjX/gz/AOH41b/5l6APZqK8Z/4Tj/goX/0a/wDBn/w/Grf/ADL1y/gH9o79u34ieK/G/hDR/wBlD4SQ3HgPxRFoWqyXPx11QJPPJpWn6mHi2%2BGCSnk6jCpLBTvRxjADMAfR1FeM/wDCcf8ABQv/AKNf%2BDP/AIfjVv8A5l6P%2BE4/4KF/9Gv/AAZ/8Pxq3/zL0AezUV4z/wAJx/wUL/6Nf%2BDP/h%2BNW/8AmXo/4Tj/AIKF/wDRr/wZ/wDD8at/8y9AHs1FfOPwi/aO/bt%2BMvhS78X%2BHP2UPhJbW9n4o1vQpI73466ormfS9VutMncbfDDDY01pIyHOSjKSFOVHUf8ACcf8FC/%2BjX/gz/4fjVv/AJl6APXb/RdH1Vdup6TbXI9J4Ff%2BYrDv/gx8HtVz/afwo8NXOevn6Fbvn80rz7/hOP8AgoX/ANGv/Bn/AMPxq3/zL0f8Jx/wUL/6Nf8Agz/4fjVv/mXqJU6c/iSfyX%2BREqVKfxRT9Un%2BaZ099%2Byj%2By3qef7S/Zs8AXGevn%2BDrF8/nFWRefsI/sQajk337HHwrlJ/if4faaT%2Bfk1n/wDCcf8ABQv/AKNf%2BDP/AIfjVv8A5l65f4I/tHft2/Hj4MeEPjj4V/ZQ%2BElrpfjPwvp%2Bu6bbah8ddUWeGC7to7iNJAnhhlDhZAGCswyDgkc1jLB4OW9KL/7dj/8AInPLL8BP4qMH6wh/8idHd/8ABN79gK9z537Gvw2XP/PHwfaR/wDoKCs26/4JZf8ABO28z537H/ggZ/55aSI//QSK1/8AhOP%2BChf/AEa/8Gf/AA/Grf8AzL0f8Jx/wUL/AOjX/gz/AOH41b/5l6yeWZbLehD/AMAj/wDImMsnyiW%2BGp/%2BAQ/%2BROWuf%2BCRP/BNu7z5v7JHhoZ/55NcJ/6DKKz7n/gjJ/wTKus%2Bb%2ByjpQz/AM89Y1BP/QbgV3P/AAnH/BQv/o1/4M/%2BH41b/wCZeuX%2BN37R37dvwH%2BDHi/44%2BKv2UPhJdaX4M8L6hrupW2n/HXVGnmgtLaS4kSMP4YVS5WMhQzKMkZIHNZvJ8oe%2BHp/%2BAR/yMXkGRS3wlL/AMFw/wDkTAuP%2BCIX/BLq5/1n7LMAz/zz8Wawn/oN4Kpzf8EK/wDgl5JxF%2BzhPD/1z8a6z/7NdmvU/wDhOP8AgoX/ANGv/Bn/AMPxq3/zL0f8Jx/wUL/6Nf8Agz/4fjVv/mXqHkWSPfDU/wDwCP8AkR/q5w8ndYSl/wCAR/RI8guP%2BCC//BMec5X4H6lH/ueMtSP/AKFOapzf8EBP%2BCaUv3Phbrsf%2B54uvP6ua9r/AOE4/wCChf8A0a/8Gf8Aw/Grf/MvR/wnH/BQv/o1/wCDP/h%2BNW/%2BZeofD%2BRP/mFp/wDgKN45NlVP4KMV6XX5SR4VL/wb6/8ABN2T7ngnxPH/ALniuf8Armq0v/BvN/wTok%2B5onjGP/c8Ut/VDXq3xd/aO/bt%2BDXhS08X%2BI/2UPhJc2954o0TQo47L466ozifVNVtdMgc7vDCjYs13GznOQisQGOFPUf8Jx/wUL/6Nf8Agz/4fjVv/mXqXw3kD/5hYf8AgKN44DDQ%2BFNek6q/Kqj54l/4N2f%2BCeMn3E8cp/u%2BJ1/rCai/4h1/2CIzmy8R/Ei29PI8UQj%2Bdsa%2BjP8AhOP%2BChf/AEa/8Gf/AA/Grf8AzL0f8Jx/wUL/AOjX/gz/AOH41b/5l6n/AFZ4e/6BYfd/wTZUbbTqf%2BDq/wD80HzvH/wb2/sbW5zY/F/4v23p5HjC2GP/ACUqzD/wQO/Zntf%2BPH9pf47W%2BOnk%2BOrZcf8AknXv/wDwnH/BQv8A6Nf%2BDP8A4fjVv/mXrl/H37R37dvw78V%2BCPCGsfsofCSa48eeKJdC0qS2%2BOuqFIJ49K1DUy8u7wwCE8nTplBUMd7oMYJZRcNZCtsPH8f/AJImWGhLec3/ANxa/wD80Hmlv/wQ2%2BDFmc2P7Zf7RcGOnk/EaBf5WdX7f/gjH4Kshiw/b7/aeh9PL%2BKcY/laCvZP%2BE4/4KF/9Gv/AAZ/8Pxq3/zL0f8ACcf8FC/%2BjX/gz/4fjVv/AJl6tcP5NHaivvn/APJnNPKsFU%2BJSf8A3Frf/LzyWL/gkStr/wAeP/BSX9qiHHTZ8WMfytxUPwJ/ZL1H9lz/AIKG%2BDvt37UHxT%2BJC678GfGXlj4meKjqZ07ydW8LZ%2BzZVfL8zzRv/veVH/dr2D/hOP8AgoX/ANGv/Bn/AMPxq3/zL1Q8D%2BB/2rPGP7Vnhz43fG74cfD3wzo3hn4e%2BIdDhh8K/EO%2B1q6u7rUr7RLhGZLjSLFIo0TS5QWDuxaVAFxkjooZTl%2BGqqpShZr%2B9N/g5tfgFDKcvw1ZVacGpLrzVH/6VUkvwZ7rRRRXonohXkH7a/w38ffEP4T6RffDLwy2u6x4T8f%2BHfE8Ph1LuGB9Wi0/U7e4nto5J3SJZjCkhi810jMqxh3RSXX1%2BigD4y174A/tEeNf2Qfi74Hu/gPe2eu/EvxtceKx4avda0zfb2Emp2yvpsdzFdPHBqrWFo06TqTbwXVzGy3DGIuOD1D/AIJ%2B/tYeO/gb4307wDfjwPYT%2BNtd8QeFvh78Wbf/AIS7VtUM/h%2BysLZ9R1ODW18y6jvE1CS3e4u71Yo5rIsQbSGOH9CaKAPMvgp8NPirpP7JXhL4T%2BOvH8uheLrLwZYafqWveE9Nto3sbmOBEYwRXn22Dcu3b8/nIxBYcEAeZ/8ABP7wKnw7/ZX12xm8R6hrVwfjz46vNW1rU44FubyRPHOpiW5lW2iiiVisW9hHGiA52qq4UfTNfJX7JXiz9s7T/h74os/hj8A/hhq%2BhJ8afiL/AGfqOvfF3UdNu5l/4TPWSxktotAuUiIbcABM%2BQAcgnaE0m0%2Bxcak4wlBPSVr%2Bdndfc9T6g/4TnwT/wBDhpf/AIMI/wD4ql/4TnwT/wBDhpX/AIMI/wD4qvLf%2BE4/4KF/9Gv/AAZ/8Pxq3/zL0f8ACcf8FC/%2BjX/gz/4fjVv/AJl6ZB6l/wAJz4J/6HDSv/BhH/8AFUf8Jz4J/wChw0r/AMGEf/xVeW/8Jx/wUL/6Nf8Agz/4fjVv/mXo/wCE4/4KF/8ARr/wZ/8AD8at/wDMvQBqX3wM/Yo1T4caT8HdT%2BDvwtuPCOgXv2zQvCs/h7TX03TbndI3nQWxTyoZN0sp3ooOZHOfmOdDT/hx%2ByjpNra2WleA/h7bQ2VppNpZQ2%2Bl2KLbwaXPJcaZEgCgIlpPLLLbqMCCSR3jCsxJ8z%2BCP7R37dvx4%2BDHhD44%2BFf2UPhJa6X4z8L6frum22ofHXVFnhgu7aO4jSQJ4YZQ4WQBgrMMg4JHNdR/wnH/AAUL/wCjX/gz/wCH41b/AOZegDVsfgf%2BxVpfinW/HOmfCD4XW%2Bt%2BJYLqHxHrEHh/TUutVjusfaUuZQm%2BdZdq%2BYHJD4G7OK6DxvpXwA%2BJngi5%2BGXxI03wd4g8N3kKRXfh7XIbS7sZ40ZWRHglDRsqsqkArgFQR0FcV/wnH/BQv/o1/wCDP/h%2BNW/%2BZej/AITj/goX/wBGv/Bn/wAPxq3/AMy9AHVDwT%2BzCPD1v4RHhHwGNJtPDc/h610v7BZfZ4dInEazacke3atrIIYg8AHlsIkBU7RjDuv2fP2GL74W2vwOvfgh8J5vBVlfm%2Bs/B8vhrTG0uC6O/M6Whj8lJP3j/OFDfO3PJrifjd%2B0d%2B3b8B/gx4v%2BOPir9lD4SXWl%2BDPC%2Boa7qVtp/wAddUaeaC0tpLiRIw/hhVLlYyFDMoyRkgc11H/Ccf8ABQv/AKNf%2BDP/AIfjVv8A5l6AN3xB8Jv2QPFlj4Y0vxV8NPhtqdt4Jljl8GW%2BoaNp80egOgQI1kroRalRGmDFtI2LjoKnX4dfspr8Wj8fV8CfD0eOzb/Zz41Gl2P9rGLy/L8v7Zt87bs%2BTbuxt46cVzf/AAnH/BQv/o1/4M/%2BH41b/wCZej/hOP8AgoX/ANGv/Bn/AMPxq3/zL0Aeo/8ACc%2BCf%2Bhw0v8A8GEf/wAVR4MO/QzOoOya%2Bu5YiRjcj3MjK30KkEexry7/AITj/goX/wBGv/Bn/wAPxq3/AMy9cv8AF39o79u34NeFLTxf4j/ZQ%2BElzb3nijRNCjjsvjrqjOJ9U1W10yBzu8MKNizXcbOc5CKxAY4UgH0dRXjP/Ccf8FC/%2BjX/AIM/%2BH41b/5l6P8AhOP%2BChf/AEa/8Gf/AA/Grf8AzL0AezUV4z/wnH/BQv8A6Nf%2BDP8A4fjVv/mXo/4Tj/goX/0a/wDBn/w/Grf/ADL0AezUV84%2BPv2jv27fh34r8EeENY/ZQ%2BEk1x488US6FpUlt8ddUKQTx6VqGpl5d3hgEJ5OnTKCoY73QYwSy9R/wnH/AAUL/wCjX/gz/wCH41b/AOZegD2aivGf%2BE4/4KF/9Gv/AAZ/8Pxq3/zL0f8ACcf8FC/%2BjX/gz/4fjVv/AJl6APZqK8Z/4Tj/AIKF/wDRr/wZ/wDD8at/8y9cvq37R37duj/GfQPgdcfsofCRtU8ReF9X12zuU%2BOuqeRHBp1zptvMjk%2BGNwdm1SAqApBCSZKkKGAPo6ivGf8AhOP%2BChf/AEa/8Gf/AA/Grf8AzL0f8Jx/wUL/AOjX/gz/AOH41b/5l6APZqK8Z/4Tj/goX/0a/wDBn/w/Grf/ADL0f8Jx/wAFC/8Ao1/4M/8Ah%2BNW/wDmXoA9mor5x0n9o79u3WPjPr/wOt/2UPhIuqeHfC%2Bka7eXL/HXVPIkg1G51K3hRCPDG4uraXOWBUAB48FiWC9R/wAJx/wUL/6Nf%2BDP/h%2BNW/8AmXoA9morxn/hOP8AgoX/ANGv/Bn/AMPxq3/zL0f8Jx/wUL/6Nf8Agz/4fjVv/mXoA9morxn/AITj/goX/wBGv/Bn/wAPxq3/AMy9cv4B/aO/bt%2BInivxv4Q0f9lD4SQ3HgPxRFoWqyXPx11QJPPJpWn6mHi2%2BGCSnk6jCpLBTvRxjADMAfR1FeM/8Jx/wUL/AOjX/gz/AOH41b/5l6P%2BE4/4KF/9Gv8AwZ/8Pxq3/wAy9AHs1eM/sv8A/Jb/ANo7/ss1j/6hXhej/hOP%2BChf/Rr/AMGf/D8at/8AMvVv9lb4c/GnwfrHxQ8d/HTQPC%2Bk6p4%2B%2BIUWuWeleE/Etzq1va2sWg6Ppiq9xcWVmzSNJp0rlRFtCyINzHOAD1uiiigAooooAKKKKACiiigAooooAKKKKACiiigAooooAKKKKACiiigAooooAK%2BV/wBp79rT4ufDD4x%2BLNa8A%2BHfB8nhj4P%2BH/D9741OtaRcTarqlvq9/KlzBYXEdxGll5FtZx3GZIpxcyFIyIfL80/VFeM/Gf8AYh%2BHHxu%2BKR%2BJmueOfFWlxaja6Ra%2BL/DWjXVqmneKYNLvZL2xivllt5Jgsc00ufs8sBljkMUxljCoAD2aiiigAooooA%2BY/Dn7SvxMh/b/APFHwf8AiNrHh7wn4bXxBaaJ4Mi1H4Rayl14xgGgQajiDxG12unNLHd3OoAWgheTy7SYBQWaRfpyvK/Fn7LUHj/4yaR8U/Hvxv8AGur6V4e12PWtA8AXB0yLRrHUI7d4I5w0Nkl7Ls8ySRUmupIxI%2B7Z8iBfVKACiiigDxf/AIKC/F344fs/fsj%2BNPj18Ar3wpHrHgnQrvXLqDxhotzfW13aWttLM9uiW11bMkrsiKJC5VAWJR%2BBXn/jz9rT4ueC/jx4t1Pwp4d8IRfDzwh8Y/CPw%2B8ZWc2kXB1vVdV12DRUj1CG7S4WGOOD%2B3NJjMUlvK8iQz4lj2oK9h/ax/Zxsv2tPgRr37PutfFXxT4R0nxPZS2OuX/hBdO%2B13NlLE8U1tuv7S6jRHV%2BWRFkBUbXXnPFwfsA%2BDp/iLZ/EXxV8cfH2usdZ0nXPE2jahLpUVj4n1zTEjSx1a9jtrCJluIhBaYW2aCBjY2xeJjHkgHvdFFFABXi/wC2T8Xfjh8ErXwD4x%2BFl74U/sbUPiZ4c8PeL7HxBotzc3Vza6rrNjpoNnLDdQpbSRrcyyb5EnUlEXZyTXtFeVftXfstv%2B1V4b0LwvP8ffG/ga30LxJYa6jeC4dHZ7u9sbyC8s2lOpafeDbFcW8bhYwgblZN6naADzj9nn9pX4ma3%2B1V4t%2BCPxQ1fw94T06HxTrdv4J8JSfCLWdMudetoXSU39vrVxd/YNQdjJNLLFbQF%2BS7FcMT9OV5LpP7KIf4yaL8ZfiP%2B0B478azeF7u8u/CeheIRpMNho91c28lrJcRLYafbSyv9nmnhXz5JVRZ32gEgj1qgAooooA8P/bu%2BLnx4/Z%2B%2BDWr/HX4UeMfAtjp/hbRbm8vdF8WeGb2/ufEN7lFs9Ms5La9g%2BzzXEpFujeVdM0s8QWFj8ref/BH9r74z658S/BX9reDPCWkfDTxv8T/ABR8NvCvhrTtLmj1fRL/AECHVt889yLhreaCRvD%2BposMdvEY1a2PmSZYD0/9pX9kGD9pLx54I%2BIE37QPjvwhc%2BAbu5vdFsfDEWjT2cl7KgjW8mg1PTrxHnhj8xYZAFMYnlI%2BZsir4D/Ya%2BHvgP4y2/xdh%2BIvi7UoNO13U9e0TwhqVzZf2TpWt6jG8eoapAkVqk/nzie7LK8zwo19cmOKPzOAD2uiiigAr5f/AGufjx%2B0v8FviJp/hTSofAHjXR/HMOtW2i/DmLwffSawlraaHdXcl/cTi9eK6thdRW9tJCLWIH7fCgmMjIkn1BXh037E1xH%2B0f4r/aa0T9qv4l6dq/i3TYdOudLhg8Pz2mn2cMDRw21m1zpMtzbxLK73WxZtrzuXcODtoAZ%2Bwh%2B0H43%2BPfw9vLr4r%2BPtGvvF2nCzbX/Ddl8LtX8I3mgPPbLKILmy1e6nuHBbf5dwAkciodobaTXuleb/AAO/Zu074M%2BJ/EnxD1j4peKfHHirxXFY2%2BseJ/FzWC3L2lmJvstqkWn2trbRxRtc3LjbCGZriQszZGPSKACiiigD45/4KCftx/FT9jDxz/aeuaLoHjHwi%2Bjajrdv4Vl%2BHOp2Utumm6Nfakkn/CRTXT6ZPd/a9NGyxWBLoRzLKBthaRvXv2aPi78c9W%2BKnjf9nr9o658Kah4n8I6ToetR614K0i5sLG5sdUF5GkRgubm5dZYrjTrtS/m4kQxNsjJKit8df2EvBH7TmtXVr8f/AIt%2BNfFHgu5kuJF%2BGV5JpsOixSTWM1kzb7eyjvpAI7iZgkt06B33bfkQL0/7Pn7M2kfAO817xFd/FDxZ448R%2BJDZx6t4q8a3Fm99LbWkRitbUfY7a3hWKIPKwxHvZ55XdnZyaAPSqKKKACviP9qf9sr9rP4N/GrxB8KPB3hvw5411Ow0W413wwE%2BB/iCOTRQNR0y1Qwt9uceJpBY6pced/ZflPC0JWURiYR19uV4fr37Fup%2BJfHp%2BJ2tftc/FGbW9PgvIvBt4U0ADwqt1NDJP9kjGk7J2aOBbfderdMsTOFKu7OQDqv2WPiw/wAZPhHB4svfiZo3iq/h1G6stUvtG8GX3h0W1xFKytazabqFxPdWc8YwrxzOHz821QwFejVw3wD%2BAvh74AeGdT0bSvFOt%2BINR1/XrjW/EniTxHNA17qt/MERp5RbxQwJiOKGJUhijjVIkAUYJPc0AFFFFABRRRQAUUUUAFFFFAFHxR4hsPCXhrUfFeqhza6ZYzXdyIly3lxoXbA7nCmvnP8AYm/aT%2BNfj/xTo/gz42eHvBlmPHXwtsviN4Zh8GaVcWg0yO8uCbvT7szXEou5o3ubZ/tiCATtLMTBHtBf6Wu7S1v7WWxvbdJoZo2jmilUMrqRgqQeCCOMV5D%2BzN%2BxX4C/Zg1V9X0D4g%2BLfEstt4YsfDPh0eLL21mGgaFZvI9vptqbe3hLRqZPmlnM1xII4vMmfy1wAexUUUUAFcL%2B1B48%2BIvws/Zo%2BInxO%2BD/AIUXXvFvhzwLq%2BqeFtDaxmuhqOo29nLLbWxhgZZZhJKiJ5cbB23YUgkGu6rO8W6Jf%2BJfDGoeH9L8V6joVze2kkNvrWkLA11YuykCaIXEUsRdTyBJG6ZHzKwyCAeXfsU/Fqf4ofDO%2BstW%2BIXh/WdT8O6qunXmmaJ8MNT8HPoaC2gkis7jStUuZ7mFwjiRXby0eKWLYmBvf2KvPPgP%2BztpPwOvPEviO5%2BIniTxj4k8X6jDeeIvFPit7MXd0YbdLeCIR2NtbW0UUcaAKscKZLOzFmZmPodABRRRQB8uftUftY/FD9nD4veOLL4laN4S8RfC%2Bw/Z38X%2BPbbQrfRLhNVdtEGlrPbXFzJcvbzRTrfTgILZCoRMu%2BWFdv8Asz/F/wCPmqfFzxl%2Bzr%2B0s/hK88UeGPDHh7xLHqvgrSbmxspLLVn1K3W2MNzc3LmWG40i7BlEgWRHiby4zuWoPjH%2Bwr4d%2BOnx1b4y%2BPPjt45l02bwVqfhG%2B%2BHsMGi/wBiXejaktt9vtJC%2BmtekTtaQOzi6DqUIRkRmQ9J%2Bzv%2By7of7Pt9rXiOf4oeLfG/iHX7Wwsr/wAT%2BNrm0kvTYWKSLZ2Y%2ByW1vH5URnuHBKGR3uZXd3Zs0Aen0UUUAFfInxr/AGl/2tvBmu/tAeBLfwr4M8WXvgLw/wCFPEnw2sdJ%2BH%2Bp386x6jqupQhLy1ivHl1GeBdNjnU2wtyXJCr8qtX13Xhcv7FHiGL46eNvj/oX7aHxW0rVvG%2BkWOmXNjZWfhhrTTbayuLmezS2EuivJ%2B6N5dKDM8pdZyJPMKoVAOr/AGVPi3N8ZfhSPE2o/E7RvFOo2uq3Njq11o/gi/8ADZs7iJvmtZ9M1G4nurSdFK7kmYMQyttVWFek1wnwD%2BAegfAHQtZsdP8AFuueI9V8TeIJdc8T%2BJvEktu17qt/JDDB5sgtoYYIwsFvbwqkUUaKkKALnJPd0AFFFFAHxt%2B0t%2B13%2B0t%2Bzx8ZoPhtrKfDPxrfa3BBN4Rh07wte2kvgu81LxDpnh7SJtTle%2BmF1FO2rzgtEtnI4sbpYwy%2BYYvcf2Vfi/8AEj4jDx/8PvjEdEn8VfDTx43hrWdV8NadNZ2Gp%2BZpenatb3ENvNPPJb5tdUt0eNppcSRyYYgjHC23/BNXwk118Q38Q/tL/E7Wbf4k68dc1i31I6F5lnqUVxDPp9zbXUWlpdKbB7e3FpG80kUSwoGR%2Bc%2BsfAP4C6H8A/D2rabZeL9c8Sat4i16bWvE/ijxK9sb/V76SOKHzphawQQLsggt4ESKKNFjgjULwSQDuqKKKAGXP2n7NJ9j2edsPlebnbuxxnHOM18QfFb9rn9tP4afETXPhtb23gPxnr3hi98NW%2BreOvBHwV1/Vo/DlvqzXj3thLpVnqU93czRw2VjdExTp%2B7uoWlgQGJpPt67hkuLWW3hupIHkjZVniCl4yRgMu4FcjqMgj1Br57%2BDH7AXiD4CfDa4%2BGnw7/bq%2BMUUd1qz6nNrN5ZeE59Qlu5XlkuZ5pn0I/aZJ3l3SSTiR8xpsKAYIB6z8BPiHZfFb4O%2BH/iFYfEDRvFSanp4kfX/D%2BkzWFpdyAlZClrPNNLbFXVkaGSR3jZWVjuUgdfXJfAv4L%2BEv2ffhfp3wp8FXN/cWVhLdXE19qtyJrq%2Bu7q5lurq6mcKoaWa4nmlfaqrukO1VXCjraACqPieHxJc%2BG9Qt/Bup2Nlq8llKul3mp2D3VtBcFCI5JYY5YmmjVsFkWSMsAQHUncL1ZvjHQb/wAUeFr/AMO6X4t1LQbm8tXig1rRxAbqxcjiaIXEUsRdTyBJG6HHzKwyKAPh74b/ALdn7Wvxg%2BKet/BL4Wab8Pk8Z6ba67fSeM/Ffwu1rQ11TTNItdFlSxl0S8vk1DT5Xu/EOxJp5nj8qGS4SF1nQH7G%2BAXxa034%2BfAnwV8ddG02Wzs/GvhLTdetLOZ9zwRXlrHcLGxAGSokAJ9RXi2r/wDBMjwPrWuX3xFu/wBpT4pp8QNWS8tda%2BJNte6RDq1/pl1bWttNphRNNFnDbFLK0YeRbRSrJAsqyhyzH6D8F%2BD/AA18PPB2k%2BAPBmkxafo%2Bh6ZBp%2Bk2EOdltbQxrHFGuecKiqo%2BlAGnRRRQBy/xp1Hxxo3wt1rW/hz4hsdL1awszdQ32oeD73xAiRxkPKBp1jPBc3kjRK6pFDIHLsuFc/I3xb8Jf%2BCiPx%2B8SeNND1PxvceEfAngzUp518QeOLz4GeIprbWL%2BHX7rSES5lW%2BjTwzPJa2lr%2B41RpJYHlWN87AlfbfxM8Ga7498JTeHPDfxS1/wbeSSxvFr/hmKxe7g2sCVVb%2B2uYGDAFSHibgnGDgjxW6/wCCc3hTUPB9x8NtW/aQ%2BJt34Y1zUJr/AMeaBNcaOIvGF3PeNdXE19Kumi4i80ssLR2ctrEIYkjVFG7cAfRNFFFABRRRQAUUUUAFFFFABRRRQAUUUUAFFFFABRRRQAUUUUAFFFFABRRRQAUUUUAFFFFABRRRQAUUUUAFFFFABRRRQAUUUUAFFFFABRRRQAUUUUAFFFFABRRRQAUUUUAFFFFABRRRQAUUUUAFFFFABRRRQAUUUUAFFFFABRRRQAUUUUAFFFFABRRRQAUUUUAFFFFABRRRQAUUUUAFFFFABRRRQAUUUUAFFFFABRRRQAUUUUAFFFFABRRRQAUUUUAFFFFABRRRQAUUUUAFFFFABRRRQAUUUUAFFFFABRRRQAUUUUAFFFFABRRRQAUUUUAFFFFAH//Z\">"
      ]
     },
     "metadata": {
      "tags": []
     },
     "output_type": "display_data"
    }
   ],
   "source": [
    "s.run(tf.global_variables_initializer())\n",
    "\n",
    "BATCH_SIZE = 512\n",
    "EPOCHS = 40\n",
    "\n",
    "# for logging the progress right here in Jupyter (for those who don't have TensorBoard)\n",
    "simpleTrainingCurves = matplotlib_utils.SimpleTrainingCurves(\"cross-entropy\", \"accuracy\")\n",
    "\n",
    "for epoch in range(EPOCHS):  # we finish an epoch when we've looked at all training samples\n",
    "    \n",
    "    batch_losses = []\n",
    "    for batch_start in range(0, X_train_flat.shape[0], BATCH_SIZE):  # data is already shuffled\n",
    "        _, batch_loss = s.run([step, loss], {input_X: X_train_flat[batch_start:batch_start+BATCH_SIZE], \n",
    "                                             input_y: y_train_oh[batch_start:batch_start+BATCH_SIZE]})\n",
    "        # collect batch losses, this is almost free as we need a forward pass for backprop anyway\n",
    "        batch_losses.append(batch_loss)\n",
    "\n",
    "    train_loss = np.mean(batch_losses)\n",
    "    val_loss = s.run(loss, {input_X: X_val_flat, input_y: y_val_oh})  # this part is usually small\n",
    "    train_accuracy = accuracy_score(y_train, s.run(classes, {input_X: X_train_flat}))  # this is slow and usually skipped\n",
    "    valid_accuracy = accuracy_score(y_val, s.run(classes, {input_X: X_val_flat}))  \n",
    "    simpleTrainingCurves.add(train_loss, val_loss, train_accuracy, valid_accuracy)"
   ]
  },
  {
   "cell_type": "markdown",
   "metadata": {
    "colab_type": "text",
    "id": "FYYxxwewR5HS"
   },
   "source": [
    "# Submit a linear model"
   ]
  },
  {
   "cell_type": "code",
   "execution_count": null,
   "metadata": {
    "colab": {},
    "colab_type": "code",
    "id": "adL-rdnTR5HU"
   },
   "outputs": [],
   "source": [
    "## GRADED PART, DO NOT CHANGE!\n",
    "# Testing shapes \n",
    "grader.set_answer(\"9XaAS\", grading_utils.get_tensors_shapes_string([W, b, input_X, input_y, logits, probas, classes]))\n",
    "# Validation loss\n",
    "grader.set_answer(\"vmogZ\", s.run(loss, {input_X: X_val_flat, input_y: y_val_oh}))\n",
    "# Validation accuracy\n",
    "grader.set_answer(\"RMv95\", accuracy_score(y_val, s.run(classes, {input_X: X_val_flat})))"
   ]
  },
  {
   "cell_type": "code",
   "execution_count": null,
   "metadata": {
    "colab": {
     "base_uri": "https://localhost:8080/",
     "height": 34
    },
    "colab_type": "code",
    "executionInfo": {
     "elapsed": 878,
     "status": "ok",
     "timestamp": 1593458701378,
     "user": {
      "displayName": "Valera Karnushin",
      "photoUrl": "https://lh3.googleusercontent.com/a-/AOh14GjO7AN5Womfzv4SNPuWUoQqk3PtCv6chVdYaRpr=s64",
      "userId": "18443405740041874800"
     },
     "user_tz": -180
    },
    "id": "tCiGLiauR5HY",
    "outputId": "2bd56c00-8397-4fb4-a9cb-75523a483432"
   },
   "outputs": [
    {
     "name": "stdout",
     "output_type": "stream",
     "text": [
      "Submitted to Coursera platform. See results on assignment page!\n"
     ]
    }
   ],
   "source": [
    "# you can make submission with answers so far to check yourself at this stage\n",
    "grader.submit(COURSERA_EMAIL, COURSERA_TOKEN)"
   ]
  },
  {
   "cell_type": "markdown",
   "metadata": {
    "colab_type": "text",
    "id": "rdtKkhveR5Hc"
   },
   "source": [
    "# MLP with hidden layers"
   ]
  },
  {
   "cell_type": "markdown",
   "metadata": {
    "colab_type": "text",
    "id": "l8JcjDVaR5Hc"
   },
   "source": [
    "Previously we've coded a dense layer with matrix multiplication by hand. \n",
    "But this is not convenient, you have to create a lot of variables and your code becomes a mess. \n",
    "In TensorFlow there's an easier way to make a dense layer:\n",
    "```python\n",
    "hidden1 = tf.layers.dense(inputs, 256, activation=tf.nn.sigmoid)\n",
    "```\n",
    "\n",
    "That will create all the necessary variables automatically.\n",
    "Here you can also choose an activation function (remember that we need it for a hidden layer!).\n",
    "\n",
    "Now define the MLP with 2 hidden layers and restart training with the cell above.\n",
    "\n",
    "You're aiming for ~0.97 validation accuracy here."
   ]
  },
  {
   "cell_type": "code",
   "execution_count": null,
   "metadata": {
    "colab": {
     "base_uri": "https://localhost:8080/",
     "height": 309
    },
    "colab_type": "code",
    "executionInfo": {
     "elapsed": 105701,
     "status": "ok",
     "timestamp": 1593460053491,
     "user": {
      "displayName": "Valera Karnushin",
      "photoUrl": "https://lh3.googleusercontent.com/a-/AOh14GjO7AN5Womfzv4SNPuWUoQqk3PtCv6chVdYaRpr=s64",
      "userId": "18443405740041874800"
     },
     "user_tz": -180
    },
    "id": "eEWxFGzZR5Hd",
    "outputId": "6a540ac5-0ecb-4fd7-ffd3-eff3c05c68ee"
   },
   "outputs": [
    {
     "data": {
      "text/html": [
       "<img src=\"data:image/jpeg;base64,/9j/4AAQSkZJRgABAQEASABIAAD/2wBDAAIBAQEBAQIBAQECAgICAgQDAgICAgUEBAMEBgUGBgYFBgYGBwkIBgcJBwYGCAsICQoKCgoKBggLDAsKDAkKCgr/2wBDAQICAgICAgUDAwUKBwYHCgoKCgoKCgoKCgoKCgoKCgoKCgoKCgoKCgoKCgoKCgoKCgoKCgoKCgoKCgoKCgoKCgr/wAARCAEgA2ADASIAAhEBAxEB/8QAHwAAAQUBAQEBAQEAAAAAAAAAAAECAwQFBgcICQoL/8QAtRAAAgEDAwIEAwUFBAQAAAF9AQIDAAQRBRIhMUEGE1FhByJxFDKBkaEII0KxwRVS0fAkM2JyggkKFhcYGRolJicoKSo0NTY3ODk6Q0RFRkdISUpTVFVWV1hZWmNkZWZnaGlqc3R1dnd4eXqDhIWGh4iJipKTlJWWl5iZmqKjpKWmp6ipqrKztLW2t7i5usLDxMXGx8jJytLT1NXW19jZ2uHi4%2BTl5ufo6erx8vP09fb3%2BPn6/8QAHwEAAwEBAQEBAQEBAQAAAAAAAAECAwQFBgcICQoL/8QAtREAAgECBAQDBAcFBAQAAQJ3AAECAxEEBSExBhJBUQdhcRMiMoEIFEKRobHBCSMzUvAVYnLRChYkNOEl8RcYGRomJygpKjU2Nzg5OkNERUZHSElKU1RVVldYWVpjZGVmZ2hpanN0dXZ3eHl6goOEhYaHiImKkpOUlZaXmJmaoqOkpaanqKmqsrO0tba3uLm6wsPExcbHyMnK0tPU1dbX2Nna4uPk5ebn6Onq8vP09fb3%2BPn6/9oADAMBAAIRAxEAPwD9/KKKKACiiigAooooAKKKKACiiigAooooAKKKKACiiigAooooAKKKKACiiigAooooAKKKKACiiigAooooAKKKKACiiigAooooAKKKKACiiigAooooAKKKKACiiigAooooAKKKKACiiigAooooAKKKKACiiigAooooAKKKKACiiigAooooAKKKKACiiigAooooAKKKKACiiigAooooAKKKKACiiigAooooAKKKKACiiigAooooAKKKKACiiigAooooAKKKKACiiigAooooAKKKKACiiigAooooAKKKKACiiigAooooAKKKKACiiigAooooAKKKKACiiigAooooAKKKKACiiigAooooAKKKKACuN%2BOP7QHwm/Zx8JW/jT4veJ5dPtL7U4dN0u2stLub%2B91K9lDGO1tLO0jluLudlR2EUMbvtR2xhWI7KvFv2u/gP8VPiX4h%2BGfxl%2BBd14fl8X/CrxjPrWmaJ4tu57bTdYhudLvdMubaW4ghmktH8q9aSOdYZtrR7TGyu2ACjpH/AAUr/Y71rxm3w8tvHviCDW7fSodU1bTtR%2BHOvWkmi2EhuAt3qXn2SDTIAbWcNLdmFEKYYqWUGbwn/wAFH/2NfGfg/wAQ%2BOtM%2BLFza6f4Y0e11fVBrnhPVdMuJNPuXMdreWtvd2sU19bzyAxwy2ySpM5CRlmIB86vP2GPjP8AHW0/aRP7Qt74V8My/tB/CPTvBskfgrWLrUzo7RWusWsr%2BbcWtqZ1VNRiZDsXeyygogxuy9Y/Y2/at%2BM%2Btaz8UP2lPh38G9X1e0%2BE6eBtB8E6d4n1QaRrSy6jaXt5fXd2bBJ9PYmyg%2BzxQw3BtnDP50hIwAeyX/7fP7N2k%2BAbH4h6tdeOLSHVPED6Jpeh3Xwj8SR67e3yW5uXjh0dtPGoShYAZTIluUCKzFsA49P8JeOfDfjbwTY/EPRbi5i0rULBbyCTVNPnsZY4iu7MsFykcsDAfeSRVZSCGAIIr41tv2Gf2tJfgpJ4W8feGPCnjS%2Bh%2BIcut%2BC9B1n9ofxXb3fgOxOmxWoi0/xbHp7atcSGUXcreZDGBHeGENsjGfUvB/7Bmq%2BKfgJo3hb9pz46%2BOPEfj5PhtdeFtf8Q6T8Q9at9Muhc2tzbyTPpa3SWN5MiXTBbq4tmmdoopWKuibADc8Mf8FJP2MvF/h7xJ4s0b4tXK6Z4W8GXni6/vr7wlqtpFe6BaruuNU09p7VBqtogK5nsvPQmSMAkyIG4n40f8FdP2YfAf7M/wATf2gfhW%2Bs%2BM7v4b%2BDYfEjeGW8L6xps2r2Nw7R2t3avNYFrixlkRh9vgjmtkVWdnCqSPHfC/8AwSh%2BNC/BPxf8LPFnh3w9J4h/4UL4j8A%2BC/Hmo/tD%2BNvECSXGpWEdp5h0jVUkttGtpDDE8scEl0yeVGqFggz6P%2B1L/wAE5vih%2B0BYeKtE0Pxj4d0q2179le%2B%2BGlrLM87GDVpLiOWGdo1iANqNhBIbzBnhO9AHqkv/AAUU/ZZt/E3hrwJeav41tvEni7TpdQ0HwpefCTxLDq8tnFd/Y5LmSwk08XNvCkxG6SaNEVGWUkRsrmXwN/wUT/Y7%2BJGqarpXhD4tyXB0rQ9Q1lbufw1qVvaapp1iwS8u9NuZrdYdVhhYqHeyedVLqCfmGcXwR8APjz4x/apsf2oPjn4f8HeH5JPg5f8Ag/VNE8J%2BK7vVTBcy6tHcpJDcz6fZl4mgiUsTGjJIdoV1USHwGb9hz9pf4bfs8%2BF/Cnxo1rwIPCP7N3wP8SaB4L1PwrfXcmpeKd2hHTLe4vbeW2ii04JZozSQxS3QknZXDxqgQgH0D4U/4Kl/sL%2BNPBus/ELQ/jLdrouheDj4tutRv/BmsWcdzoIKB9Vs/PtEN/ZxmRBJPbCWOLcPMZc167a/GD4c3vxcuPgVZ%2BIxN4qtPDUGv3emRWsrCHTp55beGd5QnlL5ksE6ohfe3kyEKQjEfFX7I/7P3xC8WfBL4Q/Hb9t/Uvhlovww%2BG/7L9z4fgk07W5wmr6bqmnaWby%2B1X7VBDDpkEVppyq0CS3CZleRplWNVrsP%2BCK3wr8d6P8As76n8evit4tbxFrHjW%2Bg03w54hlgaOS%2B8I6JF/ZWiXBD8/6VDDNqhPd9WcgKCFAB9lUUUUAFFFFABRRRQAUUUUAFFFFABRRRQAUUUUAFFFFABRRRQAUUUUAFFFFABRRRQAUUUUAFFFFABRRRQAUUUUAFFFFABRRRQAV4jpH/AAUY/Y91K716z1P4pXnh5vDnhy58QahJ418I6roMc2k27pHPf2smpWsC31ujyRK0tsZUBljGcuufab2K5ms5YbO6EEzxMsUxj3%2BWxHDbT1wecd6/MTV/%2BCOX7cvxf1bwvrnxu%2BOOhvrfhrwfqFnqHijUPit4m8TjxDrf2zSr611E6XfRQ2Wk20lzpi%2BfYWQCiOTassgVAoB9sv8At/8A7MNr8NG%2BLGseIPFWlaW2uQaNY2eufDLX7DVNTv5kMkMFlptxYpe37SIGdfs8MgZUdgSEYjovAf7VnwP%2BI%2Bv2XhPw54h1SHV7/wAKT%2BJIdI1rwrqWmXaabDd/ZJZZYby3ikgdZ/kMMirL32bea8m%2BJ3wc/bd%2BMTfD342654N%2BFWh/EP4UeOptY8P%2BGbXxxqV/ouuWdxpN3plzHcXz6VDNYzFL2SSN0tbgRmIKfMEjYq/En4Dftwa/8ZfDv7TXgfRvhXaeLL74Yar4L8Y6FqXivUpLDSFuL%2BG6tb%2ByuE04SagYhG6yW8sVoJS4xLFjkA7jSf8Ago3%2ByB4j17wL4W8K/EbVdZ1P4k%2BDdK8W%2BDdO0TwPrN7PeaHqL7LXUZEgtGa1t92PMknEa24ZTN5QYE7Hw1/bc/Zu%2BK/xGufhP4Z8X6tZ6/b6Xc6nDZeJ/BmraIt/Y28iRz3dlLqNrBHfwRvLEHltmkRfMQkgMpPlH7Cn7CXxY/Zh1/4caz488QeGrs%2BDv2UvCPwxv30i5nlZtW0t5muZovMgj3Wrb02MxV22/NGmBXjXw0/4JV/tjeJ/ij4X8TftTfGGz1SLT/AHivwv408TQfF/xJrV54il1exS2/tO10y%2Bhj0/QjlSxtLRSi5UCZxGq0AfUvhP/gov%2ByP410WPxVoPjvXP7DuNV0vT9P8AEt78P9btdK1GXUr2OyspLS%2Bns0tryCW5mijFxBI8IMqFnCsCfS/C3xd%2BHnjX4geKfhd4X8Q/a9c8FyWcfie0S0mC2Ml1B9ogjMrII3doSshRGZkWSMsFEibvmHxx4E%2BIvhX/AIJ7eNPgR/wUM8T/AAq8EeAtB%2BGkWgW3xM8O%2BLbsM06RpbWupPaXVnAmmzLMLeSGCO4umM5REcnaG7X/AIJX/D74seG/2RNK%2BKv7RVglv8TvixfS%2BOviJCtu0X2e/v1jMNpsb5k%2By2MdlZ7TkgWuDQB9G0UUUAFFFFABRRRQAUUUUAFFFFABRRRQAUUUUAFFFFABRRRQAUUUUAFFFFABRRRQAUUUUAFFFFABRRRQAUUUUAFFFFABRRRQBzXxik%2BJsPwy1if4Oa1oOneJYrXfpl74m0qa%2BsYirAuZYIJ7eSUeWHwqyx/MVy2M1xXwE%2BKPxg/aG/Yj%2BH/xr8P3PhrR/Gvjj4caJrjS3mlXFxpdneXllBcSn7Mtwk0kSmR9sfnqxAUGTq1d78TPB2qfEHwHqfgvRviDrPhW41G38lPEHh%2BGzkvLMEgs0S3tvcW5JAKnzIXGGOADgjyXwl%2Bw1P4M/ZLT9jzSf2t/iuug2vghPCula/DPoltrGm2MaJFE8FxbaXGqzJAghWUoTtJc5lxKADW/Y0%2BN3xF%2BNvhTxfJ8Rbrw/qkvhXx9feHdP8W%2BE9Nns9M8RxW0UBlureCee4eIRXMlzZOvnygzWEpVsEKOX%2BKH7TfjTx1%2B1toX7Jf7J/7QPwpt9Zt/B/iHWvHkGtaNJ4ivNKlsrvRbe2t5Laz1WyezMg1K4YmbcW8hQoGGNenfs5fA2P8AZy%2BFtj8I9P8AiPrXiTTNJVINFbWtN0m0OnWaRRxRWcMelWVnAsKBMrmMvl2y5AVV4X4i60ln/wAFKvhDosijF78E/iGyNnndHq3g04/JmP4Um0ty4QlUdo9m/u1Zf/4Qf/goX/0dB8Gf/DD6t/8ANRR/wg//AAUL/wCjoPgz/wCGH1b/AOaivZqKZB4z/wAIP/wUL/6Og%2BDP/hh9W/8Amoo/4Qf/AIKF/wDR0HwZ/wDDD6t/81FezUUAeM/8IP8A8FC/%2BjoPgz/4YfVv/moo/wCEH/4KF/8AR0HwZ/8ADD6t/wDNRXs1FAHjP/CD/wDBQv8A6Og%2BDP8A4YfVv/moo/4Qf/goX/0dB8Gf/DD6t/8ANRXs1FAHjP8Awg//AAUL/wCjoPgz/wCGH1b/AOaij/hB/wDgoX/0dB8Gf/DD6t/81FezUUAeM/8ACD/8FC/%2BjoPgz/4YfVv/AJqKP%2BEH/wCChf8A0dB8Gf8Aww%2Brf/NRXs1FAHjP/CD/APBQv/o6D4M/%2BGH1b/5qKP8AhB/%2BChf/AEdB8Gf/AAw%2Brf8AzUV7NXGfEPxP8MPBk%2BqeMvjL4k0LSdA0nTLNptU8TXsNvZWjTTyxAtJORGhd/KQEkZJVRycUpSjCLlJ2SNKNGtiKsaVKLlKTSSSbbb0SSSbbb2STb6JnGf8ACD/8FC/%2BjoPgz/4YfVv/AJqKP%2BEH/wCChf8A0dB8Gf8Aww%2Brf/NRVf8A4a//AOCcH/R0XwR/8LbR/wD47R/w1/8A8E4P%2Bjovgj/4W2j/APx2uX6/gP8An9D/AMDh/wDJHuf6pcWf9C7Ef%2BE9f/5QWP8AhB/%2BChf/AEdB8Gf/AAw%2Brf8AzUUf8IP/AMFC/wDo6D4M/wDhh9W/%2Baiul%2BF3xD/ZU%2BOP27/hSvjn4feMP7L8r%2B0/%2BEW1Ox1D7J5m/wAvzfIZvL3eXJt3Y3bGxnBrjvij%2B0l8BPhD%2B0v4a/Zo8W/CnVHvPEvg3UvEUWt6X4EvL6ytIbO6s7dknltrWRIgftW5pHZUiCKJCpmh39EKlOrHmg013TTX3ptfiePisJi8DXdDE05U5reM4yhJXV1eMoxkrrVXirrVaalz/hB/%2BChf/R0HwZ/8MPq3/wA1FH/CD/8ABQv/AKOg%2BDP/AIYfVv8A5qKwLD9t79h7VPhHpvx8sdO1yTwTqsL3Fn4qHwZ177D9jSCC4a/km/s7bDY%2BVcRuL2QrbkLLiQ%2BTLss%2BMP2s/wBk74a%2BKtZ8KfEG109Luy8dxeE9KsPDnhDUtZvr/UX0CHXPs4trTT2Yy/Y5HlAhM6GNFJkEjPBHZzmt/wAIP/wUL/6Og%2BDP/hh9W/8Amoo/4Qf/AIKF/wDR0HwZ/wDDD6t/81FdR8MvGv7N/wAY9A0fxL8Nb7wzqtvr%2BhR6zpMcVrGlxNYOdqzmB1WVF3fId6qVcFGAYEDyWw/aq0S8%2BP8AD4Cf9m7RE8BXnxIufAFl44GqobuTXoNOkvZA2n/ZNq2e%2BCa0E/2kyG4QDyBGwloA7L/hB/8AgoX/ANHQfBn/AMMPq3/zUUf8IP8A8FC/%2BjoPgz/4YfVv/morjf2m/wBqrRPgD491/QdA/Zu0PxDoXw98Gad4t%2BKetz6qllLo%2Bj3t3eW8clnbi0lF/MiadfzyRPJbhY4Fw7NIq1u2PxtstI/aV8d/BT4o/ALwxofh/wAJ%2BBIPFmmeK7TVxeTX9i01xDKZ7T7HGLVka2cgLNNuXGdp4oA1f%2BEH/wCChf8A0dB8Gf8Aww%2Brf/NRR/wg/wDwUL/6Og%2BDP/hh9W/%2BaivE7n/goXbeFPhNrHxD%2BK37H/h7w5eL4O8OeLfDVlJ4pjltH0XWNRWxFzql39gUaX9hLpPfFUuYoICZI5Z9rhd3wt%2B1x4t%2BJP7MF1%2B018Kv2WPhfrGl6Hca8fEWoyfE5YtFuLTTGIN5pWoppMg1GGYJLtkkitowYXDOAAxAPT/%2BEH/4KF/9HQfBn/ww%2Brf/ADUUf8IP/wAFC/8Ao6D4M/8Ahh9W/wDmorn4f2gI7740fCLwhY/szaLH4N%2BLnhuXULDxHqOpLBqenXSWD332WXTfsjKQIlVWk%2B0qVdyAjBSa5j4Mftl%2BHPi34x%2BLGkwfBb4bTWvwtvfEdrP4e8M%2BOk1Txfdvpd5LbI0mi/2dELZLnyXaMm5fl4lAbeWUA9H/AOEH/wCChf8A0dB8Gf8Aww%2Brf/NRR/wg/wDwUL/6Og%2BDP/hh9W/%2BaivKv2Vf2ytV/bG8IeKL/wCB/wCzx8Ida1bw9Do9xFc6T8UWvdAmF9HNJJZS6lBozPBqVqsStPafZnCC5tyZf3hC4viv/goxongj/gn9Zftl63%2ByX4fu/EWtW%2Bsah4c8B6J4jWeHUtI0%2BS4kfVVv5LCJo7V7C3F2rtbDm6tof9ZMgIB7f/wg/wDwUL/6Og%2BDP/hh9W/%2Baij/AIQf/goX/wBHQfBn/wAMPq3/AM1Fcb46/aq0Pwf8cdT8GWf7N2iXvgXwx4/8PeB/GHjN9VSK7sde1qOxayihsPsjLcQA6rpSyTG4jZTe/LHII2Nct4U/4KF/B7xV4Q%2BJvxf0/wCGfw5vfCHw%2B0DU9StrHRPHFteeKr77LO0MHn6OLRUsIrwo7QSSXTMVeEukZkYRgHrf/CD/APBQv/o6D4M/%2BGH1b/5qKP8AhB/%2BChf/AEdB8Gf/AAw%2Brf8AzUV5de/th%2BJdF1%2BD4H%2BI/wBkPwVZ/Fm88f2Xhmy8PHxtu0F1utEvNZivG1U6WJljMGn3sGwWTSG5hCANGwmrh/il/wAFYPhF4G%2BHHg/4h%2BH/AIAeDbxfEnhnVdSax1rxjBp76nf6dqH9n3Oh6Cy2Uy65qbXKSLDbg24lBhYOol%2BQA%2Bif%2BEH/AOChf/R0HwZ/8MPq3/zUUf8ACD/8FC/%2BjoPgz/4YfVv/AJqK8zX9uTwHJ%2B3IP2NY/gT4R8//AISj%2BxGhbxLEPEip/Y39p/2x/Yv2P/kD5/0b7d9p/wBf8vl54rQ%2BHX7Xfh/4y%2BM/i/4Y%2BGX7PvhJNP8Ahzomlar4Z8UeKfEaadpviW0urjU7ee7eRLKZrG1il0m6KT7ZxPFslUKjqxAO8/4Qf/goX/0dB8Gf/DD6t/8ANRVDwP44/as8HftWeHPgj8bviP8AD3xNo3ib4e%2BIdchm8K/Dy%2B0W6tLrTb7RLdFZ7jV75JY3TVJSVCIwaJCGxkGv%2BzD8dPB/7Un7Put/F/Q/h/4b02XS9U1PTrXVvCOsJquk6hJacC90zUVggN3bFvlEoiT95HKmDs3HX8cf8pC/hf8A9kZ8ef8Ap28IUAezUUUUAFebftZftK6V%2ByN8EdW%2BPXiP4X%2BK/Fek6DDJc61aeD4bN7mzs44pJprtxeXNuhijSM5CuXJKhUYnFek14z/wUE%2BE/wAavj5%2Bx/48%2BA3wE0bwtd69438N3uhed4v8R3OmWllDdW0sTXPmW9ldvI6FlIi8tQwJ/eLgZAOw%2BPXx08P/AAB8HWnifV/DWsa9e6rrdpo/h/w54ejga%2B1a/uX2xW8P2iWGFTgPIzyyxxpHE7s6hSa8n8R/8FNfhBofgfTvGem/Cnx/rM0mk69qnifQdI0yye/8KWWiXn2HVpr9JLtEJtrrdD5Vq9xLOY3Nuk6qWrY%2BNnwx/aX%2BM3grwl4oHg7wLo/jbwH4x0zxPomkjxpeXWmX86Q3FteWc13/AGZHLAht7qdY51t5DvKO0QClD41e/sB/tW%2BGfDWoa/8ADnXPh/P4u%2BIHhrxrpHxAj1fVr2Ow0eTX9Yk1OK6sHS0d70WPnzQeTKlt9qGxzLbEFSAfamm6lp%2Bs6db6vpN7Fc2t3Ak1tcQuGSWNgGV1I4IIIIPvXzx8JvFX7d/x10fXvHfhf43/AAk0DS7f4heKtD0vSr/4P6pf3EVrpevX%2BmQtLcJ4igWWR47NXZlijXc5AUACvZrf4R%2BGIvg/Z/BN7/WI9Is9Dt9KS40zXLrT70QwxrGrJdWkkU0L4QfPG6nrzzXj37Dnh3T/AAr%2Byle%2BD9Mub%2BWztPjT44sUk1LVbi9uZYf%2BE81aMiW4uHead2TIaSR2dySWYkk0AdH/AMIP/wAFC/8Ao6D4M/8Ahh9W/wDmoo/4Qf8A4KF/9HQfBn/ww%2Brf/NRT9f8A2oP%2BCfvhTXb3wt4p/aI%2BDmm6npt3Ja6jp2oeLtKhntZ42KSRSRvKGR1YFWVgCCCCMiqn/DX/APwTg/6Oi%2BCP/hbaP/8AHa5XjsCnZ1Yf%2BBx/%2BSPehwrxTUgpwy/ENNJpqhXaaeqaaoNNNNNNNpppptNMsf8ACD/8FC/%2BjoPgz/4YfVv/AJqKP%2BEH/wCChf8A0dB8Gf8Aww%2Brf/NRT9A/ag/4J%2B%2BK9dsvC3hb9oj4OalqepXcdrp2naf4t0qae6nkYJHFHGkpZ3ZiFVVBJJAAyavftV/Ev4Vfsofs3%2BNf2kvFPwuXVtP8FeHrjVbrTdI0QTXFysS52IscbEZOMuRtRcu5VVZhrSr0K6bpzUrdmn%2BTZ5%2BOyvM8rnGGNw9Sk5K6VSE6ba2ulOEG1fS6TV9L30M7/hB/%2BChf/R0HwZ/8MPq3/wA1FH/CD/8ABQv/AKOg%2BDP/AIYfVv8A5qKoaT%2B1n%2Bx/rnjeX4a6X4a1%2BXxDbeHF17UNF/4U1rq3Wn2Dx3bxS3UbaeGtWl%2Bw3KxRzBJJnjEcau7orO0z9pz9mDxNJ4d/4RXTLBDrPjqbwre2HiXwlqOj6jY30ejXWrmFrK5sBMkptbdZlW4W3jeGTzFlZjFHNqcJd/4Qf/goX/0dB8Gf/DD6t/8ANRR/wg//AAUL/wCjoPgz/wCGH1b/AOaiqHwU/a//AGF/2gtGm8R/DbxNpf8AZ0Xh/T9dS/8AEXhG70WC50u%2BZltb2CTUbaBbm3kdSgliLqHwhIYgVd/aN%2BIjfCvX/B/w0%2BEHwA8NeLvGfja9vE0rS9a1VdIsYLWztWuLm5nuks7p0A/cxKqwuWkuI87EDuoA7/hB/wDgoX/0dB8Gf/DD6t/81FH/AAg//BQv/o6D4M/%2BGH1b/wCaiue1/wDak%2BFsH7Fvhr9r/wAJ/BSyvB4vHh230bw7qhgs/Iv9Yv7TT4ILu5Eci28cVzeIs0qrJtWOQosh2q3FWv7bi%2BIr6y%2BFngn9mbwFefEpPF3iDQPEWjX3jlbbQtOn0e1t7u52aoNNeSdmgvLR0jNpG3zTeZ5Qgc0Aerf8IP8A8FC/%2BjoPgz/4YfVv/moo/wCEH/4KF/8AR0HwZ/8ADD6t/wDNRXl3i39sbV7v4P8Awn/aM%2BBf7LXgHxT4J%2BLknhaDQRq3jWTTtZE%2BszRKUW0i0i5gkW2gka4kb7SvyW8%2BANgLR%2BDf27PCvjr9rfV/2VPD37O/g641Kw1PXNPi02HxZCfEFo2nQeYl9qOlGyH9n6bdt5aW9558vmfarU%2BWPNIQA9V/4Qf/AIKF/wDR0HwZ/wDDD6t/81FH/CD/APBQv/o6D4M/%2BGH1b/5qKqfs9/E6%2B%2BJPxP8AGvwP%2BMX7PXhHwz4p8FWGkaheDwxrw1vTprbURd%2BSouJbGzkS4Q2cpkhaH5UkgcOwlGPXPBg2aGYFJ2Q313FECc7US5kVV%2BgUAD2FAHl3/CD/APBQv/o6D4M/%2BGH1b/5qKP8AhB/%2BChf/AEdB8Gf/AAw%2Brf8AzUV7NRQB4z/wg/8AwUL/AOjoPgz/AOGH1b/5qKP%2BEH/4KF/9HQfBn/ww%2Brf/ADUV7NRQB4z/AMIP/wAFC/8Ao6D4M/8Ahh9W/wDmoo/4Qf8A4KF/9HQfBn/ww%2Brf/NRXs1FAHjP/AAg//BQv/o6D4M/%2BGH1b/wCaij/hB/8AgoX/ANHQfBn/AMMPq3/zUV7NRQB4z/wg/wDwUL/6Og%2BDP/hh9W/%2Baij/AIQf/goX/wBHQfBn/wAMPq3/AM1FezUUAeM/8IP/AMFC/wDo6D4M/wDhh9W/%2Baij/hB/%2BChf/R0HwZ/8MPq3/wA1FezUUAeM/wDCD/8ABQv/AKOg%2BDP/AIYfVv8A5qKP%2BEH/AOChf/R0HwZ/8MPq3/zUV7NRQB4z/wAIP/wUL/6Og%2BDP/hh9W/8Amoo/4Qf/AIKF/wDR0HwZ/wDDD6t/81FezVV1bXNF0G2N7rmr2tlCOst3cLGv5sQKTaSuyoxlOSjFXb6LV/hc8j/4Qf8A4KF/9HQfBn/ww%2Brf/NRR/wAIP/wUL/6Og%2BDP/hh9W/8AmoroPFP7Yf7JXgcMfGP7UHw90sr1S/8AGdjE30CtKCT7CvMfGP8AwWB/4Jt%2BCCY9T/aq0O8kzhItDtLvUWc9gPssMg5%2BuK46uZZdQ/iVoR9ZR/8Akj6XL%2BCeNM2aWCyzEVb/AMtCs19/skvxOu/4Qf8A4KF/9HQfBn/ww%2Brf/NRR/wAIP/wUL/6Og%2BDP/hh9W/8AmorzD/h8B8IfEXHwe/Ze%2BPHj0N/qp/C/wwnaFvQl5nj2r74o/wCG9v23fEw3fDP/AIJMePLpX/1R8U%2BNNN0Un/eEofbXN/bmWP4JuX%2BGM5flC34ns/8AELuOKf8AvOGjQ/6/V8NR%2B9VMSpL5wR6f/wAIP/wUL/6Og%2BDP/hh9W/8Amoo/4Qf/AIKF/wDR0HwZ/wDDD6t/81FeY/8ADQn/AAV21P8AeWP/AATx8EaWG6R6l8WoJ2T2JhTB/Cj/AIW1/wAFlJPmT9kf4Qxg9Fk8ezkj8lo/tig9qVV/9wp/rYP%2BIc5ovjx2Bj647Dv/ANJ5l%2BJ6d/wg/wDwUL/6Og%2BDP/hh9W/%2Bairf7K3xG%2BNPjDWPih4E%2BOmv%2BF9W1TwD8QotDs9V8J%2BGrnSbe6tZdB0fU1Z7e4vbxlkWTUZULCXaVjQ7VOc%2BTf8AC3v%2BCyNvzN%2Bx98JLj2g%2BIEyH/wAeWuh/4J2a58YfEmufHnWvj54G03w14tm%2BM0H9raLo%2Bp/bLa32%2BEfDaxbJsDfuiEbn0Lkdq6cNj6eKm4KE49fehKK%2B96X8jx874UxeRYVYipisNVTfLajiKdaWqbu4wSko6fFsnZdUfSdFFFdp8uFFFFABRRRQAUUUUAFFFFABRRRQAUUUUAFFFFABRRRQAUUUUAFFFFABXy/%2B0DrH9mf8FZf2arLfj%2B0fhf8AEy3x64l8Ly4/8hV9QV8bftiaudK/4LG/sZQlsJe%2BGfihbufrYaM4H5oK5cZP2dHm84/jKK/U9zh3D/W8z9l/07rP/wABoVpf%2B2n2TRRRXUeGFFFFABRRRQAUUUUAFFFFABRRRQAVyni7wD4E%2BKF5rXgb4l%2BCtJ8RaJfaVYfbdH13TYru1uNlxcSJvilVkfa6K4yDhlBHIFdXXn3xo%2BOfws/Zr0HxJ8a/jX4p/sXwzoulaZ/aep/YZ7nyfOu5oI/3cCPI2ZZY1%2BVTjdk4AJGdaVKNKUqtuVJ3va1ut76W730GsU8C/rKqezcPe5k3Fxtrzcyacbb3TTW90Y//AAwP%2Bwr/ANGWfCX/AMNzpn/xij/hgf8AYV/6Ms%2BEv/hudM/%2BMV5J/wAPzf8Agll/0dF/5ZOuf/IVH/D83/gll/0dF/5ZOuf/ACFXh/XuFf8An5Q/8p/5Gn/EUsT/AND2f/hZV/8Amg%2Bh/hd8A/gV8Dvt3/Clfgt4S8H/ANqeV/af/CLeHLXT/tfl7/L83yI18zb5km3dnbvbGMmuO%2BN/7NXi34l/G7wz8aPBPxM07Q5dJ8G674V1vT9U8Nyagt/pupzadPIYXS7tzbXEb6dHtkYTIVlcGMnawk/Zc/bn/ZZ/bR/t3/hmj4o/8JL/AMI19l/tr/iSX1n9m%2B0eb5P/AB9QRb93kS/dzjbzjIzY%2BOX7Xnwq/Z21nVNJ%2BJ1tqtqml/DbWPG322G2jeK7sNMeBb2GH94Ge5T7TbERlQGFwm1idwX2MLPC1KClhnFw6ctuXfW1tN/xM5ZrLOn9clXddz%2B25uo5W0%2BOUpt2tbWTta2lrHgf7Sn/AASPb9oL4BeAvgNL8YvDhtPBvwcufAMkvi34aJrkCtLaWluNa0%2B2kvY47DUYxanZM32jakrKAOWPonhL9gX/AIRf44ad8Zn%2BLH2k2HxRi8Y/2cdC2%2BYU8Cx%2BE/svmeecZ2fa/M2n73k7P%2BWtaMX/AAUM%2BDNr%2B1doX7HPirRNQ0Pxf4kjA0iC/wBe0KV5Lj%2BzX1JreSzttRlv4CsEM/72W2SAvCVWVt8Xmec/AD/gp8fF/wAG/A/jD4k%2BC77V/F/i/wCE3w51%2B38HeCNCija/1jxLbahMbazmvNQCGNf7PuJCtwYVt4oCzXE%2B8iLoEe6/sx/AnxF%2Bzl8MtF%2BEn/Cd2Ws6TpFrdjzP7De3uJbia9muPM3/AGh1WNUl8vy9hJK7t4B2DhbD9hzW7P4/w%2BPX%2BMUD%2BArP4k3Pj%2By8Djw0Rdx69Pp0llJu1D7Ttaz3zzXYg%2BzCQXDg%2BeY1EVbH7GH7VOu/tJ%2BA7zxJ438D3%2Bg6kfHvizRrTSzoc6/Y7fSdXmsVjvJUaaCK52om797smcSNDuRTjifiv%2B2N8bPCPxt8ST%2BGNN8LH4d%2BAPiX4O8DeKrC%2B025fWNRvtek01PtdtcrcrDbxWw1rT3MTwTNMEuAHjITIBo/Hj9hXx78dde1LVb747aXplv4%2B8BaX4Q%2BMlja%2BCpHTX9Nsrq7uANPLX2dLeQajqELNJ9s/dToAN8SudjVf2VPjB4l/a81746%2BKvjJ4RvPAviLwIPCN/4FT4fXceoNp4NzKD/af9rGPzDPcuWb7HgxARhVb97VP9rz9on9oDwH8QIPhd%2Bzha%2BEV1PT/hrrvjfWbjxlptzdQ3UFhJaxQ6bCLe4gMElw9xJm6YyrAIR%2B4mMmF8rtf%2BCmHxW8TftQeG/A/hfw7o9r4Q8Qa/4YsbKy1HwjqMklzZ6to0OoG7k1%2BO4Gm6fdRvM0SaVPE11cCFGjOLuEgA6Cw/4Jm/ES58Giw8aftR2%2BreItB0Xwno/gLWl8DeTb2Nl4f1RNSthqNr9tb%2B0ZbmaOJbpkktUdYU8mO3YFinjX/gnP8dPE/ge38I2f7UHhIRa18Sr7xr8TdH1T4V3M%2Bi%2BKbuVYRbWYs4dYgktrKJoEmkga4n%2B1SjdMzI0scmnov7bfj34Y/tA%2BPvhp%2B0Jruk6l4e8IeCZ/EMmq6R8M9W8O3EMiXkdvFY2qX91cDXzMJQq3FjiNZljiYb7mJRi%2BD/28/wBoy6/Zm8Ua/wCNvh14Vtvi6/xE1nwr4N8I2BnksreW3jNwHvH84tNHZ2wlluZY2iWb7MViWN5okoA9N%2BLn7OX7SHxG%2BPXwo%2BMWh/H7wRpdl8O1kl1XR7r4Y3l1Lq91c28ltevFOusxC0jaF/3UbRTtE43O86nYMn4pfsSfEP8AaB%2BIF94g%2BNnx20saPbeGvE%2BieErTwL4Mk0fUtOg1qH7PJJcX8t/c/aZIocFfKitkaZVlZSURV4Txv/wUS%2BLdp8H/AIF%2BIvh94S8N33iLxofhzqXxTNzb3BstD0rxJrOmaTtt1WYOt1NNfXDWwkZ1CafcNJvKqsly6/bn/aB07x6njKDwN4e1rwHrvxL8W%2BAfCvhbS9OuU199U0PT9WuDcyXbXDQyx3Nxod9brAtsrIJ7dzK/zqADo/Cn7DPxf0vwh8TpNb/aS0eHxp4/%2BGOm%2BB9K8S%2BEfh6dKtNBs7CLUEtbtLJr%2BYzXatqU7F/OSPEUCJGio2937VP/AAS7/Z8/aV%2BA5%2BDmnXniDwhd6Z8MLrwN4R1nw94s1ezh0rTJYY41ils7K9tob%2BEGCBmhn3K/kqp4FeJ%2BG/8AgsDrWlfDHxbqXibxr8OvGOuWHhnwZqGlan4K0e/g03Sb/wAQ6wdHOmX8RubqaWaxuGhlmWMxzyJIY/s8EgUP6Z44/a2/aA0v9ku3%2BO/wy%2BLHw68Talofj%2Bx0jxp9v%2BFmtaKRBNqVrZyWQ0y71L7Vpt6i3SvuuHkGNj%2BSVcUAdJrP7AF9cfFKW%2B0D40y2/wAPdX8Z%2BGfF/inwhqelz6jqeo61oMNhFYTLq894XWM/2TpLzLLDPLK1kT5ymV88hD/wSb0a80S/%2BG2u/F62i8F2XhLxdoPgTTPD/hFbHUdGi1%2B9ivJ5bm8a5lS%2Be3lhjMIEECkqGmE7gOOz/al/bG8ffC/48%2BAfg38HfDuj6lDd%2BM9EsviXqmrRyyLpdnqdw1va2tv5ciD7bKVlnBYusUVt88Z%2B0wtXjOqf8FWfi14A%2BI3xIvPH/hDRrjwz4I0f4i6i2iW3hXUbCZLfwy8hhe31yed7DWpbqKPfLa2cSy2LSMk%2BGt5AwB67ffsOfE3xN4M8bTfEz4k/DDxp4y8fa1ptxr134w%2BDL3/hz7DYWwhtrSPR31XeGV98/mvdufNmkIUJsROR8Tf8Eo7qL4YL8JPhV8eLLR9K1n4Yal4H8cjXPAseotfW2oXs97e3unpHdW8Wm3cs93cuSUng/wBQDCRboDp6x%2B0X%2B2z4U8I/GH4aeJdX%2BF//AAsv4c/DvR/G%2Bn63a%2BEtROiS2F8NUU2klmdS8%2BSaObRr1BKtzGrrJC/lphkKftb/ALe/xR%2BDP7IugfEj4S%2BFvD%2Bq/ETWfAUfi28sdUgnbTdM0yCCCa9upUjlWQqzzR2sKCQMZblGO5IZsAGpff8ABO3VtW%2BLcmr6x8bornwHJ8RT42bw8/hyVddOpHSP7M8n%2B2lvARa%2BWSdq2wnC/uhP5fy1J8I/%2BCb%2BkfsvfEPxh8TP2VPivq2h3eueBPD3hjw5pfjjWte8UabokGmXV3K2YLzVwZ43iuUhijV4fsojkMTYuJUat42/bG%2BNmg/HnXpdK03wsfhr4O%2BMXhv4ba7p9xpty2tXt/rFppcqajBdC5EMUMU%2BtWERt2t3Z1iuHEqfIp6D4LfFX9qbUv20/FvwD%2BI/jn4f%2BI/CvhXwJY6rqN94a8B32kXdnqWoXky2Vo0s%2BrXkc221s7mWUCONh59qwID4IB0fwe%2BA2vfAv4XeP5vGXj228ReIPGeuaj4j8QXumaIdMsEuprSKDy7S0M87W8Qjto2IaaRnlaWVmLSHEHjj/lIX8L/%2ByM%2BPP/Tt4Qr1Lxz/AMiTrH/YKuP/AEW1eW%2BOP%2BUhfwv/AOyM%2BPP/AE7eEKAPZqKKKACiiigAooooAK8F/Y//AOTetX/7L345/wDVgarXvVeC/sf/APJvWr/9l78c/wDqwNVoA6zX/wBib9jLxXrt74p8U/sj/DHUtT1K7kutR1HUPAOnTT3U8jF5JZJHhLO7MSzMxJJJJOTVT/hgf9hX/oyz4S/%2BG50z/wCMV534/wD%2BCyn/AATc%2BF/jvW/hp46/aO%2Bw634d1e50zWLL/hENYl%2Bz3VvK0Use%2BO0ZH2ujDcrFTjIJHNZH/D83/gll/wBHRf8Alk65/wDIVeDPG8MKbUp0b3d7%2BzvfrfTe97mn/ETcTQ/dLPJx5dLfW6qtbS1vrCta1rWVrWsrWXs2gfsTfsZeFNdsvFPhb9kf4Y6bqem3cd1p2o6f4B06Ge1njYPHLHIkIZHVgGVlIIIBByK1v2mvgnZftJ/s6eO/2e9Q1%2BXSYfG/hHUNDfVYIBK9n9qt3hEwQkByhcNtJAbbjIzmvGvAP/BZT/gm58UPHei/DTwL%2B0d9u1vxFq9tpmj2X/CIaxF9ouriVYoo98loqJud1G5mCjOSQOa9x%2BOvxh8Ofs%2B/B7xH8b/GWmajdaN4V0qXU9ZTSoUknis4hunmCu6BljjDysM52xttDNhT6GBrZbWhJ4OUGk9eTltfz5UtbdyZcSVOJP3s8a8TyaXdWVXlvra8qlS197Jq%2B9up5H4i/Ym%2BIXj/AEH4uy%2BPfj7axeJPi38O9N8M32teE/Cs2mw6bJZjUQtzFFJfTyMji/AaIzA4ibEg8wbOG%2BCP/BKaL4ReIofE0PxJ8IWG34uDxy%2Bg%2BAvhfHoGkQMPCN54cNnbWqXkphDfahdtKzyMzoykfOHT0X4z/wDBRD4O/BbS/F2uap4b1PULHwV4ts/DesaiPEGg6VaPf3GmxaiEhuNX1Kzhk2QTwBgH375gqK%2ByQpyNr/wUd0nxT4%2Bjv/BNxaXHgLXPBnwk13wjqsWhST3l1/wmHiDVtNKzI93CscYis7MqwBeBpJnZLnCwV3EnV/A39ijxD8Ao/Al34R%2BLllc3/gb4G6V8OreXUPC7tDd/Y5IGN80aXasu9YWAhDnYXB8xtu1us/aN%2BAXjj4qeIPB/xM%2BD/wAT9O8I%2BM/BN7ePpWqa14afV7Ge1vLVre5tp7VLq1dwf3MqssyFZLePO9C6N5h4N/4KNH4mftFeD/BHhD4P%2BJrLwD4j8FeLNftPFmqaEs7eIYdJuNOhjn0uOyuZpzG/2qVvKnt0nmDQNChBOfSf2pPjR8QPh7o3gXwt8HE0iHxR8SfG9v4d0LUPE%2Blz3FlpubK81Ce5ntY5reWbba2FwFiEsRMjICyjNAFPw7%2ByxrHgL9l21/ZW8GeKfC%2BoaHpngew0Kx/4TvwS2sR3k8e4XdzqEC3kEd3HcJtzAgh2OZG3urqied2f/BNeLw3%2Bzy/wX8I3vwke81bxlN4k8Rz%2BJvgfDqOjJdvAlvEdM0kX8UenG3ghtooC8lxtSD5xKzs56HSv2uvim/7BPjX9o9/h3Zax448C/wDCV6ZfaJo8NwLPUNT0PUr7TZZoYwZJ1t5ZLIziIGSVY32Zdxk8n8Ef2zPiP8evB/xM0fwV%2B018ILq/%2BGGoWV3qHxS0vwNe33hnUdHn083TNHbJrKsksMiTxvIt7NGPIOVDs0cQB6R4V/Yo8J%2BCr34G6J4f8V3H/CJ/AnQLm18P6BeWolmvdQOnx6ba6jLcbgN8VnJqKFfLPmPfl9yeXtfktE/YJ%2BInh/4r2njaw/aC0t9H8OeO/FXjXwXYXHgVn1G11nXINQikW%2BvhfAX1jCdTuPLtlht22w2iNMRbqT4h8Uf%2BCmP7Zfwo/Zv%2BG3xJ8XeE/CFn4k8T/B7U/Heq28Pw51i%2Btp5I5Ld7TTJora/ZvD0Zt7qMXGq30stnBIG3EBcH6B%2BJfxe/an8K/tefC34V%2BFPHHw91Dw18QL7UL3UvD7%2BB706npWg2Gnh7q8GpLq3kzN9un063U/Y1XF%2BpOSmXANr9iH9mX4tfsv8AgvV/DPxa%2BMfhvx3qWs6kNU1PxRpfge40jUdW1KQEXV5fvNqV4tw7hYEjSJYI7eKBYo08tY0j9Z8H/wDIJm/7Ct9/6Vy1qVl%2BD/8AkEzf9hW%2B/wDSuWgDUooooAKKKCQBkmgAorx74yf8FAv2KvgA0tv8WP2mPCWm3UGfO02HVFu7xMetvb%2BZKP8AvmvKP%2BHs%2BifEb9x%2Byh%2Bx58Yfif5n/Hvq9l4VbTdJf0zd3RXZn3TpXnVs2yyhPklVXN2XvS%2B6Kk/wR9llvh7xvmuGWJoYCoqL/wCXlRKjS/8ABleVGH3SlpsmfXFFfIzeMf8Agst8ah5Xh74QfCj4L6fN9%2BfxLr0viDU4FPQxragW7N7OMUJ/wTF%2BJ/xQP239rX/gob8WvGUknM2k%2BFr6Lw3pT56q1rahtwHQHcD%2BdZf2liK3%2B74acvOVqa/8mbl/5Keh/qVk%2BX65xnOGpP8Ako8%2BMqf%2BUIxpL512vVH0n4%2B%2BNPwc%2BFMXnfFH4s%2BGfDaBd2/X9et7MY9czOvFeJeO/wDgr3/wTn8AzfYrr9p3R9Xu2bZDaeF7W51V5n7KptY5FJPuwHvT/AH/AASL/wCCdPw7l%2B12P7L%2Bh6tdM26a78UzT6s8z92YXcki5PsAPavbfAvwf%2BEnwvhFt8NPhd4c8Oxhdoj0LRLe0XHpiJF4o/4Xav8Az7h/4HN/%2B2IX/GqsF/0G4pr/ALBsNF/%2BpNRfn6M%2BbB/wVQ13xsdvwB/4J9fHbxdG3%2Bp1O88JrpVhN6bZ7iTkfVRilH7S/wDwVi8Y/vfCP/BN3w14Zgb/AFUvi/4sWs7kf3mjtUyv%2B6ea%2BtaKPqGPn/Excv8At2MI/pJ/iL/WzhTC6YLIKHrXrYqu/uVShD/yW3Y%2BS/tH/Bb7xMf3Vh%2BzX4Ygbr50ut3twn024jNB/Z3/AOCuHjH934p/4KG%2BDPCcbf6weEfhVBeNjuA144I%2BvWvrSij%2ByKcvjrVZetSS/wDSVEP%2BIh4ul/uuW4Gl5xwdKT%2B%2BtOtf5o%2BSj/wTC%2BI/jU5%2BOv8AwUm%2BOniBD/rbLQNfh0O1m9Q8VvG2V9sj61a0j/gir/wTmtLn%2B1PEvwRvfEuon/W6n4l8XandTS/7wNwEP/fNfVdFNZHlN7yoqT7yvP8A9LlIUvFPxC5XChmNShHtQ5MOvuw9KjderZ4j4W/4JsfsBeDiraL%2Bx78PWZPuvqHhi3u2HvmdXOfevTfB/wAJfhV8PAB4A%2BGXh7Q8DA/sfRYLbA/7ZoK6Giuylg8HQ/hU4x9IxX5JHzOYcR8RZsmsdja1VP8Anq1Zr7pVJL8AooorpPGCiiigArxn9l//AJLf%2B0d/2Wax/wDUK8L17NXjP7L/APyW/wDaO/7LNY/%2BoV4XoA9mooooAKKKKACiiigAooooAKKKKACiiigAooooAKKKKACiiigAooooA574r%2BPb74YfDzU/Hmm/DzXvFc%2BmwrInh7wyLU315l1UrF9rnghBAYsTJKihVY54weQj/a3%2BFv8AwyHpf7aV3Z6vb%2BFdY8F2HiSxsHs0fUZIr2CKW2tRDG7K1zI00UQjVypkcKGI%2Bauv%2BK4%2BILfDnWIvhX4d0bVvEEtm0em6f4g1yXTbOV2IU%2Bbcw2108QCliCsMmSAMAHcPnPwV%2Byl%2B05qn/BOXwx%2Bxv8R9N8B6J4k8H%2BBdBsNJ1vQ/Fd7qllPq2iSWcllJIkunWrrbyyWUbyAZdA7IokwHIB7h8A/j/o3x603XhH4G1/wrrnhTXzo3inwr4oW0%2B3aXefZre7RHazuLi3kWS2uraZXimkUrMASGDKvyf/wUc1P%2BxP8AgrJ%2BxBqe7Gbrxva5/wCu0eixY/8AHq%2Bkf2WfhF8UvA2sfET4q/G2DQLPxP8AEjxhDq93ovhfVZ7%2Bx0q3t9LsdNgt0up7e2kuGK2RmZzBFhpygUhAzfFn/BVDwJ4c%2BGn/AAVK/Y6%2BI%2Bkan4hlu/EPxA1JNSj1XxbqN9aQ7r/QIh9mtbmeSCxU%2Bady26RK3y7gdq483N5cmXzl2cf/AEumfbeHVD61xjh6P88a6%2B/C4v8AyP0vooor0j4kKKKKACiiigAooooAKKKKACiiigArKtP%2BR21D/sFWf/oy5rVqlqXh7S9VuFvLlZ0mVNgltruWFiuc7SY2UkZ5wfWgC7RWX/wh%2Bk/8/eq/%2BDy7/wDjtH/CH6T/AM/eq/8Ag8u//jtAGpXlP7UH7Hnwq/a1l8FS/Eu/1m1Pgfxfba9Zf2Ldxw/2gIjufT7vfG/m2UzLGZYRtL%2BTH8wAIPoX/CH6T/z96r/4PLv/AOO0f8IfpP8Az96r/wCDy7/%2BO0AeMD/gnx8OE/aEsfj9D8WfHUaad8RLjxzaeC472wGjrrk%2BkTaTNct/of2uQNbzyERvcMiPgoEXKnG8O/8ABLv4IeDfBmgeGPB3xH8c6Xf%2BE/Bvgzw94W8S21/Ytf6WvhmO%2BisLyPzLRoHuJItRuo5xLE8MiSbREgzn6A/4Q/Sf%2BfvVf/B5d/8Ax2j/AIQ/Sf8An71X/wAHl3/8doA4X9nP9mHSP2afCyeEfCfxU8W6xaya/rmt6u/iKeynl1W/1W%2Ba%2BnnmeO1jK7JpJfLSHy0CylWVwqbcfx3%2BxD8OPH3xsPxj1Dxz4qtLa81vRtb8Q%2BCrG6tRo%2Bu6rpLpJpt9cq9u1wJYHhtWAhniRzZ2/mJJ5Yr1L/hD9J/5%2B9V/8Hl3/wDHaP8AhD9J/wCfvVf/AAeXf/x2gDyr48fsT%2BHf2gPsd74i%2BNvjzR9Vg0jWtEvdc8OXOnW91qOh6pNHLdaTNusnRYAILdI5okju4xAGW4DvK8lCf/gnv8Jf%2BFmN400nxz4t03w/P4r0bxPf/DiwubJdDu9Y0q1s7awvGDWpu0MSafYERRXKQs9nGzRsS5f2T/hD9J/5%2B9V/8Hl3/wDHaP8AhD9J/wCfvVf/AAeXf/x2gDyS3/YP%2BGfibxZd%2BLP2jvGmu/GbzvDtxoNlpXxQ0zRrrT7HTri7tLyeBLW00%2B3im8yewsHMlws0mbOLDjDbsLwx/wAEmf8Agnr4Y8DeIvhyP2UPAF/pHiLxLfa4bTU/AmkypplzdRiNhaL9lCwrGihY%2BCyjjcRxXvH/AAh%2Bk/8AP3qv/g8u/wD47R/wh%2Bk/8/eq/wDg8u//AI7QB88eIP8Agj3/AME8/FPwZ8GfBfXv2ZvB11D4Hi8OwaV4hn8GaS%2Bqz2%2BkX9vepbTTtaENDcyQOl1GqqJo7u5A2GUsOy0P9hz4daB8cB8aLPx/4se3tvEeo%2BJNF8FS3VodH0jXb%2B0ktLzVLdRbC58%2BSK4uwVkneFWvLhliVpCa9V/4Q/Sf%2BfvVf/B5d/8Ax2j/AIQ/Sf8An71X/wAHl3/8doA8eP7BXgjXNA8Tw/E/4xeOPGXiTxQujK/jnXpdMi1PTf7IvTqGlG0SysYLSI2t8zXSE27b5TmXzVCqMvxt/wAE6vD3jX4J6x8G2/aZ%2BJmnT%2BKPGsPinxl4wsf7CbVdf1CH7N5PnifS5LWKOMWVkqpbW8Py2sakkGQP7r/wh%2Bk/8/eq/wDg8u//AI7R/wAIfpP/AD96r/4PLv8A%2BO0AeNfFz/gmz%2ByL8fNU8M%2BNPjV8IvD3ifxl4d1XSNQuPiBqnhDR21rWptP2eWLydbMB45Ng8yOJIkx8qLGoAFK1/wCCa/wQm1m%2Bi8XeMvF3iLwnPJ4ll0z4ea1eWh0jSZNf%2B0DVHgMNtHdv5q3l4irPcTLEl1IsaoNoX3L/AIQ/Sf8An71X/wAHl3/8do/4Q/Sf%2BfvVf/B5d/8Ax2gDxWx/YD0ez%2BF3jnwHN%2B0x8TLvXPiBo1loutfEK/l0abWotJtUkjg0%2BLfpptBEqT3YLPbPKWvJpDIZGDrn/EP/AIJbfsr/ABu/ZzsP2fP2ifDkPxGudJ8MvoGk/ETxj4Y0OfxHYWRYmNYLiLT44YDGu1VKQrkIGfe5Z296/wCEP0n/AJ%2B9V/8AB5d//HaP%2BEP0n/n71X/weXf/AMdoA8jn/YE%2BDq/F23%2BJOieIfEGkaJFrml65dfDfSWsofD15q2m2cVlYXzxC289HggtrNUjinjgzY27NEzRg133wt%2BCHhT4TeJfG/jDRNQ1G91P4geKv7e1%2B81OWN385bO2sooI9iLsgit7SFEQ5IwzFmZmJ3v8AhD9J/wCfvVf/AAeXf/x2j/hD9J/5%2B9V/8Hl3/wDHaAE8c/8AIk6x/wBgu4/9FtXl3jj/AJSF/C//ALIz48/9O3hCvUT4M0N8LO19MmQTFcatcyI3sytIVYexBFeXeOP%2BUhfwv/7Iz48/9O3hCgD2aiiigArjvjx8bPDX7P3w6l%2BInibSNT1TdqVjpmmaLokMcl7qmoXt1FaWlpAsskcfmSTzRrukdI0BLu6IrMOxry/9rf4N%2BM/jP8MLCx%2BGt5pkXibw14w0XxLoEetzyRWV1caffw3JtZ5Io5HiSaNJIfNWOQxGQSBJNmxgDNh/bY%2BGS/s76r%2B0Lq3hPxLp66Jr7eH9V8H3VnbtrEGt/wBoJp0embIp3gaaW6lhjjdZjA4njkEvltvrDvf%2BCgvgy20uy023%2BB3jy58b3fjmfwlJ8Mov7HXWLXVIdL/td45ZpNRXTwv9nNFdBxdkMk0YXLkoMvwd%2BzB8V1%2BBPxF8D/Fz4Z%2BAvE%2Bp/EbXNQ8Taroo8Z39vp6ajPcJ5Fil0mn%2BfFHBb29oV1BIxN9oRpFt4sLjyM/8EuviBbeBRca18N/ht45k174t3fjTxt8JviF4v1PVNAvy%2BhQ6ParJq19Y3d1fT262sNz5tzasJJZZcLFshZAD7F%2BCHxg8H/tA/B7wx8cPh%2B10dE8WaHbarpf2638qYQTxiRQ6ZO1gDg4JGRwSME%2BW/sf/APJvWr/9l68c/wDqwNVrp/gH%2Bzxq/gP9kXwv%2BzZ8VfG%2Bo6pd6X4Xt9M1XV9B12%2BsJsoo%2BS3u4ZUuo1jAEaSeYspRAWOSa5n/AIJ7%2BD9E0X9mPUfBEJvbmwsvi18QrWFtU1S4vbl0j8aa0FaS5uHeaaTgEyyO0jN8xYnmgD3qisr/AIQ/Sf8An71T/wAHl3/8dpf%2BEP0n/n71X/weXf8A8doA1Kqa9oWj%2BKNDvfDPiLTYrzT9RtJLW%2Bs7hN0c8MilHjYd1ZSQR6Gq3/CH6T/z96r/AODy7/8AjtH/AAh%2Bk/8AP3qv/g8u/wD47QB8/eCf%2BCYPwo%2BGnwj8B/DD4efGr4j6VqHw%2B1vU9U0vxyup6fc63eS36TRXQupLmykgk3RTeUrrCksaQxCN02kmx4G/4JifAP4f%2BGvD3hXRPFvjCS28NeGvh5odg13qVs8j23g3VbvVNLaRvs43SSz3kq3DcB0VBGIWBdvef%2BEP0n/n71X/AMHl3/8AHaP%2BEP0n/n71X/weXf8A8doA8Q%2BG3/BO7wL8KfiJpfxA8JfHX4iKvhfw3ruheA9CuLzTZLDwtZ6rNbTTJaIbHfKYntIPJN09xsVNh3J8tekfHP4B6J8d/Bul%2BHNX8aa7omqaBrVrrHh7xZoD2q6jpmoQBlW5iE8EtuxaOSaJ0kheN45pFKYPHT/8IfpP/P3qv/g8u/8A47R/wh%2Bk/wDP3qv/AIPLv/47QBxfw2/ZtsPhF8MIfhX8Pfir4qsLVNO1dbjUSbCa8utU1K6a8uNakeW0ZTe/aZbiYAKLYvcyboHAjCczc/sK%2BANd%2BCvxB%2BDvjv4n%2BMvEc3xVbb4/8Xapc2Meqatb%2BRFbG0P2a0itoLc2sX2fy4YIxsllYYlkeU%2Btf8IfpP8Az96r/wCDy7/%2BO0f8IfpP/P3qv/g8u/8A47QB5X%2B0X%2BxH4I/aJ16XxDN8UfGXg%2BbUPB1z4T8Rp4OurKNNb0Od972M4urWcxAEybZrYwzoJpNsoyMddoP7PfgLw58a/wDhemny3x1GDwPa%2BFNJ06SVDZ6Xp8NxJcP9nQIHWSdmgEpZ2DLZWwVUKsX6b/hD9J/5%2B9V/8Hl3/wDHaP8AhD9J/wCfvVf/AAeXf/x2gDUrK8H/APIJm/7Cl9/6Vy14B%2B0F/wAFAf2PPgB4h/4V03jfxB408bSSGK18B/D6%2BvNW1WWUf8szHDLtib/ZkZDjkA1xdhc/8FU/2p7RNP8ACfh/w/8As1eCZBhLrUwuueKJ4j/EIuILcsM5D4lRjnJPNeZVzbCxqOlRvVmvswV7f4npGP8A29K/kfc4Dw%2Bz2vg4Y7MXDA4aSuquJl7NSXelTtKvW8vZ0XF/8/D6e%2BLHxy%2BDXwI0AeKPjR8U9A8LWDEiK517VYrZZWH8Kb2Bkb/ZXJ9q%2BdtU/wCCwn7Pviq9l8P/ALLHww%2BI3xm1RH8sL4E8H3Bs45P%2BmtzcLGsaergMK3fhF/wSk/ZS8A%2BIv%2BFjfFPStU%2BLPjSQA3Pi34p6gdXnZuvyRSjyYwCTtwhZeBuOK%2Bj9M0zTdFsItK0fToLS1gQJBbW0KxxxqOgVVAAHsKz5c6xOrlCiuyXtJfe%2BWCfon8zqdXwyyV8sKVfMai%2B1KSwlBvyhBVcTKP8AinTb7Lp8lrrX/BYr9oU79H8LfDj4A6LNyJNWuD4l1xAejBI8WnTkq%2BCDgetOH/BJ%2B3%2BKGLn9sb9sj4r/ABUMn/HzosmvHR9Gl9cWVnjZn2k6V9c0U/7GwtTXEylVf9%2BTt/4DHlh%2BDF/xErPcH7uS0aGAj0%2Br0YKp/wCD6qr12/NVIProeT/Br9hT9jr9n1Yn%2BEH7N/hLR7mHHl6iNJSe8GOn%2Bkzb5j%2BL16xRRXo0aFDDw5KUFFdkkl%2BCR8bmWbZrnOJeIzDEVK1R/aqTnOX3zlJ/kvIKKKRnRSFZwCegJ61qeeLRRRQAUVHc3tnZruu7uKIeskgX%2BdYfiT4sfCzwdZtqPi74l%2BH9Kt1%2B9PqWswQIPqzuBUynCCvJperInUp01eTS9Wl%2BbR0FFeFeKP8Agpz/AME%2BPB9w9rrP7YPgN3T7407Xo7zB9M25cZ9q47VP%2BC1n/BMLR2K3f7VVi5Xr9l8O6pP/AOi7Vs1wTzfKabtPEQX/AG/H/M82pnuR0XaeKpr/ALiQ/wDkmfU1FfJX/D7v/gnfd/8AIv8AxN8Q6t/d/s7wDqzZ%2Bm62Wkb/AILCfBvXz9l%2BEP7NHxz8dXbfdt/DfwyuCF9C7TNGFX35xWf9u5O9q8X6Pm/9JTMf9ZMgfw4mD/wty/CMZM%2BtqK%2BRz%2B11/wAFMPigfI%2BC3/BNZPDdu/8Aq9b%2BKHju3tlT03WcAM3vw3tTk%2BG//BaXxKPt2tftJfBHwzJLy1joHg%2B9vY4PZXuWDN%2BNH9rQn/Bo1J%2Bag0vvm4fkH9uU6n8ChVqLuqbivvqOn%2BCPraivkr/hSn/BYzSP9K079tr4X6w55Nrq3w3a3iHsGgctigP/AMFxtC4aH9mPXol6FW161nf65%2BQUf2pNfFhqq/7dT/KYf2zUj8eErL/tyMv/AEmoz61or5K/4WF/wWof90v7O/wJRhwZX8W6gVb3AC5AoL/8Fv8AxQfKWD9m3wtAeGlLa1e3A91HEf50f2tF7UKr/wC4b/WSD%2B3IP4cNXf8A3Ca/OaR9a14z%2By//AMlv/aO/7LNY/wDqFeF68w/4V7/wWq0T/SNM/aH%2BBOtufmNtrPhPULaNT/dDW5LEe55rov8AgnU3x1bW/jyf2lo/Ci%2BNv%2BFzQDWx4INydL/5FHw35Jg%2B1fveYfKLbv4y%2BOMV0YbGSxE3F0Zw63lFJfepPXyOrCZhLFVHCVCpT0vecUl6XU5a%2BVj6TooortPRCiiigAooooAKKKKACiiigAooooAKKKKACiiigAooooAKKKKACiiigAr85f8Agt3/AKD%2B1H%2BzD4s6f2Bqupahu/u7de8Jpn/yJX6NV%2Bcv/Be7/Qbjwb4s6f2B4A1zUN393b4r8Dpn/wAiV5Oe6ZNXfaLf3NS/Q/QPCnXxJymH89aMP/BkalP/ANyH6NUUUV6x%2BfhRRRQAUUUUAFFFFABRRRQAUUUUAFFFFABRRRQAUUUUAFFFFABRRRQAUUUUAFFFFABRRRQAUUUUAFFFFABRRRQAUUUUAFeM%2BOP%2BUhfwv/7Iz48/9O3hCvZq8Z8cf8pC/hf/ANkZ8ef%2BnbwhQB7NRRRQAUUUUAFFFFABXjP7B/8AyRDXP%2ByzfEf/ANTXW69mrxn9g/8A5Ihrn/ZZviP/AOprrdAHs1FFFABRRRQAUUUUAFFFFABRXnf7S37VfwK/ZI8BN8Q/jn44g0q1djHp1kg8281KbtDbQL88znI4AwucsVGTXzangH9tX/gpc4v/AIxTaz8DPgpcENB4L0%2B48vxR4mg7fbph/wAeMLjrCvzEFlYMNsledisxhRq%2BwpRdSr/KunnJ7QXm9X9mLPssi4NxWZ4H%2B1MfVjhMCm061RN87W8KFNe/Xqf3aa5Y3Tq1aa37745f8FNfhp4R8dSfAj9mXwRqfxn%2BJgJVvC/guRTa6ec4LX1%2BQYbVAeGyWKnhguc1yX/DH/7c/wC18f7Q/bi/aSPgnwvPyfhX8Hp2tlkjP/LO91J8yTZHDxpmM8lStex6RZ/sSf8ABOb4VQaBa33gz4Y%2BHF%2B4Ly9jt5L6QDG5nkbzbuXHcl3xXl2p/wDBZj9knWLyXRvgB4f%2BIXxa1KNigsvh34DvLoeZ2UyTLEmOnzAkY55ry8Q8PzWzTEq7/wCXcW1H5pfvJ/Oyf8tjTGeJPCvB8/YcO0oUai/5iMRyVcXJ96dO1Slh/wC6qVKpUXWtfVe4fs%2B/snfs5fsreHv%2BEa%2BAPwh0bw3CyBLi5s7fddXQHTzrhy0sx/32OO1eh18hf8LT/wCCuf7RR2/DL4AeCPgfoc33dX%2BIWrHV9XaPs8dpagRxP/0zm6YPPSnJ/wAEq9Y%2BK7jUP20/22fih8TpX5m0Wx1MaBopJ6kWVn0PYEOOO1ddLGSVNU8DhXyra6VKPyTXN90D85x/E%2Bc59jJ4qVOriKk3d1K0nHmfdyquVSX/AIAvKy0PpHx18dvgh8Lg7fEz4yeFfDoQfOdd8Q21pt%2BvmuuK8W8ef8Fev%2BCc/gAtb3X7T%2Bi6vdbtsFl4Xgn1SSdycBE%2ByxupJPA5A96n8C/8EkP%2BCcHw8KPof7JXhi6ZOd2vCbVNx9T9sklBr2fwN8GPg98MEWP4a/Cfw14eVRhV0PQre0AHoPKRa1/4XKn/AD6h/wCBzf8A7Yjk/wCMkq/8%2Baf/AIMqP/3HE%2Ba4/wDgoz%2B018WH839lL/gmV8RvENgeV1nx/qdr4Vt5V7SRC53tMp7YwT6U5/ij/wAFnvGS/ZPDv7LPwc8FtNwt34p8b3OorB7lbNQWI9u9fW9FL%2BzsXP8Ai4qb/wAKhBfK0ZP8WH9lY6prWxtR/wCFU4L5WhJr/wACbPkdP2O/%2BCk3xGb%2B0/jD/wAFNptBcjMei/DfwFaW1vA3f/SJiZZR7MOKef8Agmz8f9U/0fxN/wAFUPjhLbt/rV0q9tbKQj/ZkSMlfrX1rRT/ALFwL%2BLmk/OpUf8A7evyQf6vZa/j55PvKrVd/wDyol%2BCPkkf8Ebv2ddZ/efE/wCNvxq8byn78/ir4oXcrt658kR05f8Aghz/AMEx5QX1b9ni61CZvvXF7431lnP4i7FfWlFH9hZN1w8H6rm/9Kcg/wBWuH38WFg/8Ueb8ZOT/E%2BSv%2BHHn/BNeDnSfgjqlgw%2B61n471hSPpuujR/w5U/YgP7l7bx41t3sm%2BIupeUfw83P619a0Uf2Fkv/AEDw/wDAUvysH%2BrXD3TCU16RS/Kx8n2//BD7/gmJG3nXv7N0l7MfvT3vjLWJGb6/6Xj9K2vDv/BHj/gmn4XvVv8ATf2TNBldei6je3l4n4pPM6n8RX0tRVRyXJoO6w1P/wAAj/kXHh3IIO8cJS/8Fx/yZ594V/ZM/ZY8DW62ngz9mzwFpUafdXT/AAhZQ8%2BvyxDJ9%2BtdlpXhXwxoShNE8OWFmF%2B6LWzSMD/vkCr9Fd0KFGkrQgl6JL8kj0qeHw9FWpwjH0SX5JBRRRWpsFFFFABRRRQAUUUUAFeM/sv/APJb/wBo7/ss1j/6hXhevZq8Z/Zf/wCS3/tHf9lmsf8A1CvC9AHs1FFFABRRRQAUUUUAFFFFABRRRQAUUUUAFFFFABRRRQAUUUUAFFFFAEd7e2enWcuoahdxQW8ETSTzzSBUjRRlmZjwAACST0rnvhl8Zvg/8avCH/Cwfg38VvDXi3QBNJEdc8M67b39n5kf3086B2TcuRkZyO9cP%2B338PvGnxW/Yo%2BKfw4%2BHmjS6nrOs%2BBtRtbLSIHCvqZaBt1mpYhQZ13QjcQv7zkgZNeKeHLjXPiLZftLeNfAPwB8Vyab8SfC4tPBfhLxV4Q1TQD4hv7Lw/8AZ7gzrPDDJYJMZLWxWSbyWk%2BxsYtyIrkA%2BnfhR8dvgh8eNMu9a%2BB3xk8KeM7PT7r7Nf3fhTxFbajFbTbQ3lyNbu4R9pB2kg4INfE//BdDR/7c8LTWWzOz4B%2BMLjH/AFx8TeBpc/8Ajld5/wAEv/AvjLw38SfHPiDVbn4ja7pE/wAP/BelWfjH4q%2BA38N6q91ZLqqz6RFaG0tFktLRZoJEn8lmaS/mRrm58seVxn/BUTwr8V9R8Y%2BLh428ZeHtS0KX9l74k3PhrTdK8MT2d3YJDqHhOWQXNzJezJdk7EIZIbcLtOQ2Rt8/N4e0ynER7wn/AOkyPsPDzE/U/EDKK/8ALisO/wDyvS/zPuPwBrH/AAkXgTRPEG/d9u0i2uN3rviVs/rWvXn37Jesf8JD%2Byt8M9f37vt3w%2B0a43eu%2BxhbP616DXXQn7ShCfdJ/ek/1Pn82w31PNsRh/5KlSP/AIDUnH/20KKKK1PPCiiigAooooAKKKKACiiigAooooAKKKKACiiigAooooAKKKKACiiigAooooAKKKKACiiigAooooAKKKKACiiigArxnxx/ykL%2BF/8A2Rnx5/6dvCFezV4z44/5SF/C/wD7Iz48/wDTt4QoA9mooooAK534r/FfwD8EfAV78TPibrjafo9g8Ec00VnNcyySzTJBBBFBAjyzzSzSxxRxRo0kkkiIiszAHoq8g/bX%2BG/j74h/CfSL74ZeGW13WPCfj/w74nh8OpdwwPq0Wn6nb3E9tHJO6RLMYUkMXmukZlWMO6KS6gG3ZftW/AS%2B%2BBd1%2B0injpofCFjJPDfXt5pF3b3Ntcw3JtJLSSyliW6S6Fypg%2BytEJjLiMIXIU58n7an7OsXwzX4ryeKtXWwfXzoSaU3gzVhrbaptMn2EaR9l/tA3PlAzeT9n3%2BSPOx5fz15H4V%2BBPjvxP8As7fFDw98ZP2fvGdtd%2BO/G95440/QPDmv6MupaXcJfwSadbwzte/Zl1KI2Freks5tBLJs86UBs%2BRw/sI/tFm3tfj1420n4q%2BIL7UPj7eeM9f8G2fj7S9M8Wy6ZL4Qi8Oxbr/T7qysYbkS2kE7R2lzBGttK8KyOUZJQD778JeKNL8beF9P8X6JFfR2ep2cdzbR6npdxY3Ko6hgJbe5SOaBwDzHIiupyGUEEV5V%2Bwf/AMkQ1z/ss3xH/wDU11ur/wCz94C%2BPn/DJHh3wB8afiVrGkePDoQh1LxFp09leajYvvJj3S3EE1tcXCReXHJK0TpJIruAdwNYX/BOnSb/AEH9m6%2B0TVfE99rdzZ/Fv4hw3GsanHAlzfOvjPWgZpVt4ooQ7kbiI40TJO1VGAAD3SiiigAooooAKKKoeJ/FHhvwT4dvfF3jHX7PStK022e41DUtRuVhgtolGWkd3IVVA5JJxSbUVd7ClJRTbdki/Xyl/wAFAP8Agpn4S/ZbvF%2BCnwnn0PW/ifqEAcW2s6klvpXhu3bH%2BnapOWURRgEFYtweTKgY3ru838c/8FK/jj%2B2546v/wBnL/glH4RF2LZvK8S/GjxHatFpWixnI3W0bqTLIf4C6knaxWJ1/eL1P7Nn/BEH9k74Ra03xG%2BOU2o/F/xrd3Ju9S13xuxltpbpjl5RaFmRyx5JnaZs87q%2BbxOYY7M4ullNrXtKq9IruoaNyl5pcq7t7deSZ3l%2BCxH1qeBeLsr041JOnh5S6SqNfvqtJb8lFQVW3L7eMOaT%2Bev2ePiDa%2BLPie/xu%2BEPwd8Z/ta/GiR/Lf4m65Z/2L4P8Ntk5g057pQsSxndgrGrvhihTeVr6Vb4J/8ABXH49KT8Wf2rvA/wi0qf/WaR8LvDb6jfGM/wNd3pHlSf7cWRkcV9babpunaPYQ6VpFhBa2tvGI7e2togkcSAYCqqgBQB2FTVthMiVGlyVasmnq1FuCb6ttNzk31cp3fktFx59i%2BIeL8b9bz7HTqySUYwp2oUacFtTp06duSnHpFSiuru25P5u%2BDv/BKX9j74X%2BIP%2BFgeMfCV/wDErxhJhrnxh8UdSbWryVxyG2zfuUIJJBWMMPWvorTtN07R7KPTNJsILW2hXbDb20QREHoFUAAfSp6K9bDYPCYOPLQgoryW/q936ts5sJgMDgIcuGpxgvJav1erb822wooorpOsKKKKACiiigAooooAKKKKACiiigAooooAKKKKACiiigAooooAKKKKACiiigArxn9l/wD5Lf8AtHf9lmsf/UK8L17NXjP7L/8AyW/9o7/ss1j/AOoV4XoA9mooooAKKKKACiiigAooooAKKKKACiiigAooooAKKKKACiiigAooooAKKKKACvk//goJo/8AwkPxLm0ELu%2B2/sofFmAD13zeF1/rX1hXzz%2B0ho//AAkP7XHhTQNm77d%2Bzz8SLfb677/wmuP1rHEw9phpw7xkvvTX6np5LifqedYXEfyVaUv/AAGpTl/7abn/AATf1f8Atz9gP4N3u7Oz4b6Rb5/65WscX/sle1V81/8ABHzWP7c/4JrfCa9352aBNb5/643c8WP/AByvpSubKp%2B0yuhLvCH/AKTE9rj/AA31PjzNqH8uKxC/8r1f8wooorvPkgooooAKKKKACiiigAooooAKKKKACiiigAooooAKKKKACiiigAooooAKKKKACiiigAooooAKKKKACiiigAooooAK8Z8cf8pC/hf/ANkZ8ef%2BnbwhXs1eM%2BOP%2BUhfwv8A%2ByM%2BPP8A07eEKAPZqKKKACiiigAooooAK8Z/YP8A%2BSIa5/2Wb4j/APqa63Xs1eM/sH/8kQ1z/ss3xH/9TXW6APZqKKKACiivHP21P2xPCf7H/wANINcm0WfxD4u8Q3g0zwH4K08k3evak%2BAkSKASI1LKXkwQoIAyzIrY4jEUcLRlVqu0Y6t/1u%2BiS1baS1ZhisVQwWHlXrS5YxV2/wCt23ZJK7baSTbOz%2BOnx8%2BEP7NXw5vfiv8AG7x1ZeH9DsV/eXd4/wA0r4JWKJBlpZGwcIgLHHA4r8w73xZ%2B09/wXy%2BOM3gbQBqngH9nXwrqanWHGFn1B1IZUlIys12wwwi%2BaK2BDNvfb5mVZ/s4ftDf8FRf2nJND%2BKfxY/t6bw3cBfiD4s0Uf8AFP8AgrOGbQ9DjJKXN/jCy3jbghAILFA8n6s/Bn4M/DT9n34aaT8IfhF4UttG0DRbYQ2NjbL%2BLO7Hl5GYlmdiWZiSSSa%2BTj9c4orNTTp4SL1V/eqNdG1tFfaSb1927advqpcP/wBhYKljM/pr6zUSnRwckn7ODScK%2BNW3NJNTo4J3STjWxd17PDzj%2BCPwM%2BFH7OXw20/4SfBfwVZ6DoOmR7beztE5diBulkY5aWRsZZ2JZj1NdZRRX19OnClBQgkktElokvI8KviK%2BKryrVpOU5O7bd22%2Brf9dFokkiiiirMQooooAKKKKACiiigAooooAKKKKACiiigAooooAKKKKACiiigAooooAKKKKACiiigAooooAK8Z/Zf/AOS3/tHf9lmsf/UK8L17NXjP7L//ACW/9o7/ALLNY/8AqFeF6APZqKKKACiiigAooooAKKKKACiiigAooooAKKKKACiiigAooooAKKKKACivIv2%2BviF40%2BFH7FHxT%2BJHw81mTTNZ0XwNqN1ZavDGGfTSsDbrxQwKkwLumG4Fcx8gjIryn4deMfHPwI039pnwZ8J/E/iLxrp/w10K11bwSnirxJea9dR6pLoJu5NON3dyy3EyF0trgRvIxX%2B0CF2oY1UA%2Bs68Y8eRpL/wUH%2BGEUihlb4MePQwPcf2t4QrzT/gmd4%2B1i5n1H4c/EGz8Sy%2BKrv4e%2BGPGV3rWr/Fu%2B8VW%2BqWepi%2BSG4CXASHSrhpbS4aS0s4xagGLyXkVMR9Xf8AjTxJ4h/4KbeC/DurfCPxDoVnpPwe8cJYa9qtzpz2mtBtW8JZe2W2u5Z0CbRn7RFAfnG0N82ADk/%2BCIjvb/8ABOHwb4blYmTRNX12wkz1BXV7tsfk4r6zr5L/AOCOX%2Bg/s7eNvCfT%2BwPjT4o0/b/d23YfH/kSvrSvJyL/AJE2HXaCX3XX6H6B4ra%2BJebz/nxE5/8Agzkqf%2B5Aooor1j8/CiiigAooooAKKKKACiiigAooooAKKKKACiiigAooooAKKKKACiiigAooooAKKKKACiiigAooooAKKKKACiiigArxnxx/ykL%2BF/8A2Rnx5/6dvCFezV4z44/5SF/C/wD7Iz48/wDTt4QoA9mooooAK534r/FfwD8EfAV78TPibrjafo9g8Ec00VnNcyySzTJBBBFBAjyzzSzSxxRxRo0kkkiIiszAHoq8g/bX%2BG/j74h/CfSL74ZeGW13WPCfj/w74nh8OpdwwPq0Wn6nb3E9tHJO6RLMYUkMXmukZlWMO6KS6gG3ZftW/AS%2B%2BBd1%2B0injpofCFjJPDfXt5pF3b3Ntcw3JtJLSSyliW6S6Fypg%2BytEJjLiMIXIU1x%2B2B%2BzzH8DfEH7RmpeOLjTfCvhTz18STaz4fv7G902WEKWt5rC4gS8Sch49kBh82XzovLV/MTd434V%2BBPjvxP%2Bzt8UPD3xk/Z%2B8Z213478b3njjT9A8Oa/oy6lpdwl/BJp1vDO179mXUojYWt6Szm0EsmzzpQGz5hB/wT3/bD8c/Cjxv4s/4W1JpWt%2BLfiTqHjOTwl8WNBtNfvNRlTw5p%2Bi6et62j6hY2MFxG1g11GsDSW0LyWp2s9qr0Afdvgzxf4d%2BIXg/SfH3hDUftmk65pkGoaXd%2BS8fn200ayRvtcBlyjKcMARnBAPFeV/sH/wDJENc/7LN8R/8A1Ndbq7%2Bzn8Kvi74b/Yt8DfBv4ieO5fD/AIx0zwJpumanrfhTTrVJNPuYreNCIY7s30DOgXYWfzUchmAAYAYn/BOnSb/Qf2br7RNV8T32t3Nn8W/iHDcaxqccCXN86%2BM9aBmlW3iihDuRuIjjRMk7VUYAAPdKKKKAOJ/aM%2BP3w9/Ze%2BCviD46/FHUfs%2Bj%2BH7Fp5lQjzLmQkLFBGCQGkkcqijplhkgZNfmdfeH/wBpL9q39o200/Xb02fxw%2BJGiCa98gtJb/BXwLKOY0zjbql3HJtJ%2BWRRMR%2B7Mu4dP%2B3p%2B1dB%2B0F8ZJ/EmiaR/wAJF8O/hD4oi0bwN4bjUyR/EL4jS/JbwBR/rrWy3b3xw2CuWE64%2BzP2C/2RZf2W/hjd6p4/1o698S/G13/bHxK8VTEPJfai4JMStjiCHcyRqML95gq7yB8biJT4hzL2EH%2B5p7tdd02vNtOMP5YqdRauDX03B%2BEweEw/%2BumZQVSnSqSp4CjJXjXxNP8AiYqpF6SoYRtKmmnGriOVaxhM9D%2BAfwG%2BGH7M/wAJ9H%2BC/wAH/DcWl6HotsI4IkALzP8AxzStj95K7ZZnPJJ%2BgrsaKK%2Bvp06dGmoQVopWSWySPCxmMxeYYupisVUdSrUk5SlJtylKTbbberbbbb/pFFFFWcwUUUUAFFFFABRRRQAUUUUAFFFFABRRRQAUUUUAFFFFABRRRQAUUUUAFFFFABRRRQAUUUUAFFFFABXjP7L/APyW/wDaO/7LNY/%2BoV4Xr2avGf2X/wDkt/7R3/ZZrH/1CvC9AHs1FFFABRRRQAUUUUAFFFFABRRRQAUUUUAFFFFABRRRQAUUUUAFFFFAEV7ZWepWcunajaRXFvcRNHPBNGHSRGGGVlPBBBIIPBBrlPhz%2Bzz8Afg9p9hpPwj%2BB3g/wta6XLcyaZbeHPDNrYx2j3AUXDRLDGojMoRN5XBfYu7OBXYUUAct8L/gb8FPghbahZfBf4P%2BFvCEOrXhu9Vi8L%2BH7bT1vLgjBmlECKJHx/E2T71wXjj/AJSF/C//ALIz48/9O3hCvZq8Z8cf8pC/hf8A9kZ8ef8Ap28IUAeY/wDBKn/iWan%2B0l4Tbj7D%2B074nmiX%2B7FMts6D9DX1pXyX/wAE8/8AiU/tW/tW%2BE%2Bnk/Fa11Db/wBfVir5/HbX1pXk5JplsI9nNfdUqH6B4o%2B9xtXq/wDPyGGn/wCB4TCP9Aooor1j8/CiiigAooooAKKKKACiiigAooooAKKKKACiiigAooooAKKKKACiiigAooooAKKKKACiiigAooooAKKKKACiiigArxnxx/ykL%2BF//ZGfHn/p28IV7NXjPjj/AJSF/C//ALIz48/9O3hCgD2aiiigAooooAKKKKACvGf2D/8AkiGuf9lm%2BI//AKmut17NXjP7B/8AyRDXP%2ByzfEf/ANTXW6APZq%2BYv%2BCm37SPi/4cfD3SP2b/AIGarFD8TfizcyaT4euWm2DRbFU3X%2BrSt/yzjt4Nx39VY7hny2FfR3ivxRoHgfwvqXjTxXqkVjpekWE17qV7McJBbxIXkkb2VVJP0r8m9f1H4pftrfEmHxXCbjTvHP7TbyaL4OtnG6TwR8LrSUm7vCOiS3pVxzxIDIEYeZivn%2BIMfPDYb2FK/PU003Suk7dnJtQj2cm/sM2y3JcVxZn2HyDDVPZe35pVavShhqa58RXf%2BCmpKPV1JRS1aPaP%2BCW37Nfg/wCK/jjS/wBovR9IlT4VfCq0uPDfwJs72DadVuNxXU/EsqnrLcTBwh7DIwDEpr9C6xfhx8PvCXwm8A6N8MfAWkR2Gi6BpkNhpdnH0igiQIgz3OByTyTknk1tV3ZVl8ctwapacz1k1s3ZbeSSUYrpFLu7%2B/xTneFznMIwwNL2ODw8I0cNS/590Kd1BO2jnLWpVl9qrUm9lGxRRRXpHzQUUUUAFFFFABRRRQAUUUUAFFFFABRRRQAUUUUAFFFFABRRRQAUUUUAFFFFABRRRQAUUUUAFFFFABRRRQAV4z%2By/wD8lv8A2jv%2ByzWP/qFeF69mrxn9l/8A5Lf%2B0d/2Wax/9QrwvQB7NRRRQAUUUUAFFFFABRRRQAUUUUAFFFFABRRRQAUUUUAFFFFABRRRQAUVx37Qfxm0L9nf4HeLPjn4k0y6vrPwpoFzqUmn2O3z7xooyyW8W4hfMkYLGu4gbnGSBk1zX7Pf7Q3i/wCJGr%2BNPh/8avhxpfgzxd4EurT%2B2rDSvE7atp8lndWq3FvdQ3clrasyn99E6vChSS2kxuTY7AHq1eKePLy1i/4KK/CuxknVZpvgt4%2BaKMnlgureD92PpuH50n7HH7Y8X7Xt78QZ9N%2BG0%2Bg6V4S8U2%2Bn%2BH9QutR819f064020v7bUvK8tPsyTRXSukRZ28sozFGZok%2Bff%2BCmXxe1L4A/8FKv2Qvix5jpo0cXjHRvEzjiOKy1Gfw7aebIeyRzSQv9VWufF4iOEoOrLZWv6NpX%2BV7nLjcXDA4aVefwxtf0coq/y5r%2BiZ3X7IH/ABJ/%2BCn37W3h88Jct4J1C3Hrv0mVZD/30BX1pXyX8F/%2BJN/wWL%2BNWm9P7a%2BFvhzUMf3vJd4M/rivrSuHJ9MNUj2qVV/5O3%2Bp%2BleJHv51hK38%2BCwMvuwsIfnTCiiivWPz8KKKKACiiigAooooAKKKKACiiigAooooAKKKKACiiigAooooAKKKKACiiigAooooAKKKKACiiigAooooAKKKKACvGfHH/KQv4X/9kZ8ef%2BnbwhXs1eM%2BOP8AlIX8L/8AsjPjz/07eEKAPZqKKKACs3xh4y8IfDzwvf8Ajjx/4r03Q9F0u2a41PWNYvo7a1s4VGWkllkISNAOrMQBWlXiH7f3hvxFrvwT0bVtE8Kalr9p4b%2BJfhXX/EGh6Pp0l5dXmm2OtWlzcGK2iVpLl4Vj%2B0iFFaST7PtRXcqpAPTNM%2BMPwj1r4ZD416P8UvDl34NOnvfjxbba5byaYbRAS9x9qVzF5ShWy%2B7aNpyeK53Vv2v/ANkvQfhtpvxl1z9qL4dWXg/WLprbSPFd342sI9Nvp1LBoobppRFK4KOCqsSNjccGvnPw18PbT4k/sn/Fvw94v0Lx14R07xP8S7/x54Ttv%2BFZapdXdnaxazBd2sr6aLfzJmuL2ze8k07C3Lw3ZDxxtIccj4O%2BKH7SP7Pnwe%2BJXxd1T4Y%2BKfFnin4yfGt5PAmoW/wO1uO30CybQNLsJ9XvdEt47q/sLQS6ddSLbSnz7lnhDtGbl5IgD76sL%2Bx1Wxh1TS72K5trmJZbe4t5A8csbAFXVhwykEEEcEGvHv2D/wDkiGuf9lm%2BI/8A6mut1p/AP4aD4afsdeCvhB%2Bzz4lnsI/D3gbTdJ8Lar488KXZlSO3to4o5LzTneynVyqZaEtAyk4woG2ue/4J1QeJLP8AZtvrfxpq9jf6tF8WviGuqX2mae9nbTzjxnrXmSRQSTTNChbJCNLIVBALtjJAPLf%2BCunxLfxH4U8KfsR%2BH/ETabc/FK/ln8ZapE2G0jwnp6/atTumI%2B7mNNgB4cCRetM/4JQ/Ct/G9pr/AO3v4s8NDS7nx/BFpPw50Nhx4e8HWWIbG0QfwmQRrI%2BOG2xvwWNfLPxn8YeJf2tLnxv8fPDF0/8AaX7QXja1%2BDvwXcqSbXwpbXG7VNRUf88pmRw/dd8g6Gv1a8CeC/D3w38EaP8ADzwjYi20rQdLt9O0y2HSK3hjWONfwVQK%2BQy5f2rnU8ZLWEEuX/yZQf8A4Dzz/wC34vsfUZBJ5R4fV84WlfN6kqVN9VgMLJc1uyxOKd5P7UKKWquatFFFfXny4UUUUAFFFFABRRRQAUUUUAFFFFABRRRQAUUUUAFFFFABRRRQAUUUUAFFFFABRRRQAUUUUAFFFFABRRRQAUUUUAFeM/sv/wDJb/2jv%2ByzWP8A6hXhevZq8Z/Zf/5Lf%2B0d/wBlmsf/AFCvC9AHs1FFFABRRRQAUUUUAFFFFABRRRQAUUUUAFFFFABRRRQAUUUUAFFFFAHHftCfBnQ/2ifgb4s%2BBniTVLqws/FegXOmyahY7fPs2ljKpcR7gV8yNisi7gRuQZBGRXmngv8AY08U6jZfEKD9pP4n6L43b4tae%2Bl/EKPRvC93ocVxpi6etlb2dn5epSy2ahWupJJDLLI8l2xRoAiKPfKKAPEv2Vf2H/BH7JnxG%2BJPjrwZ478WarD8QdW0%2B7jsPE3jHWNXOmx2unW9mI/N1G9uTM7NCz%2BbhHCPHDykMePAP%2BCi37E/wr%2BMHxpvvDfw8%2BE/h/TPF3jb9n7x5e3WsaRokFve6tqdlq/hG4smuJ40EkzCZQoZyxAkfHUg/dleM%2BOP%2BUhfwv8A%2ByM%2BPP8A07eEKxxFCnicPOjPaSafo01%2Bpz4rDUsZhamHqfDOLi/Rpr9T5I8K/tEz%2BHfF/wCz5/wVZu78TeF/iR4Ktfh38X5mwU0u8E7eVfZ/gRb2OVJGOAEVR1cV%2BjtfB37MvwN8GeJL79qP/glX8SrfboI8RPr3hVCgJt9L1iMXERtweD9luUVge0hGc163/wAEwvjl4z8dfBrU/wBn742XH/Fyfg3qx8LeL0dyWu44gRZ34J5ZJ4FBDn77Ru3Qivnckr1KNRU6v/L279KsPdqr/t7lVResj7rC4ifGXhlhMynrjMsUcLiO8qPPONCr/wBw6ntKE3/LUoN73f0tRRRX1B8aFFFFABRRRQAUUUUAFFFFABRRRQAUUUUAFFFFABRRRQAUUUUAFFFFABRRRQAUUUUAFFFFABRRRQAUUUUAFFFFABXjPjj/AJSF/C//ALIz48/9O3hCvZq8Z8cf8pC/hf8A9kZ8ef8Ap28IUAezUUUUAFFFFABRRRQAV8peEviP/wAKg/4JxfGX4nJceXLofi74tXdq2cEzr4s1/wAoD3Mm0D3NfVtfnH%2B2T4tfQ/8AgkZ498HWt4Le68aftCeMPD9rKexm%2BIerSSfXMUMo%2BhrgzSu8Lllaqt4wk162aX4tHnZvWqYfKq9SmryUJWtu5NWil5uUopedjM/4JU/Dj/hZnx38ApLb7vD37OvwZsLS1Qj5F8Ua/F9tvXU9C0cMrQuOodRzzX6X18mf8EVPASeHf2EdG%2BJeo2qrrfxH1vUvFGvSBcB5p7l449vcKIIYcDtk%2BtfWdcPDmH9hlFOT3mlJ/NJRXygor7z9I4/p0stzuGQUH%2B6yylTwcLbN4eKjVmv%2BvmIded%2BqcfkUUUV7p8QFFFFABRRRQAUUUUAFFFFABRRRQAUUUUAFFFFABRRRQAUUUUAFFFFABRRRQAUUUUAFFFFABRRRQAUUUUAFFFFABXjP7L//ACW/9o7/ALLNY/8AqFeF69mrxn9l/wD5Lf8AtHf9lmsf/UK8L0AezUUUUAFFFFABRRRQAUUUUAFFFFABRRRQAUUUUAFFFFABRRRQAUUUUAFFZvjPxj4V%2BHfg/VviB451%2B10rRNC02fUNY1S9lCQ2drDG0ks0jHhURFZiewBrkfhh%2B1B8F/jD4H134g%2BB9d1RrHwxLJF4htNW8Lajpuoae6W0d1tlsLy3iukLQSxSoDF%2B8SRGTcGBIB6BXjPjj/lIX8L/APsjPjz/ANO3hCus%2BCv7SHwl/aAbV7b4capq63ugywprOj%2BI/Cuo6JqFn5yF4Xks9Rt4J1jkUMUk2bH2OFYlGA5Pxx/ykL%2BF/wD2Rnx5/wCnbwhQByf7bf7Hnjv4geKdK/az/ZP8SR%2BHfjR4NszDpk874svEmnhi76TfLkBo3JbY5xsZuo4dPCtI1PxP%2B1trt1%2B23%2BxJct4C/aN8FQppHxY%2BEfiSUpBrSwcGxvI229QpFvdjaCAFYoy5j/Qevn39qr/gnt8P/wBoHxhB8dPhx4y1X4bfFnTIAmlfETwq%2Byd1UYWG8hyEvIcAKUfDFQF3bcqfn8yyqU5Orh1e7vKKfK%2BZbThLaNRefuzWku4ZPmud8G51LNsmUZ86ca9CaTpV4SspRlGXu3kklJOylaMlKFSFOqtz9jv9tn4bftd%2BGryHTrC68N%2BNfD0ptfGvw/1v93qWiXSna6uhALxFvuygAMOCFYMo9mr8u/2kl1/wx4rsdd/4KK/D7XPhh8QtFZIPCv7WXwas5ZdOugPljGpQxDegbhWikX5huCeWhOfXvhN/wU1%2BJnwN8N2Mv7bGh2PirwRcOItI/aF%2BFaDUdCvU4Aa/ggy9jNyAwC4LkhYwBuOGDz%2BNN%2Bxxrs1vK1v/AAZHeD/vLmpvdTV7L7vD5Rw7x7KVbg%2BbWI3nl9V8uJpvr7BzcViqd78vK/bpWThVtzv7morD%2BHPxN%2BHfxf8ACNr4%2B%2BFnjfS/EOi3q7rXU9HvUuIX9RuQkBh0KnkHggGtyvpYyjOKlF3T6rVHxNehXwtaVGtBwnFtOMk001o000mmuqaTXYKKKKoyCiiigAooooAKKKKACiiigAooooAKKKKACiiigAooooAKKKKACiiigAooooAKKKKACiiigAooooAK8Z8cf8pC/hf/ANkZ8ef%2BnbwhXs1eM%2BOP%2BUhfwv8A%2ByM%2BPP8A07eEKAPZqKKKACs3xh4y8IfDzwvf%2BOPH/ivTdD0XS7ZrjU9Y1i%2BjtrWzhUZaSWWQhI0A6sxAFaVeIft/eG/EWu/BPRtW0TwpqWv2nhv4l%2BFdf8QaHo%2BnSXl1eabY61aXNwYraJWkuXhWP7SIUVpJPs%2B1FdyqkA9M0z4w/CPWvhkPjXo/xS8OXfg06e9%2BPFttrlvJphtEBL3H2pXMXlKFbL7to2nJ4rGvP2p/2YtO%2BEsPx81D9o7wHB4EuJ/Jg8azeL7JdJkk8wx7FvDL5JberJgNncCOoxXzV4a%2BHtp8Sf2T/i34e8X6F468I6d4n%2BJd/wCPPCdt/wAKy1S6u7O1i1mC7tZX00W/mTNcXtm95Jp2FuXhuyHjjaQ44D4XeFfjn4I%2BItl%2B2F8dPCfi3xP4V1H9oDWPEAtNE%2BE2qW19Z20/gu00WDU18OqLnULWNrq0vIhG4knCX6zyhRLKyAH6FadqOn6vp8GraTfQ3VrdQrNbXNvKHjljYAq6sMhlIIII4INfkF/wUx8dRwfsqeDvhYbsxtdfHf4yeJVKn7kumeIdf8hj6fvbpQM9TX6H/sY/Db4yfDv9gXwH8No/sXhTxdY%2BEII7Kz8RaS9/DoW754bOe3huIDJ9nhZICiTIAYsK2AM/kt%2B06fFPxX%2BIJ%2BCHijWrPUdSsNf8T6Dd6hpNg9pA%2Bt6t8U9UMphgeaZoUktrZyEaWRgp2l2xuPzPF9V08iqQjvNxivm7/oetw1gKebcZ5Nl9T4K2NwsZf4I1o1qj9FTw82/K5%2ByP7F/gX/hWX7Ifww8APD5cuk%2BAdJt7lcY/fC0i8w/UvuP416ZTLe3gtLdLW2iVI4kCRoowFUDAA/Cn19DQpRoUIU1tFJfckv0OfNMdVzTM6%2BNqfFVnOb9ZznN/jMKKKK1OEKKKKACiiigAooooAKKKKACiiigAooooAKKKKACiiigAooooAKKKKACiiigAooooAKKKKACiiigAooooAKKKKACvGf2X/wDkt/7R3/ZZrH/1CvC9ezV4z%2By//wAlv/aO/wCyzWP/AKhXhegD2aiiigAooooAKKKKACiiigAooooAKKKKACiiigAooooAKKKKACiiigDzD9tT4Q%2BKvj5%2ByZ8Q/g74Fe1Gt%2BIPCl5a6PHfSlLea6MZMUUrAErE7hUdsHCsxwcYPA/AmP48aX8Tvip%2B0b4v/Ze8T6NceNLeyXQ/B0%2Bu6JLeKuladhftEkN%2B9uk13cTzQxbJZFVLeN5nh3bV%2BjaKAPnX9gTw/wDG68fxl8Z/2ovgb4l8H/Enxnc2U2vDWNR0e4sYLWFJVtNK006df3TNbWavJulnETzzXU0wRRJ5UL7/AMF%2BJPD3/BTbwX4i1b4ueIdds9W%2BD3jh7DQdVttOS00ULq3hLKWzW1pFO4fcM/aJZz8g2lfmz9D14z44/wCUhfwv/wCyM%2BPP/Tt4QoA9mooooAiv7Cx1Wym0zU7KK5triNo57eeMOkiEYKsp4II4IPWvlb4l/wDBJP4LS6/f/EH9lPx94i%2BCXiXUFP2x/BM4OkX5II23WlyfuJo8HmNfLU9wa%2BrqK5MVgcJjYpV4KVtns16NWa%2BTXzOPF5fgseo%2B3gm46p6qUX3jJNSi/NSR%2BS3jz9gz/go5%2Byd4suvib8D/AAfGL8yeZc%2BK/gNqKWK3yjo9/wCG7v8A0a5b/pja%2BWgznk5ra%2BEf/BwL4/8AhFra/Dj9uX4E3n2u1AF3q2jadJpepQru2r9o0y92gyHq3ky7RzgGv1PrB%2BIXwr%2BGPxb0U%2BG/ip8OtC8S6e2c2OvaTDeRc9fklVhXz74cxWCm55bipU/7skpQfy0%2B%2B1/Nn1sOMeJ6mHjh80nDMaUUlFYuMpVoJaJQxlF08UklolVeJitNNLHmv7O3/BQv9jb9qeOCD4OfHnRLzUpsAaBfz/YtRVu6/Zp9kjYPBKBl9CeK9or45%2BMH/BCH/gnN8VpJb7Svhhqfg29lJJu/B%2BtywBT2KwzebAmPRYwK5jR/%2BCZ//BQD9nO0eP8AY/8A%2BCnuuS2MQC2Xhf4l6Iuo2qIP4BM5l8of9coFrrp4zP8ADK2KwyqL%2BalJf%2BkT5X90meBjMdg5S5qOEq0/JVKdaPylahVt/ig35t6n3bRXw9qv7TH/AAWn%2BAjSn4q/sMeBvilptpGobVPhh4mktJZ8DlhDcGSZ2Potuoz0A4rml/4OEPg/4D1VPDf7S37JHxY8AameJLW70mKTyyOuRO9vIQPZCfarlxHldF2xDlSf9%2BEo/jZx/wDJjnoVMTiIuUMNWaWrtRqyt6%2BzhWtbrdadWj9BqK%2BRfBn/AAXP/wCCaXi5IhefHS70OWYZSHXPC9/EP%2B/iQvGP%2B%2B69X8If8FDf2E/HQQeGv2vfh1LJJ9yC48W2tvK30jmdW/Suyjm%2BVYj%2BHiIP/t6P6tHHDOcoqVHTWIhzLRpyimn2ak4tPyaT8j2Oisjw14/8CeNIxN4O8a6RqyEZD6ZqUU4I9coxrXr0IyjJXi7o9CMozV4u68tQoooplBRRRQAUUUUAFFFFABRRRQAUUUUAFFFFABRRRQAUUUUAFFFFABRRRQAV4z44/wCUhfwv/wCyM%2BPP/Tt4Qr2avGfHH/KQv4X/APZGfHn/AKdvCFAHs1FFFABRRRQAUUUUAFfiP%2Bzr4RuPiB/wUp1XTrzM0er/ALcHiOWxRhkInh2%2B1a%2BmA9t2oIxHriv24r8tP2CPhqv/AA9IaxKIzaX4u%2BMnjuXYciN77xpf6KpPoxis0464xXzvEVB4iGGh09rD8f8AgJn2PAGGb4qWYvbB4fG1/SSwdalB/wDgeJR%2BpdFFFfRHxwUUUUAFFFFABRRRQAUUUUAFFFFABRRRQAUUUUAFFFFABRRRQAUUUUAFFFFABRRRQAUUUUAFFFFABRRRQAUUUUAFFFFABXjP7L//ACW/9o7/ALLNY/8AqFeF69mrxn9l/wD5Lf8AtHf9lmsf/UK8L0AezUUUUAFFFFABRRRQAUUUUAFFFFABRRRQAUUUUAFFFFABRRRQAUUUUAFFFFABXjPjj/lIX8L/APsjPjz/ANO3hCvZq8Z8cf8AKQv4X/8AZGfHn/p28IUAezUUUUAFFFFABRRRQAUUUUAFUPEnhbwz4x0mTQfF3h2w1WxmGJrLUrNJ4n%2BqOCD%2BIq/RSaUlZ7F06lSlNTg2mtU02mn3TTTT9Gj5u%2BJv/BIv/gnf8UrhtR1H9mjR9Gvslor7wlNNpDxN/eVbR40J%2Bqke1eGeN/8Ag33%2BDs1zLqXwo/aE8RadcyZ2J448N6X4ngh9kW6gR1X23k%2B9foJRXkYjh/JMS7zw8b90uV/%2BS2/I%2Buhx/wAYOkqOJxTxFNKyhiIUsVG3a2JpYiy8lKJ%2BVPiX/ghz8dfDUhnsPhl%2Bz/8AESGM5828TXPDN8%2BOhjGm3K26t/vDbWV/wx58dfhV8mv/ALBXx48PW8XTU/g1%2B0at9nHeO1lDSr7Bjmv1rorzZcIZZF3otx/8Bl%2BcU/8Ayb5nLLN%2BEsa75jw3l9RveVOjUwk/vwtenG//AHDt5H5KD4k%2BCvh98vjT9sD9vf4W%2BX99viZosl/DF7gpE%2B5fQ45Fdd4I/aD0nxOEPwv/AODiyKx3f6seN/hpp64/3jfiH9a/T2uS8b/AP4FfEzf/AMLH%2BC3hLxB5n%2Bs/tvw5a3e76%2BbG2aX%2Br2Kpfw6qfr7WP4wrP8ifqHg7ivjyvGYZ/wDTjHyml6RxEL/fUPkvwbZ/8FBPFe3/AIVX/wAFe/g7443f6v8A4ofTj5np/wAec7fpXWf8If8A8FtdI/5B3xi/Z41fHT%2B1fD%2BrW%2B76%2BQTius8Zf8El/wDgnF473/23%2ByP4Vg39f7Gil07H0%2BySR4/CuT/4cw/slaH/AMkq8Y/FLwJt/wBV/wAIj8Sr6Hy/93zmlo/s7NqfRv8Aw4iovwqQl%2BYf6o%2BFOI/gZxmGH8qlJVUv%2B3qWIu/lAP7b/wCC4ml/8f3gf9mXVMf9A7UtdgJ/7%2B0f8Lc/4LLad/x%2Bfsh/CHUcdf7P8fTw5%2BnmrSj/AIJpfGzwzz8Mf%2BCo/wAeLPb/AKseKNYt9aA%2BoljTIo/4ZY/4KqeF%2BfC3/BULSddjX/V2vif4O2EePYywSbm%2BuKPZ5lD4o4helSlP84xf4B/xDjhqt/unFkfSrDFU3%2BOFrJfOQg/aT/4K3WH/AB9/8E0vCt/j/nx%2BMlnFn6eZHR/w2D/wVGtONQ/4JBtIo6yWnx40Zs/8BMWaX%2Bw/%2BC3Xhj/kHeOv2cfE8a/e/tbTNZspnHt5BKA/Xij/AIXL/wAFjfDn/Ia/Yx%2BFXiTb1/4R74iSWe/6falOPxo9riI/FUxMfWnCX5RkH/EKMzqf7rxFhan/AHN4eL%2B6thaVvmw/4bi/4KD2/wDyEf8AgkX4mX1%2BzfFLSZv5KKT/AIb8/bSg/wCP7/gkz8Q19fI8W6dL/Kl/4bW/4KMaHx40/wCCSGtKq9ZdB%2BLOlX%2B4eoRUB/Cj/h5l8XtG/wCR0/4Jd/tAQY%2B//Yfh231LH08uVc0fXIr4sZVj/io2/wDcIf8AEHvECX8DGQq/4MTls/yrwE/4eI/tURf8ff8AwSl%2BLI/646hYyfyaj/h5B%2B0RGcXH/BK341j/AK5w2j/ykpf%2BHvXww0//AJHD9kL9ojw9j7/9tfCeZNv12SvR/wAPr/2ELHjxZ4g8ZaDj739sfD3U02/XZC1H1/DrfMresIL84RD/AIgx4uv%2BHQxE/wDBSw9T/wBNVKl/kJ/w8t%2BNyf6//glr8eR/1z0e2b/2rS/8POPiun%2Bu/wCCXf7Qo/3PC8Df%2B1qv6V/wWp/4Ji6wQLX9qexjJ7Xfh3VIMfXzLVa6TS/%2BCqv/AATq1jH2T9r3wamen2rUDB/6MVcVpHGUp/DmcX8qP/ySOOv4TeLeF/i4TGR9cE//AJWzi/8Ah6H8QU/1/wDwTB/aRH/XPwRE3/tej/h6j4ki/wCPr/gmT%2B1CPXyvhmj/AMrivVdN/wCCg37COrY%2Bxftl/C/J6LL47sI2P4PKDW/p37Wn7KusY/sn9pn4fXWen2bxnYvn/vmU10Rdafw5hF/9u0X/AO3nkVuB/EDDfxY4iP8Aiwcl%2BdJHhn/D2OOPi8/4JuftXQ%2B7fB7I/MXNH/D3HwlH/wAff7CX7Tlv7TfCGQfynNfSFh8ZfhBquDpfxW8N3Oen2fXbd8/k9bNjr2h6nj%2BzdZtLjPTyLlX/AJGt40Mxl8OMT/7h0/0meVVyXifD/wATEyj/AIsPFfm0fKv/AA97%2BGa8Tfse/tFxn0f4TTZ/9G0v/D3z4XniP9kL9olj2VfhNNk/%2BRa%2BtKKv6rm3/QUv/BUf/kjn%2BpZ5/wBBi/8ABMP/AJM%2BSv8Ah7j4Rl4sf2Ev2nLo9lt/hFISfznFH/D1TXLzjRf%2BCZv7UkhPQ3nwvW3B/Frg19a0UfVM1e%2BK/wDKUP8A5IPqOdPfG/dRp/rJnyV/w8g/aK1Hjw5/wSt%2BNUpP3f7TitLMfjuc4qn8E/jx8dvjf/wUL8GS/Gf9kjW/hbFp3wZ8Zf2Qda1%2B1vX1TzNW8K%2BbhYB%2B68vZHnd97zhj7pr7Brxnxx/ykL%2BF/wD2Rnx5/wCnbwhWtDCYynVUqmIcl25YJP7lf8TfDYLH0qynVxUppfZ5KcU//AVfz0Z7NRRRXoHqBWb4w8ZeEPh54Xv/ABx4/wDFem6Houl2zXGp6xrF9HbWtnCoy0ksshCRoB1ZiAK0q8Q/b%2B8N%2BItd%2BCejatonhTUtftPDfxL8K6/4g0PR9OkvLq802x1q0ubgxW0StJcvCsf2kQorSSfZ9qK7lVIB6Zpvxh%2BEes/DIfGvR/in4cu/Bh0978eLbbXLeTTPsiAl7j7UrmLylCtl920bTk8Vz11%2B15%2BydY/C6D44Xv7T/wAO4fBV1fGytvF8vjWwXS5rkbgYFuzL5TSDY/yBt3ytxwa%2BVvEfhXxp4w/YZ%2BNPh/Rfg941iPjX4k3nirw1oL%2BEL%2B21HT9Gn1y2Mmow20kKk3ytBd6tHpzjz5GeNZYczMh85h%2BG3xUtb%2BH4j3l58ctO0aT4765rFr8bNM%2BFEk3jW7hm8JWVilxc%2BH/7JkjijknW4sBL/ZUaiHTrd/LRpzdsAfpXpWq6Xrul22t6JqVveWV5bpPZ3lpMskU8TqGSRHUkMrKQQQcEEEV%2Bd/8AwSJtp/GX7f37UXjS5iOzwf411zw3ZyN0K3Pi3Xb%2BRV%2Bjbc/UV9U/sc%2BBvi14N/4J%2BfDT4cWOg6V4D8XaT8ONKsIdO1fSJ7620maK2jjCTWwu45XIVfmj%2B07lYkGRsZPhH/BD7wL4l0TSf2kfHHjm%2BsrzW9Y/an8bWl/f6bp72lvdm01SZGliheWVoYzLJPtjaWQoOC7kbj5uOpuricMuim5P5Qlb8WfacL4yngMkzqb%2BKeGhSj/3ExNDm%2B%2BFNp%2BR9zUUUV6R8WFFFFABRRRQAUUUUAFFFFABRRRQAUUUUAFFFFABRRRQAUUUUAFFFFABRRRQAUUUUAFFFFABRRRQAUUUUAFFFFABRRRQAV4z%2By//AMlv/aO/7LNY/wDqFeF69mrxn9l//kt/7R3/AGWax/8AUK8L0AezUUUUAFFFFABRRRQAUUUUAFFFFABRRRQAUUUUAFFFFABRRRQAUUUUAePf8FBz45H7DnxYPw3/ALT/ALY/4QLU/s/9ib/t2z7O/m/ZvL%2Bfz/K8zy9nz79u35sV82fCLxL8PNO%2BGP7T3hr/AIJya/4ag8O6l4Wmf4K2HgW6t1sLrxLF4dzeHSUhPluElfTTKYAVW5aXfiUy196UUAfG/wDwTLP7Ph%2BMfj3/AIYtOkf8Kn/4Vv4K8z/hHNv2H/hKt%2Bs/2l5mzj%2B0fsf9kfa9373d5PmfvN9eg3%2BpfFe7/wCCm3guz8beC/D2n6Fb/B7xwPDWo6V4nnvLu/Q6t4S8xrm2ksoUtCMJgJNcBtxyV2jd9D184ftH6v8AGvR/28PhPP8AA74f%2BFvEWpN8I/Ha3dp4r8YXOiwRwf2p4SJdJbfT71nfdtGwxqMEnfkBSAfR9FeM/wDCcf8ABQv/AKNf%2BDP/AIfjVv8A5l6P%2BE4/4KF/9Gv/AAZ/8Pxq3/zL0AezUV4z/wAJx/wUL/6Nf%2BDP/h%2BNW/8AmXo/4Tj/AIKF/wDRr/wZ/wDD8at/8y9AHs1FfOOk/tHft26x8Z9f%2BB1v%2Byh8JF1Tw74X0jXby5f466p5EkGo3OpW8KIR4Y3F1bS5ywKgAPHgsSwXqP8AhOP%2BChf/AEa/8Gf/AA/Grf8AzL0AezUV4z/wnH/BQv8A6Nf%2BDP8A4fjVv/mXo/4Tj/goX/0a/wDBn/w/Grf/ADL0AezUV4z/AMJx/wAFC/8Ao1/4M/8Ah%2BNW/wDmXrl/AP7R37dvxE8V%2BN/CGj/sofCSG48B%2BKItC1WS5%2BOuqBJ55NK0/Uw8W3wwSU8nUYVJYKd6OMYAZgD6Oorxn/hOP%2BChf/Rr/wAGf/D8at/8y9H/AAnH/BQv/o1/4M/%2BH41b/wCZegD2aivGf%2BE4/wCChf8A0a/8Gf8Aw/Grf/MvR/wnH/BQv/o1/wCDP/h%2BNW/%2BZegD2aivnH4RftHft2/GXwpd%2BL/Dn7KHwktrez8Ua3oUkd78ddUVzPpeq3WmTuNvhhhsaa0kZDnJRlJCnKjqP%2BE4/wCChf8A0a/8Gf8Aw/Grf/MvQB7NRXjP/Ccf8FC/%2BjX/AIM/%2BH41b/5l6P8AhOP%2BChf/AEa/8Gf/AA/Grf8AzL0AezUV4z/wnH/BQv8A6Nf%2BDP8A4fjVv/mXrl/gj%2B0d%2B3b8ePgx4Q%2BOPhX9lD4SWul%2BM/C%2Bn67pttqHx11RZ4YLu2juI0kCeGGUOFkAYKzDIOCRzQB9HUV4z/wnH/BQv/o1/wCDP/h%2BNW/%2BZej/AITj/goX/wBGv/Bn/wAPxq3/AMy9AHs1FeM/8Jx/wUL/AOjX/gz/AOH41b/5l65f43ftHft2/Af4MeL/AI4%2BKv2UPhJdaX4M8L6hrupW2n/HXVGnmgtLaS4kSMP4YVS5WMhQzKMkZIHNAH0dRXjP/Ccf8FC/%2BjX/AIM/%2BH41b/5l6P8AhOP%2BChf/AEa/8Gf/AA/Grf8AzL0Aer6r4W8Ma6CNb8OWF5nr9qs0kz/30DXN6p%2Bzl%2Bz1rmf7a%2BBHgy8z1%2B1eF7STP/fUZrjP%2BE4/4KF/9Gv/AAZ/8Pxq3/zL0f8ACcf8FC/%2BjX/gz/4fjVv/AJl6znRpVPiin6pP80zsoZhmGF/gVpw/wznH/wBJnE0tT/YW/Ym1nJ1X9j74XXBPV5fAOnFvz8nNYGo/8Ey/%2BCfWqZ%2B0/sdfD9c/8%2B/hyGH/ANFgVifF39o79u34NeFLTxf4j/ZQ%2BElzb3nijRNCjjsvjrqjOJ9U1W10yBzu8MKNizXcbOc5CKxAY4U9R/wnH/BQv/o1/wCDP/h%2BNW/%2BZeueWXZfP4qMH/25H/5E9ejxjxhh/wCFmWIj6Yiuv/cxy2of8Eif%2BCbepZNx%2ByV4bXP/AD7yXMX/AKBKKxb7/giX/wAEv9Rybj9lm1XP/PDxRq0X/oF2K9D/AOE4/wCChf8A0a/8Gf8Aw/Grf/MvR/wnH/BQv/o1/wCDP/h%2BNW/%2BZesJZLk8t8NT/wDAI/5HqUvE3xIofw86xa9MTW/%2BWM8x/wCHIX/BOS3/AOQP8INa070%2BxePNXXH/AH1dGj/hy5%2BxjB/yCr74iWGOgs/iPqIx/wB9SGvTv%2BE4/wCChf8A0a/8Gf8Aw/Grf/MvXL%2BPv2jv27fh34r8EeENY/ZQ%2BEk1x488US6FpUlt8ddUKQTx6VqGpl5d3hgEJ5OnTKCoY73QYwSyx/YWS9MPBekbflY6f%2BIr%2BJr%2BLOcS/wDFVcv/AEpSOa/4c5/s8Q/8gz43/Gqy9PsvxRuxj8waP%2BHQ/wANov8AkHfti/tGWfp9m%2BLMwx%2BcRr03/hOP%2BChf/Rr/AMGf/D8at/8AMvR/wnH/AAUL/wCjX/gz/wCH41b/AOZej%2Bwso6UV/wCTL8poP%2BIqeIj3zKo/VUZf%2BlYeR5j/AMOmtOi/48P%2BCiX7VNr6CD4wED9bY1T%2BCv7Kt5%2BzJ/wUL8Frc/tMfFP4irrXwZ8ZbB8TPFQ1M6f5OreFc/ZyI08vzPNG/ru8qPpt59a/4Tj/AIKF/wDRr/wZ/wDD8at/8y9UPA/gf9qzxj%2B1Z4c%2BN3xu%2BHHw98M6N4Z%2BHviHQ4YfCvxDvtauru61K%2B0S4RmS40ixSKNE0uUFg7sWlQBcZI2oZVl%2BGqqpShaS85/k5tfgefmnH3F%2Bd4GeDx2K9pTna6dPDq9mmvehhqc1qltNdndXT91ooor0D48KKKKACiiigArwb/gnZ4U0vwx8FfF0%2Bmht%2Bq/Hn4lX12zY%2BaVvGesJ27BUUfhXvNfJX7JXiz9s7T/h74os/hj8A/hhq%2BhJ8afiL/Z%2Bo698XdR027mX/hM9ZLGS2i0C5SIhtwAEz5AByCdoTim030LjUqQhKCekrXXezuvuep9a0V4z/wAJx/wUL/6Nf%2BDP/h%2BNW/8AmXo/4Tj/AIKF/wDRr/wZ/wDD8at/8y9Mg9morxn/AITj/goX/wBGv/Bn/wAPxq3/AMy9H/Ccf8FC/wDo1/4M/wDh%2BNW/%2BZegD2aivnH4I/tHft2/Hj4MeEPjj4V/ZQ%2BElrpfjPwvp%2Bu6bbah8ddUWeGC7to7iNJAnhhlDhZAGCswyDgkc11H/Ccf8FC/%2BjX/AIM/%2BH41b/5l6APZqK8Z/wCE4/4KF/8ARr/wZ/8AD8at/wDMvR/wnH/BQv8A6Nf%2BDP8A4fjVv/mXoA9mor5x%2BN37R37dvwH%2BDHi/44%2BKv2UPhJdaX4M8L6hrupW2n/HXVGnmgtLaS4kSMP4YVS5WMhQzKMkZIHNdR/wnH/BQv/o1/wCDP/h%2BNW/%2BZegD2aivGf8AhOP%2BChf/AEa/8Gf/AA/Grf8AzL0f8Jx/wUL/AOjX/gz/AOH41b/5l6APZqK8Z/4Tj/goX/0a/wDBn/w/Grf/ADL1y/xd/aO/bt%2BDXhS08X%2BI/wBlD4SXNveeKNE0KOOy%2BOuqM4n1TVbXTIHO7wwo2LNdxs5zkIrEBjhSAfR1FeM/8Jx/wUL/AOjX/gz/AOH41b/5l6P%2BE4/4KF/9Gv8AwZ/8Pxq3/wAy9AHs1FeM/wDCcf8ABQv/AKNf%2BDP/AIfjVv8A5l6P%2BE4/4KF/9Gv/AAZ/8Pxq3/zL0AezUV84%2BPv2jv27fh34r8EeENY/ZQ%2BEk1x488US6FpUlt8ddUKQTx6VqGpl5d3hgEJ5OnTKCoY73QYwSy9R/wAJx/wUL/6Nf%2BDP/h%2BNW/8AmXoA9morxn/hOP8AgoX/ANGv/Bn/AMPxq3/zL0f8Jx/wUL/6Nf8Agz/4fjVv/mXoA9morxn/AITj/goX/wBGv/Bn/wAPxq3/AMy9cvq37R37duj/ABn0D4HXH7KHwkbVPEXhfV9ds7lPjrqnkRwadc6bbzI5PhjcHZtUgKgKQQkmSpChgD6Oorxn/hOP%2BChf/Rr/AMGf/D8at/8AMvR/wnH/AAUL/wCjX/gz/wCH41b/AOZegD2aivGf%2BE4/4KF/9Gv/AAZ/8Pxq3/zL0f8ACcf8FC/%2BjX/gz/4fjVv/AJl6APZqK%2BcdJ/aO/bt1j4z6/wDA63/ZQ%2BEi6p4d8L6Rrt5cv8ddU8iSDUbnUreFEI8Mbi6tpc5YFQAHjwWJYL1H/Ccf8FC/%2BjX/AIM/%2BH41b/5l6APZqK8Z/wCE4/4KF/8ARr/wZ/8AD8at/wDMvR/wnH/BQv8A6Nf%2BDP8A4fjVv/mXoA9morxn/hOP%2BChf/Rr/AMGf/D8at/8AMvXL%2BAf2jv27fiJ4r8b%2BENH/AGUPhJDceA/FEWharJc/HXVAk88mlafqYeLb4YJKeTqMKksFO9HGMAMwB9HUV4z/AMJx/wAFC/8Ao1/4M/8Ah%2BNW/wDmXo/4Tj/goX/0a/8ABn/w/Grf/MvQB7NXjP7L/wDyW/8AaO/7LNY/%2BoV4Xo/4Tj/goX/0a/8ABn/w/Grf/MvVv9lb4c/GnwfrHxQ8d/HTQPC%2Bk6p4%2B%2BIUWuWeleE/Etzq1va2sWg6Ppiq9xcWVmzSNJp0rlRFtCyINzHOAD1uiiigAooooAKKKKACiiigAooooAKKKKACiiigAooooAKKKKACiiigAooooAK%2BV/2nv2tPi58MPjH4s1rwD4d8HyeGPg/4f8P3vjU61pFxNquqW%2Br38qXMFhcR3EaWXkW1nHcZkinFzIUjIh8vzT9UV4z8Z/2Ifhx8bvikfiZrnjnxVpcWo2ukWvi/w1o11app3imDS72S9sYr5ZbeSYLHNNLn7PLAZY5DFMZYwqAA9mooooAKKKKAPmPw5%2B0r8TIf2/8AxR8H/iNrHh7wn4bXxBaaJ4Mi1H4Rayl14xgGgQajiDxG12unNLHd3OoAWgheTy7SYBQWaRfpyvK/Fn7LUHj/AOMmkfFPx78b/Gur6V4e12PWtA8AXB0yLRrHUI7d4I5w0Nkl7Ls8ySRUmupIxI%2B7Z8iBfVKACiiigDxf/goL8Xfjh%2Bz9%2ByP40%2BPXwCvfCkeseCdCu9cuoPGGi3N9bXdpa20sz26JbXVsySuyIokLlUBYlH4Fef8Ajz9rT4ueC/jx4t1Pwp4d8IRfDzwh8Y/CPw%2B8ZWc2kXB1vVdV12DRUj1CG7S4WGOOD%2B3NJjMUlvK8iQz4lj2oK9h/ax/Zxsv2tPgRr37PutfFXxT4R0nxPZS2OuX/AIQXTvtdzZSxPFNbbr%2B0uo0R1flkRZAVG115zxcH7APg6f4i2fxF8VfHHx9rrHWdJ1zxNo2oS6VFY%2BJ9c0xI0sdWvY7awiZbiIQWmFtmggY2NsXiYx5IB73RRRQAV4v%2B2T8Xfjh8ErXwD4x%2BFl74U/sbUPiZ4c8PeL7HxBotzc3Vza6rrNjpoNnLDdQpbSRrcyyb5EnUlEXZyTXtFeVftXfstv8AtVeG9C8Lz/H3xv4Gt9C8SWGuo3guHR2e7vbG8gvLNpTqWn3g2xXFvG4WMIG5WTep2gA84/Z5/aV%2BJmt/tVeLfgj8UNX8PeE9Oh8U63b%2BCfCUnwi1nTLnXraF0lN/b61cXf2DUHYyTSyxW0BfkuxXDE/TleS6T%2ByiH%2BMmi/GX4j/tAeO/Gs3he7vLvwnoXiEaTDYaPdXNvJayXES2Gn20sr/Z5p4V8%2BSVUWd9oBII9aoAKKKKAPD/ANu74ufHj9n74Nav8dfhR4x8C2On%2BFtFuby90XxZ4Zvb%2B58Q3uUWz0yzktr2D7PNcSkW6N5V0zSzxBYWPyt5/wDBH9r74z658S/BX9reDPCWkfDTxv8AE/xR8NvCvhrTtLmj1fRL/QIdW3zz3IuGt5oJG8P6miwx28RjVrY%2BZJlgPT/2lf2QYP2kvHngj4gTftA%2BO/CFz4Bu7m90Wx8MRaNPZyXsqCNbyaDU9OvEeeGPzFhkAUxieUj5myKvgP8AYa%2BHvgP4y2/xdh%2BIvi7UoNO13U9e0TwhqVzZf2TpWt6jG8eoapAkVqk/nzie7LK8zwo19cmOKPzOAD2uiiigAr5f/a5%2BPH7S/wAFviJp/hTSofAHjXR/HMOtW2i/DmLwffSawlraaHdXcl/cTi9eK6thdRW9tJCLWIH7fCgmMjIkn1BXh037E1xH%2B0f4r/aa0T9qv4l6dq/i3TYdOudLhg8Pz2mn2cMDRw21m1zpMtzbxLK73WxZtrzuXcODtoAZ%2Bwh%2B0H43%2BPfw9vLr4r%2BPtGvvF2nCzbX/AA3ZfC7V/CN5oDz2yyiC5stXup7hwW3%2BXcAJHIqHaG2k17pXm/wO/Zu074M%2BJ/EnxD1j4peKfHHirxXFY2%2BseJ/FzWC3L2lmJvstqkWn2trbRxRtc3LjbCGZriQszZGPSKACiiigD45/4KCftx/FT9jDxz/aeuaLoHjHwi%2Bjajrdv4Vl%2BHOp2Utumm6Nfakkn/CRTXT6ZPd/a9NGyxWBLoRzLKBthaRvXv2aPi78c9W%2BKnjf9nr9o658Kah4n8I6ToetR614K0i5sLG5sdUF5GkRgubm5dZYrjTrtS/m4kQxNsjJKit8df2EvBH7TmtXVr8f/i3418UeC7mS4kX4ZXkmmw6LFJNYzWTNvt7KO%2BkAjuJmCS3ToHfdt%2BRAvT/s%2BfszaR8A7zXvEV38UPFnjjxH4kNnHq3irxrcWb30ttaRGK1tR9jtreFYog8rDEe9nnld2dnJoA9KooooAK%2BI/wBqf9sr9rP4N/GrxB8KPB3hvw5411Ow0W413wwE%2BB/iCOTRQNR0y1Qwt9uceJpBY6pced/ZflPC0JWURiYR19uV4fr37Fup%2BJfHp%2BJ2tftc/FGbW9PgvIvBt4U0ADwqt1NDJP8AZIxpOydmjgW33Xq3TLEzhSruzkA6r9lj4sP8ZPhHB4svfiZo3iq/h1G6stUvtG8GX3h0W1xFKytazabqFxPdWc8YwrxzOHz821QwFejVw3wD%2BAvh74AeGdT0bSvFOt%2BINR1/XrjW/EniTxHNA17qt/MERp5RbxQwJiOKGJUhijjVIkAUYJPc0AFFFFABRRRQAUUUUAFFFFAFHxR4hsPCXhrUfFeqhza6ZYzXdyIly3lxoXbA7nCmvnP9ib9pP41%2BP/FOj%2BDPjZ4e8GWY8dfC2y%2BI3hmHwZpVxaDTI7y4Ju9PuzNcSi7mje5tn%2B2IIBO0sxMEe0F/pa7tLW/tZbG9t0mhmjaOaKVQyupGCpB4II4xXkP7M37FfgL9mDVX1fQPiD4t8Sy23hix8M%2BHR4svbWYaBoVm8j2%2Bm2pt7eEtGpk%2BaWczXEgji8yZ/LXAB7FRRRQAVwv7UHjz4i/Cz9mj4ifE74P%2BFF17xb4c8C6vqnhbQ2sZroajqNvZyy21sYYGWWYSSoieXGwdt2FIJBruqzvFuiX/AIl8Mah4f0vxXqOhXN7aSQ2%2BtaQsDXVi7KQJohcRSxF1PIEkbpkfMrDIIB5d%2BxT8Wp/ih8M76y1b4heH9Z1Pw7qq6deaZonww1Pwc%2BhoLaCSKzuNK1S5nuYXCOJFdvLR4pYtiYG9/Yq88%2BA/7O2k/A688S%2BI7n4ieJPGPiTxfqMN54i8U%2BK3sxd3Rht0t4IhHY21tbRRRxoAqxwpks7MWZmY%2Bh0AFFFFAHy5%2B1R%2B1j8UP2cPi944sviVo3hLxF8L7D9nfxf49ttCt9EuE1V20QaWs9tcXMly9vNFOt9OAgtkKhEy75YV2/7M/wAX/j5qnxc8Zfs6/tLP4SvPFHhjwx4e8Sx6r4K0m5sbKSy1Z9St1tjDc3Ny5lhuNIuwZRIFkR4m8uM7lqD4x/sK%2BHfjp8dW%2BMvjz47eOZdNm8Fan4Rvvh7DBov9iXejaktt9vtJC%2BmtekTtaQOzi6DqUIRkRmQ9J%2Bzv%2By7of7Pt9rXiOf4oeLfG/iHX7Wwsr/xP42ubSS9NhYpItnZj7JbW8flRGe4cEoZHe5ld3dmzQB6fRRRQAV8ifGv9pf8Aa28Ga7%2B0B4Et/CvgzxZe%2BAvD/hTxJ8NrHSfh/qd/Oseo6rqUIS8tYrx5dRngXTY51NsLclyQq/KrV9d14XL%2BxR4hi%2BOnjb4/6F%2B2h8VtK1bxvpFjplzY2Vn4Ya0022sri5ns0thLoryfujeXSgzPKXWciTzCqFQDq/2VPi3N8ZfhSPE2o/E7RvFOo2uq3Njq11o/gi/8NmzuIm%2Ba1n0zUbie6tJ0UruSZgxDK21VYV6TXCfAP4B6B8AdC1mx0/xbrniPVfE3iCXXPE/ibxJLbte6rfyQwwebILaGGCMLBb28KpFFGipCgC5yT3dABRRRQB8bftLftd/tLfs8fGaD4baynwz8a32twQTeEYdO8LXtpL4LvNS8Q6Z4e0ibU5XvphdRTtq84LRLZyOLG6WMMvmGL3H9lX4v/Ej4jDx/8PvjEdEn8VfDTx43hrWdV8NadNZ2Gp%2BZpenatb3ENvNPPJb5tdUt0eNppcSRyYYgjHC23/BNXwk118Q38Q/tL/E7Wbf4k68dc1i31I6F5lnqUVxDPp9zbXUWlpdKbB7e3FpG80kUSwoGR%2Bc%2BsfAP4C6H8A/D2rabZeL9c8Sat4i16bWvE/ijxK9sb/V76SOKHzphawQQLsggt4ESKKNFjgjULwSQDuqKKKAGXP2n7NJ9j2edsPlebnbuxxnHOM18QfFb9rn9tP4afETXPhtb23gPxnr3hi98NW%2BreOvBHwV1/Vo/DlvqzXj3thLpVnqU93czRw2VjdExTp%2B7uoWlgQGJpPt67hkuLWW3hupIHkjZVniCl4yRgMu4FcjqMgj1Br57%2BDH7AXiD4CfDa4%2BGnw7/AG6vjFFHdas%2BpzazeWXhOfUJbuV5ZLmeaZ9CP2mSd5d0kk4kfMabCgGCAes/AT4h2XxW%2BDvh/wCIVh8QNG8VJqeniR9f8P6TNYWl3ICVkKWs800tsVdWRoZJHeNlZWO5SB19cl8C/gv4S/Z9%2BF%2BnfCnwVc39xZWEt1cTX2q3Imur67urmW6urqZwqhpZrieaV9qqu6Q7VVcKOtoAKo%2BJ4fElz4b1C38G6nY2WryWUq6XeanYPdW0FwUIjklhjliaaNWwWRZIywBAdSdwvVm%2BMdBv/FHha/8ADul%2BLdS0G5vLV4oNa0cQG6sXI4miFxFLEXU8gSRuhx8ysMigD4e%2BG/7dn7Wvxg%2BKet/BL4Wab8Pk8Z6ba67fSeM/Ffwu1rQ11TTNItdFlSxl0S8vk1DT5Xu/EOxJp5nj8qGS4SF1nQH7G%2BAXxa034%2BfAnwV8ddG02Wzs/GvhLTdetLOZ9zwRXlrHcLGxAGSokAJ9RXi2r/8ABMjwPrWuX3xFu/2lPimnxA1ZLy11r4k217pEOrX%2BmXVta202mFE00WcNsUsrRh5FtFKskCyrKHLMfoPwX4P8NfDzwdpPgDwZpMWn6PoemQafpNhDnZbW0MaxxRrnnCoqqPpQBp0UUUAcv8adR8caN8Lda1v4c%2BIbHS9WsLM3UN9qHg%2B98QIkcZDygadYzwXN5I0SuqRQyBy7LhXPyN8W/CX/AIKI/H7xJ400PU/G9x4R8CeDNSnnXxB44vPgZ4imttYv4dfutIRLmVb6NPDM8lraWv7jVGklgeVY3zsCV9t/EzwZrvj3wlN4c8N/FLX/AAbeSSxvFr/hmKxe7g2sCVVb%2B2uYGDAFSHibgnGDgjxW6/4JzeFNQ8H3Hw21b9pD4m3fhjXNQmv/AB5oE1xo4i8YXc9411cTX0q6aLiLzSywtHZy2sQhiSNUUbtwB9E0UUUAFFFFABRRRQAUUUUAFFFFABRRRQAUUUUAFFFFABRRRQAUUUUAFFFFABRRRQAUUUUAFFFFABRRRQAUUUUAFFFFABRRRQAUUUUAFFFFABRRRQAUUUUAFFFFABRRRQAUUUUAFFFFABRRRQAUUUUAFFFFABRRRQAUUUUAFFFFABRRRQAUUUUAFFFFABRRRQAUUUUAFFFFABRRRQAUUUUAFFFFABRRRQAUUUUAFFFFABRRRQAUUUUAFFFFABRRRQAUUUUAFFFFABRRRQAUUUUAFFFFABRRRQAUUUUAFFFFABRRRQAUUUUAFFFFABRRRQAUUUUAf//Z\">"
      ]
     },
     "metadata": {
      "tags": []
     },
     "output_type": "display_data"
    }
   ],
   "source": [
    "# write the code here to get a new `step` operation and then run the cell with training loop above.\n",
    "# name your variables in the same way (e.g. logits, probas, classes, etc) for safety.\n",
    "### YOUR CODE HERE ###\n",
    "\n",
    "s = reset_tf_session()\n",
    "\n",
    "# Placeholders for the input data\n",
    "input_X = tf.placeholder(tf.float32, (None, 784)) # tf.placeholder(...) for flat X with shape[0] = None for any batch size\n",
    "input_y = tf.placeholder(tf.float32, (None, 10))# tf.placeholder(...) for one-hot encoded true labels\n",
    "\n",
    "hidden1 = tf.layers.dense(input_X, 256, activation=tf.nn.sigmoid)\n",
    "hidden2 = tf.layers.dense(hidden1, 256, activation=tf.nn.sigmoid)\n",
    "\n",
    "logits = tf.layers.dense(hidden2, 10) # logits for input_X, resulting shape should be [input_X.shape[0], 10]\n",
    "probas = tf.nn.softmax(logits, name='prob') # apply tf.nn.softmax to logits\n",
    "classes = tf.argmax(probas, axis=1)# apply tf.argmax to find a class index with highest probability\n",
    "\n",
    "# Loss should be a scalar number: average loss over all the objects with tf.reduce_mean().\n",
    "# Use tf.nn.softmax_cross_entropy_with_logits on top of one-hot encoded input_y and logits.\n",
    "# It is identical to calculating cross-entropy on top of probas, but is more numerically friendly (read the docs).\n",
    "loss = tf.reduce_mean(tf.nn.softmax_cross_entropy_with_logits(labels=input_y, logits=logits))# YOUR CODE HERE ### cross-entropy loss\n",
    "\n",
    "# Use a default tf.train.AdamOptimizer to get an SGD step\n",
    "\n",
    "step = tf.train.AdamOptimizer().minimize(loss)\n",
    "\n",
    "s.run(tf.global_variables_initializer())\n",
    "\n",
    "BATCH_SIZE = 512\n",
    "EPOCHS = 40\n",
    "\n",
    "# for logging the progress right here in Jupyter (for those who don't have TensorBoard)\n",
    "simpleTrainingCurves = matplotlib_utils.SimpleTrainingCurves(\"cross-entropy\", \"accuracy\")\n",
    "\n",
    "for epoch in range(EPOCHS):  # we finish an epoch when we've looked at all training samples\n",
    "    \n",
    "    batch_losses = []\n",
    "    for batch_start in range(0, X_train_flat.shape[0], BATCH_SIZE):  # data is already shuffled\n",
    "        _, batch_loss = s.run([step, loss], {input_X: X_train_flat[batch_start:batch_start+BATCH_SIZE], \n",
    "                                             input_y: y_train_oh[batch_start:batch_start+BATCH_SIZE]})\n",
    "        # collect batch losses, this is almost free as we need a forward pass for backprop anyway\n",
    "        batch_losses.append(batch_loss)\n",
    "\n",
    "    train_loss = np.mean(batch_losses)\n",
    "    val_loss = s.run(loss, {input_X: X_val_flat, input_y: y_val_oh})  # this part is usually small\n",
    "    train_accuracy = accuracy_score(y_train, s.run(classes, {input_X: X_train_flat}))  # this is slow and usually skipped\n",
    "    valid_accuracy = accuracy_score(y_val, s.run(classes, {input_X: X_val_flat}))  \n",
    "    simpleTrainingCurves.add(train_loss, val_loss, train_accuracy, valid_accuracy)"
   ]
  },
  {
   "cell_type": "markdown",
   "metadata": {
    "colab_type": "text",
    "id": "wHGLjM1TR5Hl"
   },
   "source": [
    "# Submit the MLP with 2 hidden layers\n",
    "Run these cells after training the MLP with 2 hidden layers"
   ]
  },
  {
   "cell_type": "code",
   "execution_count": null,
   "metadata": {
    "colab": {},
    "colab_type": "code",
    "id": "xj0HSgr_R5Hm"
   },
   "outputs": [],
   "source": [
    "## GRADED PART, DO NOT CHANGE!\n",
    "# Validation loss for MLP\n",
    "grader.set_answer(\"i8bgs\", s.run(loss, {input_X: X_val_flat, input_y: y_val_oh}))\n",
    "# Validation accuracy for MLP\n",
    "grader.set_answer(\"rE763\", accuracy_score(y_val, s.run(classes, {input_X: X_val_flat})))"
   ]
  },
  {
   "cell_type": "code",
   "execution_count": null,
   "metadata": {
    "colab": {
     "base_uri": "https://localhost:8080/",
     "height": 34
    },
    "colab_type": "code",
    "executionInfo": {
     "elapsed": 1554,
     "status": "ok",
     "timestamp": 1593460055069,
     "user": {
      "displayName": "Valera Karnushin",
      "photoUrl": "https://lh3.googleusercontent.com/a-/AOh14GjO7AN5Womfzv4SNPuWUoQqk3PtCv6chVdYaRpr=s64",
      "userId": "18443405740041874800"
     },
     "user_tz": -180
    },
    "id": "hfhX3AoaR5Hr",
    "outputId": "785eb111-7d29-4914-f659-8dea74cc8718"
   },
   "outputs": [
    {
     "name": "stdout",
     "output_type": "stream",
     "text": [
      "Submitted to Coursera platform. See results on assignment page!\n"
     ]
    }
   ],
   "source": [
    "# you can make submission with answers so far to check yourself at this stage\n",
    "grader.submit(COURSERA_EMAIL, COURSERA_TOKEN)"
   ]
  },
  {
   "cell_type": "code",
   "execution_count": null,
   "metadata": {
    "colab": {},
    "colab_type": "code",
    "id": "0Lmv5SRAoUP1"
   },
   "outputs": [],
   "source": []
  }
 ],
 "metadata": {
  "colab": {
   "collapsed_sections": [],
   "name": "digits_classification.ipynb",
   "provenance": [
    {
     "file_id": "https://github.com/hse-aml/intro-to-dl/blob/master/week2/v2/digits_classification.ipynb",
     "timestamp": 1593454362925
    }
   ],
   "toc_visible": true
  },
  "kernelspec": {
   "display_name": "Python 3",
   "language": "python",
   "name": "python3"
  },
  "language_info": {
   "codemirror_mode": {
    "name": "ipython",
    "version": 3
   },
   "file_extension": ".py",
   "mimetype": "text/x-python",
   "name": "python",
   "nbconvert_exporter": "python",
   "pygments_lexer": "ipython3",
   "version": "3.7.6"
  }
 },
 "nbformat": 4,
 "nbformat_minor": 1
}
